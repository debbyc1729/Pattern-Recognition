{
 "cells": [
  {
   "cell_type": "code",
   "execution_count": 1,
   "metadata": {
    "id": "BMH5lm_PrhdD"
   },
   "outputs": [],
   "source": [
    "# Only these three packages are allowed\n",
    "import numpy as np\n",
    "import pandas as pd\n",
    "import matplotlib.pyplot as plt"
   ]
  },
  {
   "cell_type": "code",
   "execution_count": 2,
   "metadata": {
    "id": "0FQ7Z945rnF5"
   },
   "outputs": [],
   "source": [
    "class FLD:\n",
    "    def __init__(self):\n",
    "        \"\"\"\n",
    "            You can add/change any variables/methods to meet your need.\n",
    "        \"\"\"\n",
    "        self.mean_vectors = None\n",
    "        self.sw = None\n",
    "        self.sb = None\n",
    "        self.w = None\n",
    "        self.slope = None\n",
    "\n",
    "    def fit(self, X, y):\n",
    "        num_features = X.shape[1]\n",
    "        unique_classes = np.unique(y)\n",
    "        num_classes = len(unique_classes)\n",
    "\n",
    "        mean_vectors = []\n",
    "        for classes in unique_classes:\n",
    "            mean_vectors.append(np.mean(X[y==classes], axis=0))\n",
    "        mean_vectors = np.array(mean_vectors)\n",
    "        \n",
    "        Sw = np.zeros((num_features, num_features))\n",
    "        Sb = np.zeros((num_features, num_features))\n",
    "        all_mean = np.mean(X, axis=0)\n",
    "        for classes, vectors in zip(unique_classes, mean_vectors):\n",
    "            X_class = X[y == classes]\n",
    "            Sw += np.dot((X_class - vectors).T, (X_class - vectors))\n",
    "            diff = (vectors - all_mean).reshape(num_features, 1)\n",
    "            Sb += len(X_class) * np.dot(diff, (diff.T))\n",
    "\n",
    "        eigenvalues, eigenvectors = np.linalg.eig(np.dot(np.linalg.inv(Sw), (Sb)))\n",
    "        eig_pairs = [(np.abs(eigenvalues[i]), eigenvectors[:,i]) for i in range(len(eigenvalues))]\n",
    "        eig_pairs.sort(key=lambda x: x[0], reverse=True)\n",
    "        w = eig_pairs[0][1]\n",
    "\n",
    "        self.slope = w[1] / w[0]\n",
    "\n",
    "        self.mean_vectors = mean_vectors\n",
    "        self.sw = Sw\n",
    "        self.sb = Sb\n",
    "        self.w = w\n",
    "\n",
    "    def predict_using_class_mean(self, X, y, X_test):\n",
    "        num_test = X_test.shape[0]\n",
    "        y_pred = np.zeros(num_test)\n",
    "        for i, x_test in enumerate(X_test):\n",
    "            distances = np.linalg.norm(self.mean_vectors - x_test, axis=1)\n",
    "            y_pred[i] = np.argmin(distances)\n",
    "        return y_pred\n",
    "\n",
    "    def predict_using_knn(self, X, y, X_test, k=1):\n",
    "        num_test = X_test.shape[0]\n",
    "        y_pred = np.zeros(num_test)\n",
    "        for i, x_test in enumerate(X_test):\n",
    "            distances = np.linalg.norm(X - x_test, axis=1)\n",
    "            sorted_index = np.argsort(distances)\n",
    "            knn_index = sorted_index[:k]\n",
    "            knn_labels = y[knn_index]\n",
    "            unique_labels, counts = np.unique(knn_labels, return_counts=True)\n",
    "            y_pred[i] = unique_labels[np.argmax(counts)]\n",
    "        return y_pred\n",
    "\n",
    "    def show_confusion_matrix(self, y, y_pred):\n",
    "        unique_labels = np.unique(y)\n",
    "        num_classes = len(unique_labels)\n",
    "        conf_matrix = np.zeros((num_classes, num_classes))\n",
    "        for i, true_label in enumerate(unique_labels):\n",
    "            for j, pred_label in enumerate(unique_labels):\n",
    "                conf_matrix[i, j] = np.sum((y == true_label) & (y_pred == pred_label))\n",
    "        \n",
    "        plt.imshow(conf_matrix, interpolation='nearest', cmap=plt.cm.Blues)\n",
    "        plt.title('Confusion matrix')\n",
    "        plt.xlabel('Predicted label')\n",
    "        plt.ylabel('True label')\n",
    "        plt.xticks(y_pred)\n",
    "        plt.yticks(y)\n",
    "        plt.colorbar()\n",
    "        thresh=conf_matrix.max()/2\n",
    "        iter=np.reshape([[[i, j] for j in range(num_classes)] for i in range(num_classes)], (conf_matrix.size, 2))\n",
    "        for i, j in iter:\n",
    "            plt.text(j, i, format(conf_matrix[i, j]), va='center', ha='center', color=\"white\" if conf_matrix[i, j] > thresh else \"black\")\n",
    "        plt.show()\n",
    "\n",
    "    def plot_projection(self, X, y):\n",
    "        colors = ['r', 'b', 'g']\n",
    "        plt.scatter(X[:, 0], X[:, 1], s=5, c=[colors[label] for label in y])\n",
    "        \n",
    "        X_lda = np.dot(X,self.w)\n",
    "        X_new = [i * self.w for i in X_lda]\n",
    "        X_new = np.array(X_new)\n",
    "        for i in range(len(X_lda)):\n",
    "            plt.scatter(X_new[i, 0], X_new[i, 1], s=5, c=colors[y[i]])\n",
    "            plt.plot([X[i, 0], X_new[i, 0]], [X[i, 1], X_new[i, 1]], linewidth=0.5, c=colors[y[i]], alpha=0.2)\n",
    "            \n",
    "        point_min = min(X_lda) * self.w\n",
    "        point_max = max(X_lda) * self.w\n",
    "        x_line = np.linspace(point_min[0], point_max[0], num=100)\n",
    "        y_line = np.linspace(point_min[1], point_max[1], num=100)\n",
    "        plt.plot(x_line, y_line, color='black', label='projection')\n",
    "        \n",
    "        title = 'Projection Line: w= ' + str(self.slope) + ', b= 0'\n",
    "        plt.title(title)\n",
    "        plt.legend()\n",
    "        plt.show()\n",
    "\n",
    "    def accuracy_score(self, y, y_pred):\n",
    "        sum_y = []\n",
    "        sum_y.append(y == y_pred)\n",
    "        return np.mean(sum_y)"
   ]
  },
  {
   "cell_type": "code",
   "execution_count": 3,
   "metadata": {
    "id": "fNjwTeUD2UAV"
   },
   "outputs": [],
   "source": [
    "class MultiClassLogisticRegression:\n",
    "    \n",
    "    def __init__(self):\n",
    "        \"\"\"\n",
    "            You can add/change any variables/methods to meet your need.\n",
    "        \"\"\"\n",
    "        self.epoch = []\n",
    "        self.train_loss = []\n",
    "        self.weights = None\n",
    "        self.num_classes = None\n",
    "        self.num_features = None\n",
    "\n",
    "    def fit(self, X, y, batch_size=16, lr=0.001, epoch=100):\n",
    "        y_one_hot = np.eye(np.max(y)+1)[y.reshape(-1)]\n",
    "        self.num_classes = y_one_hot.shape[1]\n",
    "        self.num_features = X.shape[1]\n",
    "        \n",
    "        self.weights = np.random.randn(self.num_features, self.num_classes)\n",
    "        #self.weights = np.zeros((self.num_features, self.num_classes))\n",
    "        \n",
    "        for epoch_i in range(epoch):\n",
    "            for batch in range(len(X)//batch_size):\n",
    "                X_batch = X[batch * batch_size: (batch + 1) * batch_size]\n",
    "                y_one_hot_batch = y_one_hot[batch * batch_size: (batch + 1) * batch_size]\n",
    "\n",
    "                z = np.dot(X_batch, self.weights)\n",
    "                probs = self.softmax(z)\n",
    "\n",
    "                error = probs - y_one_hot_batch\n",
    "                grad = np.dot(X_batch.T, error)\n",
    "                self.weights -= lr * (grad / batch_size)\n",
    "\n",
    "            self.epoch.append(epoch_i)\n",
    "            self.train_loss.append(self.cross_entropy(y_one_hot_batch, probs))\n",
    "\n",
    "    def predict(self, X):\n",
    "        z = np.dot(X, self.weights)\n",
    "        probs = self.softmax(z)\n",
    "        return np.argmax(probs, axis=1)\n",
    "\n",
    "    def evaluate(self, X, y):\n",
    "        y_pred = self.predict(X)\n",
    "        return self.accuracy_score(y, y_pred)\n",
    "\n",
    "    def softmax(self, z):\n",
    "        exp_z = np.exp(z - np.max(z, axis=1, keepdims=True))\n",
    "        result = exp_z / np.sum(exp_z, axis=1, keepdims=True)\n",
    "        return result\n",
    "\n",
    "    def cross_entropy(self, y, probs):\n",
    "        return -np.sum(y * np.log(probs)) / y.shape[0]\n",
    "    \n",
    "    def accuracy_score(self, y, y_pred):\n",
    "        sum_y = []\n",
    "        sum_y.append(y == y_pred)\n",
    "        return np.mean(sum_y)\n",
    "\n",
    "    def show_confusion_matrix(self, X, y):\n",
    "        y_pred = self.predict(X)\n",
    "        conf_matrix = np.zeros((self.num_classes, self.num_classes))\n",
    "        for i in range(len(y)):\n",
    "            conf_matrix[y[i], y_pred[i]] += 1\n",
    "        \n",
    "        plt.imshow(conf_matrix, interpolation='nearest', cmap=plt.cm.Blues)\n",
    "        plt.title('Confusion matrix')\n",
    "        plt.xlabel('Predicted label')\n",
    "        plt.ylabel('True label')\n",
    "        plt.xticks(y_pred)\n",
    "        plt.yticks(y)\n",
    "        plt.colorbar()\n",
    "        thresh=conf_matrix.max()/2\n",
    "        iter=np.reshape([[[i, j] for j in range(self.num_classes)] for i in range(self.num_classes)], (conf_matrix.size, 2))\n",
    "        for i, j in iter:\n",
    "            plt.text(j, i, format(conf_matrix[i, j]), va='center', ha='center', color=\"white\" if conf_matrix[i, j] > thresh else \"black\")\n",
    "\n",
    "        plt.show()\n",
    "    \n",
    "    def plot_curve(self):\n",
    "        plt.plot(self.epoch, self.train_loss, label='Training CE Loss')\n",
    "        plt.title('Training Loss')\n",
    "        plt.xlabel('Epoch')\n",
    "        plt.ylabel('CE Loss')\n",
    "        plt.legend()\n",
    "        plt.show()"
   ]
  },
  {
   "cell_type": "markdown",
   "metadata": {
    "id": "tW-wMhSw8fT8"
   },
   "source": [
    "# Prepare data for Q1 ~ Q12"
   ]
  },
  {
   "cell_type": "code",
   "execution_count": 4,
   "metadata": {
    "id": "k43aGfaQ7TsP"
   },
   "outputs": [],
   "source": [
    "df_train = pd.DataFrame(pd.read_csv(\"./PR_HW2_blob_train.csv\"))\n",
    "df_test  = pd.DataFrame(pd.read_csv(\"./PR_HW2_blob_test.csv\"))"
   ]
  },
  {
   "cell_type": "code",
   "execution_count": 5,
   "metadata": {
    "id": "2RqHvQCu76Yn"
   },
   "outputs": [
    {
     "name": "stdout",
     "output_type": "stream",
     "text": [
      "X_train (1000, 2)\n",
      "y_train (1000,)\n",
      "X_test (1000, 2)\n",
      "y_test (1000,)\n"
     ]
    }
   ],
   "source": [
    "X_train = df_train[['Feature1', 'Feature2']].to_numpy()\n",
    "y_train = df_train[['Target']].to_numpy().ravel()\n",
    "\n",
    "X_test = df_test[['Feature1', 'Feature2']].to_numpy()\n",
    "y_test = df_test[['Target']].to_numpy().ravel()\n",
    "\n",
    "print(\"X_train\", X_train.shape)\n",
    "print(\"y_train\", y_train.shape)\n",
    "print(\"X_test\",  X_test.shape)\n",
    "print(\"y_test\",  y_test.shape)"
   ]
  },
  {
   "cell_type": "markdown",
   "metadata": {
    "id": "E_HKrHzE8_Sy"
   },
   "source": [
    "# MultiClass Logistic Regression"
   ]
  },
  {
   "cell_type": "code",
   "execution_count": 6,
   "metadata": {
    "id": "xN1uUlEC9FqA"
   },
   "outputs": [],
   "source": [
    "# For Q1\n",
    "lr = 0.005\n",
    "batch_size = 50\n",
    "epoch = 5000\n",
    "\n",
    "logistic_reg = MultiClassLogisticRegression()\n",
    "logistic_reg.fit(X_train, y_train, lr=lr, batch_size=batch_size, epoch=epoch)"
   ]
  },
  {
   "cell_type": "code",
   "execution_count": 7,
   "metadata": {
    "id": "R_Y8kIlQ9Jcz"
   },
   "outputs": [
    {
     "name": "stdout",
     "output_type": "stream",
     "text": [
      "Training acc:  0.896\n"
     ]
    }
   ],
   "source": [
    "# For Q2\n",
    "print('Training acc: ', logistic_reg.evaluate(X_train, y_train))"
   ]
  },
  {
   "cell_type": "code",
   "execution_count": 8,
   "metadata": {
    "id": "TzqioRVD9Jgn"
   },
   "outputs": [
    {
     "name": "stdout",
     "output_type": "stream",
     "text": [
      "Testing acc:  0.885\n"
     ]
    }
   ],
   "source": [
    "# For Q3\n",
    "print('Testing acc: ', logistic_reg.evaluate(X_test, y_test))"
   ]
  },
  {
   "cell_type": "code",
   "execution_count": 9,
   "metadata": {
    "id": "B_BSVWmM9JkX"
   },
   "outputs": [
    {
     "data": {
      "image/png": "[encoded data removed]",
      "text/plain": [
       "<Figure size 432x288 with 1 Axes>"
      ]
     },
     "metadata": {
      "needs_background": "light"
     },
     "output_type": "display_data"
    }
   ],
   "source": [
    "# For Q4\n",
    "logistic_reg.plot_curve()"
   ]
  },
  {
   "cell_type": "code",
   "execution_count": 10,
   "metadata": {
    "id": "r8tAlAPc9JoP"
   },
   "outputs": [
    {
     "data": {
      "image/png": "[encoded data removed]",
      "text/plain": [
       "<Figure size 432x288 with 2 Axes>"
      ]
     },
     "metadata": {
      "needs_background": "light"
     },
     "output_type": "display_data"
    }
   ],
   "source": [
    "# For Q5\n",
    "logistic_reg.show_confusion_matrix(X_test, y_test)"
   ]
  },
  {
   "cell_type": "markdown",
   "metadata": {
    "id": "njoLZK84-sv3"
   },
   "source": [
    "# Fisher's Linear Discriminant Analysis"
   ]
  },
  {
   "cell_type": "code",
   "execution_count": 11,
   "metadata": {
    "id": "i-uhvrbe2mNe"
   },
   "outputs": [],
   "source": [
    "fld = FLD()\n",
    "\n",
    "fld.fit(X_train, y_train)"
   ]
  },
  {
   "cell_type": "code",
   "execution_count": 12,
   "metadata": {
    "id": "t95-qsEl2nl_"
   },
   "outputs": [
    {
     "name": "stdout",
     "output_type": "stream",
     "text": [
      "Class mean vector:  [[-4.17505764  6.35526804]\n",
      " [-9.43385176 -4.87830741]\n",
      " [-2.54454008  7.53144179]]\n"
     ]
    }
   ],
   "source": [
    "# For Q6\n",
    "print(\"Class mean vector: \", fld.mean_vectors)"
   ]
  },
  {
   "cell_type": "code",
   "execution_count": 13,
   "metadata": {
    "id": "czRrdHxV2olM"
   },
   "outputs": [
    {
     "name": "stdout",
     "output_type": "stream",
     "text": [
      "Within-class scatter matrix SW:  [[1052.70745046  -12.5828441 ]\n",
      " [ -12.5828441   971.29686189]]\n"
     ]
    }
   ],
   "source": [
    "# For Q7\n",
    "print(\"Within-class scatter matrix SW: \", fld.sw)"
   ]
  },
  {
   "cell_type": "code",
   "execution_count": 14,
   "metadata": {
    "id": "oETHjp4Y2oqg"
   },
   "outputs": [
    {
     "name": "stdout",
     "output_type": "stream",
     "text": [
      "Between-class scatter matrix SB:  [[ 8689.12907035 16344.86572983]\n",
      " [16344.86572983 31372.93949414]]\n"
     ]
    }
   ],
   "source": [
    "# For Q8\n",
    "print(\"Between-class scatter matrix SB: \", fld.sb)"
   ]
  },
  {
   "cell_type": "code",
   "execution_count": 15,
   "metadata": {
    "id": "dRytOEMl2otd"
   },
   "outputs": [
    {
     "name": "stdout",
     "output_type": "stream",
     "text": [
      "W:  [-0.44115384 -0.8974315 ]\n"
     ]
    }
   ],
   "source": [
    "# For Q9\n",
    "print(\"W: \", fld.w)"
   ]
  },
  {
   "cell_type": "code",
   "execution_count": 16,
   "metadata": {
    "id": "Q9XMtITV2owM",
    "scrolled": true
   },
   "outputs": [
    {
     "name": "stdout",
     "output_type": "stream",
     "text": [
      "FLD using class mean, accuracy:  0.886\n"
     ]
    },
    {
     "data": {
      "image/png": "[encoded data removed]",
      "text/plain": [
       "<Figure size 432x288 with 2 Axes>"
      ]
     },
     "metadata": {
      "needs_background": "light"
     },
     "output_type": "display_data"
    }
   ],
   "source": [
    "# For Q10\n",
    "y_pred = fld.predict_using_class_mean(X_train, y_train, X_test)\n",
    "print(\"FLD using class mean, accuracy: \", fld.accuracy_score(y_test, y_pred))\n",
    "\n",
    "fld.show_confusion_matrix(y_test, y_pred)"
   ]
  },
  {
   "cell_type": "code",
   "execution_count": 17,
   "metadata": {
    "id": "7mmAB2BZ2oy5"
   },
   "outputs": [
    {
     "name": "stdout",
     "output_type": "stream",
     "text": [
      "FLD using knn (k=1), accuracy:  0.839\n",
      "FLD using knn (k=2), accuracy:  0.846\n",
      "FLD using knn (k=3), accuracy:  0.878\n",
      "FLD using knn (k=4), accuracy:  0.876\n",
      "FLD using knn (k=5), accuracy:  0.878\n"
     ]
    }
   ],
   "source": [
    "# For Q11\n",
    "y_pred_k1 = fld.predict_using_knn(X_train, y_train, X_test, k=1)\n",
    "print(\"FLD using knn (k=1), accuracy: \", fld.accuracy_score(y_test, y_pred_k1))\n",
    "\n",
    "y_pred_k2 = fld.predict_using_knn(X_train, y_train, X_test, k=2)\n",
    "print(\"FLD using knn (k=2), accuracy: \", fld.accuracy_score(y_test, y_pred_k2))\n",
    "\n",
    "y_pred_k3 = fld.predict_using_knn(X_train, y_train, X_test, k=3)\n",
    "print(\"FLD using knn (k=3), accuracy: \", fld.accuracy_score(y_test, y_pred_k3))\n",
    "\n",
    "y_pred_k4 = fld.predict_using_knn(X_train, y_train, X_test, k=4)\n",
    "print(\"FLD using knn (k=4), accuracy: \", fld.accuracy_score(y_test, y_pred_k4))\n",
    "\n",
    "y_pred_k5 = fld.predict_using_knn(X_train, y_train, X_test, k=5)\n",
    "print(\"FLD using knn (k=5), accuracy: \", fld.accuracy_score(y_test, y_pred_k5))"
   ]
  },
  {
   "cell_type": "code",
   "execution_count": 18,
   "metadata": {
    "id": "uAaGRQkg2o1e",
    "scrolled": false
   },
   "outputs": [
    {
     "data": {
      "image/png": "[encoded data removed]",
      "text/plain": [
       "<Figure size 432x288 with 1 Axes>"
      ]
     },
     "metadata": {
      "needs_background": "light"
     },
     "output_type": "display_data"
    }
   ],
   "source": [
    "# For Q12, using only training data\n",
    "fld.plot_projection(X_train, y_train)"
   ]
  },
  {
   "cell_type": "markdown",
   "metadata": {
    "id": "PDeFV2_uAoL_"
   },
   "source": [
    "# Train your own model on provided dataset.\n",
    "You can only using 1) **Fisher's Linear Discriminant** or 2) **Logistic Regression** that you have implemented above."
   ]
  },
  {
   "cell_type": "code",
   "execution_count": 19,
   "metadata": {
    "id": "0GkkThFyBTN3"
   },
   "outputs": [],
   "source": [
    "df_train = pd.DataFrame(pd.read_csv(\"./PR_HW2_train.csv\"))\n",
    "df_val   = pd.DataFrame(pd.read_csv(\"./PR_HW2_val.csv\"))\n",
    "df_test  = pd.DataFrame(pd.read_csv(\"./PR_HW2_test.csv\"))"
   ]
  },
  {
   "cell_type": "code",
   "execution_count": 20,
   "metadata": {
    "id": "6Si9iL-0BWQS"
   },
   "outputs": [
    {
     "data": {
      "text/html": [
       "<div>\n",
       "<style scoped>\n",
       "    .dataframe tbody tr th:only-of-type {\n",
       "        vertical-align: middle;\n",
       "    }\n",
       "\n",
       "    .dataframe tbody tr th {\n",
       "        vertical-align: top;\n",
       "    }\n",
       "\n",
       "    .dataframe thead th {\n",
       "        text-align: right;\n",
       "    }\n",
       "</style>\n",
       "<table border=\"1\" class=\"dataframe\">\n",
       "  <thead>\n",
       "    <tr style=\"text-align: right;\">\n",
       "      <th></th>\n",
       "      <th>Feature1</th>\n",
       "      <th>Feature2</th>\n",
       "      <th>Feature3</th>\n",
       "      <th>Feature4</th>\n",
       "      <th>Target</th>\n",
       "    </tr>\n",
       "  </thead>\n",
       "  <tbody>\n",
       "    <tr>\n",
       "      <th>0</th>\n",
       "      <td>0.00668</td>\n",
       "      <td>0.00192</td>\n",
       "      <td>0.682</td>\n",
       "      <td>0.996</td>\n",
       "      <td>2.0</td>\n",
       "    </tr>\n",
       "    <tr>\n",
       "      <th>1</th>\n",
       "      <td>0.00680</td>\n",
       "      <td>0.00106</td>\n",
       "      <td>0.503</td>\n",
       "      <td>0.996</td>\n",
       "      <td>1.0</td>\n",
       "    </tr>\n",
       "    <tr>\n",
       "      <th>2</th>\n",
       "      <td>0.00742</td>\n",
       "      <td>0.00106</td>\n",
       "      <td>0.482</td>\n",
       "      <td>0.991</td>\n",
       "      <td>1.0</td>\n",
       "    </tr>\n",
       "    <tr>\n",
       "      <th>3</th>\n",
       "      <td>0.00685</td>\n",
       "      <td>0.00178</td>\n",
       "      <td>0.650</td>\n",
       "      <td>0.998</td>\n",
       "      <td>2.0</td>\n",
       "    </tr>\n",
       "    <tr>\n",
       "      <th>4</th>\n",
       "      <td>0.00680</td>\n",
       "      <td>0.00163</td>\n",
       "      <td>0.623</td>\n",
       "      <td>0.996</td>\n",
       "      <td>2.0</td>\n",
       "    </tr>\n",
       "  </tbody>\n",
       "</table>\n",
       "</div>"
      ],
      "text/plain": [
       "   Feature1  Feature2  Feature3  Feature4  Target\n",
       "0   0.00668   0.00192     0.682     0.996     2.0\n",
       "1   0.00680   0.00106     0.503     0.996     1.0\n",
       "2   0.00742   0.00106     0.482     0.991     1.0\n",
       "3   0.00685   0.00178     0.650     0.998     2.0\n",
       "4   0.00680   0.00163     0.623     0.996     2.0"
      ]
     },
     "execution_count": 20,
     "metadata": {},
     "output_type": "execute_result"
    }
   ],
   "source": [
    "df_train.head()"
   ]
  },
  {
   "cell_type": "code",
   "execution_count": 21,
   "metadata": {
    "id": "qw1B1bIkBdN4"
   },
   "outputs": [
    {
     "data": {
      "text/html": [
       "<div>\n",
       "<style scoped>\n",
       "    .dataframe tbody tr th:only-of-type {\n",
       "        vertical-align: middle;\n",
       "    }\n",
       "\n",
       "    .dataframe tbody tr th {\n",
       "        vertical-align: top;\n",
       "    }\n",
       "\n",
       "    .dataframe thead th {\n",
       "        text-align: right;\n",
       "    }\n",
       "</style>\n",
       "<table border=\"1\" class=\"dataframe\">\n",
       "  <thead>\n",
       "    <tr style=\"text-align: right;\">\n",
       "      <th></th>\n",
       "      <th>Feature1</th>\n",
       "      <th>Feature2</th>\n",
       "      <th>Feature3</th>\n",
       "      <th>Feature4</th>\n",
       "      <th>Target</th>\n",
       "    </tr>\n",
       "  </thead>\n",
       "  <tbody>\n",
       "    <tr>\n",
       "      <th>0</th>\n",
       "      <td>0.00699</td>\n",
       "      <td>0.000877</td>\n",
       "      <td>0.451</td>\n",
       "      <td>0.994</td>\n",
       "      <td>NaN</td>\n",
       "    </tr>\n",
       "    <tr>\n",
       "      <th>1</th>\n",
       "      <td>0.00736</td>\n",
       "      <td>0.001370</td>\n",
       "      <td>0.549</td>\n",
       "      <td>0.998</td>\n",
       "      <td>NaN</td>\n",
       "    </tr>\n",
       "    <tr>\n",
       "      <th>2</th>\n",
       "      <td>0.00687</td>\n",
       "      <td>0.001420</td>\n",
       "      <td>0.580</td>\n",
       "      <td>0.992</td>\n",
       "      <td>NaN</td>\n",
       "    </tr>\n",
       "    <tr>\n",
       "      <th>3</th>\n",
       "      <td>0.00752</td>\n",
       "      <td>0.002520</td>\n",
       "      <td>0.737</td>\n",
       "      <td>0.996</td>\n",
       "      <td>NaN</td>\n",
       "    </tr>\n",
       "    <tr>\n",
       "      <th>4</th>\n",
       "      <td>0.00685</td>\n",
       "      <td>0.000910</td>\n",
       "      <td>0.464</td>\n",
       "      <td>0.992</td>\n",
       "      <td>NaN</td>\n",
       "    </tr>\n",
       "  </tbody>\n",
       "</table>\n",
       "</div>"
      ],
      "text/plain": [
       "   Feature1  Feature2  Feature3  Feature4  Target\n",
       "0   0.00699  0.000877     0.451     0.994     NaN\n",
       "1   0.00736  0.001370     0.549     0.998     NaN\n",
       "2   0.00687  0.001420     0.580     0.992     NaN\n",
       "3   0.00752  0.002520     0.737     0.996     NaN\n",
       "4   0.00685  0.000910     0.464     0.992     NaN"
      ]
     },
     "execution_count": 21,
     "metadata": {},
     "output_type": "execute_result"
    }
   ],
   "source": [
    "df_test.head()"
   ]
  },
  {
   "cell_type": "code",
   "execution_count": 22,
   "metadata": {
    "id": "tDeQjZsuDagp"
   },
   "outputs": [
    {
     "name": "stdout",
     "output_type": "stream",
     "text": [
      "X_train_my (1703, 4)\n",
      "y_train_my (1703,)\n",
      "X_val_my (730, 4)\n",
      "y_val_my (730,)\n",
      "X_test_my (5677, 4)\n"
     ]
    }
   ],
   "source": [
    "# Data processing\n",
    "def standardize(X):\n",
    "    X_mean = np.mean(X, axis=0)\n",
    "    X_std = np.std(X, axis=0)\n",
    "    X_norm = (X - X_mean) / X_std * 10\n",
    "    \n",
    "    return X_norm\n",
    "\n",
    "# Refer to section \"Prepare data for Q1 ~ Q12\"\n",
    "X_train_my = df_train.drop(['Target'], axis=1).to_numpy()\n",
    "y_train_my = df_train[['Target']].to_numpy().ravel().astype(int)\n",
    "\n",
    "X_val_my = df_val.drop(['Target'], axis=1).to_numpy()\n",
    "y_val_my = df_val[['Target']].to_numpy().ravel().astype(int)\n",
    "\n",
    "x_test = df_test.drop(['Target'], axis=1).to_numpy()\n",
    "\n",
    "X_train_my = standardize(X_train_my)\n",
    "X_val_my = standardize(X_val_my)\n",
    "x_test = standardize(x_test)\n",
    "\n",
    "\n",
    "print(\"X_train_my\", X_train_my.shape)\n",
    "print(\"y_train_my\", y_train_my.shape)\n",
    "print(\"X_val_my\",  X_val_my.shape)\n",
    "print(\"y_val_my\",  y_val_my.shape)\n",
    "print(\"X_test_my\",  x_test.shape)"
   ]
  },
  {
   "cell_type": "code",
   "execution_count": 23,
   "metadata": {
    "id": "p9vEErR9Bf_a"
   },
   "outputs": [],
   "source": [
    "# Train your model here\n",
    "lr = 0.030\n",
    "batch_size = 50\n",
    "epoch = 1000\n",
    "\n",
    "your_model = MultiClassLogisticRegression()\n",
    "your_model.fit(X_train_my, y_train_my, lr=lr, batch_size=batch_size, epoch=epoch)"
   ]
  },
  {
   "cell_type": "code",
   "execution_count": 24,
   "metadata": {
    "scrolled": true
   },
   "outputs": [
    {
     "name": "stdout",
     "output_type": "stream",
     "text": [
      "Training acc:  0.9201409277745156\n",
      "Validation acc:  0.9123287671232877\n"
     ]
    },
    {
     "data": {
      "image/png": "[encoded data removed]",
      "text/plain": [
       "<Figure size 432x288 with 1 Axes>"
      ]
     },
     "metadata": {
      "needs_background": "light"
     },
     "output_type": "display_data"
    }
   ],
   "source": [
    "print('Training acc: ', your_model.evaluate(X_train_my, y_train_my))\n",
    "print('Validation acc: ', your_model.evaluate(X_val_my, y_val_my))\n",
    "your_model.plot_curve()"
   ]
  },
  {
   "cell_type": "code",
   "execution_count": 25,
   "metadata": {
    "id": "68NrvUPsBsy8"
   },
   "outputs": [
    {
     "name": "stdout",
     "output_type": "stream",
     "text": [
      "test_pred shape:  (5677,)\n"
     ]
    }
   ],
   "source": [
    "test_pred = your_model.predict(x_test)\n",
    "print(\"test_pred shape: \", test_pred.shape)"
   ]
  },
  {
   "cell_type": "markdown",
   "metadata": {
    "id": "LBTMFtdlB55p"
   },
   "source": [
    "# Output the csv file"
   ]
  },
  {
   "cell_type": "code",
   "execution_count": 26,
   "metadata": {
    "id": "C2OL-EI2B3ja"
   },
   "outputs": [],
   "source": [
    "# For Q13\n",
    "df_test = pd.DataFrame(pd.read_csv(\"./PR_HW2_test.csv\"))\n",
    "df_test[\"Target\"] = test_pred\n",
    "df_test.to_csv(\"sample_output.csv\")"
   ]
  },
  {
   "cell_type": "code",
   "execution_count": null,
   "metadata": {},
   "outputs": [],
   "source": []
  }
 ],
 "metadata": {
  "colab": {
   "provenance": []
  },
  "kernelspec": {
   "display_name": "Python 3",
   "language": "python",
   "name": "python3"
  },
  "language_info": {
   "codemirror_mode": {
    "name": "ipython",
    "version": 3
   },
   "file_extension": ".py",
   "mimetype": "text/x-python",
   "name": "python",
   "nbconvert_exporter": "python",
   "pygments_lexer": "ipython3",
   "version": "3.8.5"
  }
 },
 "nbformat": 4,
 "nbformat_minor": 1
}
