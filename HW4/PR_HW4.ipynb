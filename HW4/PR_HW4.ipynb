{
 "cells": [
  {
   "cell_type": "code",
   "execution_count": 1,
   "metadata": {
    "id": "Z0yGksgOp91i"
   },
   "outputs": [],
   "source": [
    "import numpy as np\n",
    "import pandas as pd\n",
    "import matplotlib.pyplot as plt\n",
    "from sklearn.svm import SVC, SVR\n",
    "from sklearn.metrics import accuracy_score"
   ]
  },
  {
   "cell_type": "code",
   "execution_count": 2,
   "metadata": {
    "id": "7ZYQFbA0qMZ-"
   },
   "outputs": [],
   "source": [
    "# Load data\n",
    "x_train = np.load(\"x_train.npy\")\n",
    "y_train = np.load(\"y_train.npy\")\n",
    "x_test = np.load(\"x_test.npy\")\n",
    "y_test = np.load(\"y_test.npy\")"
   ]
  },
  {
   "cell_type": "code",
   "execution_count": 3,
   "metadata": {
    "id": "u0ewnfh6qOoM"
   },
   "outputs": [
    {
     "name": "stdout",
     "output_type": "stream",
     "text": [
      "(7000, 300)\n",
      "(7000,)\n",
      "(3000, 300)\n"
     ]
    }
   ],
   "source": [
    "# 7000 data with 300 features\n",
    "print(x_train.shape)\n",
    "print(y_train.shape)\n",
    "print(x_test.shape)"
   ]
  },
  {
   "cell_type": "code",
   "execution_count": 4,
   "metadata": {
    "id": "ryZdU0fdqTkb"
   },
   "outputs": [
    {
     "name": "stdout",
     "output_type": "stream",
     "text": [
      "[0 1]\n"
     ]
    }
   ],
   "source": [
    "# It's a binary classification problem \n",
    "print(np.unique(y_train))"
   ]
  },
  {
   "cell_type": "markdown",
   "metadata": {
    "id": "qy1aMJ7sqwwg"
   },
   "source": [
    "# Q1"
   ]
  },
  {
   "cell_type": "code",
   "execution_count": 5,
   "metadata": {
    "id": "TI26_jRbqVX3"
   },
   "outputs": [],
   "source": [
    "def cross_validation(x_train, y_train, k=5):\n",
    "    n_samples = len(y_train)\n",
    "    fold_sizes = np.full(k, n_samples // k, dtype=np.int)\n",
    "    fold_sizes[:n_samples % k] += 1\n",
    "    current = 0\n",
    "    kfold_data = []\n",
    "    \n",
    "    for fold_size in fold_sizes:\n",
    "        start, stop = current, current + fold_size\n",
    "        validation_index = np.arange(start, stop)\n",
    "        train_index = np.concatenate([np.arange(0, start), np.arange(stop, n_samples)])\n",
    "        kfold_data.append([train_index, validation_index])\n",
    "        current = stop\n",
    "\n",
    "    return kfold_data"
   ]
  },
  {
   "cell_type": "code",
   "execution_count": 6,
   "metadata": {
    "id": "7jTma6saqf3E"
   },
   "outputs": [],
   "source": [
    "kfold_data = cross_validation(x_train, y_train, k=10)\n",
    "assert len(kfold_data) == 10 # should contain 10 fold of data\n",
    "assert len(kfold_data[0]) == 2 # each element should contain train fold and validation fold\n",
    "assert kfold_data[0][1].shape[0] == 700 # The number of data in each validation fold should equal to training data divieded by K"
   ]
  },
  {
   "cell_type": "markdown",
   "metadata": {
    "id": "IccJcpN_q0Z0"
   },
   "source": [
    "# K-Fold Example"
   ]
  },
  {
   "cell_type": "code",
   "execution_count": 7,
   "metadata": {
    "id": "O_zT2TAzqjay"
   },
   "outputs": [
    {
     "name": "stdout",
     "output_type": "stream",
     "text": [
      "Split: 1, Training index: [ 1  2  3  5  6  8  9 11 12 13 14 15 16 17 18 19], Validation index: [ 0  4  7 10]\n",
      "Split: 2, Training index: [ 0  1  2  3  4  5  7  8  9 10 11 12 14 15 16 18], Validation index: [ 6 13 17 19]\n",
      "Split: 3, Training index: [ 0  2  3  4  5  6  7 10 11 12 13 14 15 16 17 19], Validation index: [ 1  8  9 18]\n",
      "Split: 4, Training index: [ 0  1  4  6  7  8  9 10 11 13 14 15 16 17 18 19], Validation index: [ 2  3  5 12]\n",
      "Split: 5, Training index: [ 0  1  2  3  4  5  6  7  8  9 10 12 13 17 18 19], Validation index: [11 14 15 16]\n"
     ]
    }
   ],
   "source": [
    "from sklearn.model_selection import KFold\n",
    "\n",
    "X = np.arange(20)\n",
    "\n",
    "kf = KFold(n_splits=5, shuffle=True)\n",
    "kfold_data= []\n",
    "for i, (train_index, val_index) in enumerate(kf.split(X)):\n",
    "    print(\"Split: %s, Training index: %s, Validation index: %s\" % (i+1, train_index, val_index))\n",
    "    kfold_data.append([train_index, val_index])"
   ]
  },
  {
   "cell_type": "code",
   "execution_count": 8,
   "metadata": {
    "id": "lYCTmie5qnow"
   },
   "outputs": [],
   "source": [
    "assert len(kfold_data) == 5 # should contain 5 fold of data\n",
    "assert len(kfold_data[0]) == 2 # each element should contains index of training fold and validation fold\n",
    "assert kfold_data[0][1].shape[0] == 4 # The number of data in each validation fold should equal to training data divieded by K"
   ]
  },
  {
   "cell_type": "markdown",
   "metadata": {
    "id": "Gh-DQiNiq5v0"
   },
   "source": [
    "## Q2"
   ]
  },
  {
   "cell_type": "code",
   "execution_count": 9,
   "metadata": {
    "id": "31V1fW7Qq6la"
   },
   "outputs": [],
   "source": [
    "# (Example) Using SVC from sklearn\n",
    "\n",
    "clf = SVC(C=1.0, gamma=0.01, kernel='rbf')"
   ]
  },
  {
   "cell_type": "code",
   "execution_count": 10,
   "metadata": {
    "id": "VzBT0t6Yq_Dj"
   },
   "outputs": [],
   "source": [
    "best_c, best_gamma = None, None\n",
    "c_range = [0.001, 0.1, 1, 10, 100]\n",
    "gamma_range = [0.000001, 0.00001, 0.0001, 0.001, 0.01]\n",
    "\n",
    "best_score = 0\n",
    "\n",
    "k = 5\n",
    "kfold_data = cross_validation(x_train, y_train, k)\n",
    "\n",
    "Gridsearsh = np.zeros((len(c_range), len(gamma_range)))\n",
    "\n",
    "for c in c_range:\n",
    "    for gamma in gamma_range:\n",
    "        score_sum = 0\n",
    "        for train_indices, val_indices in kfold_data:\n",
    "            x_train_fold = x_train[train_indices]\n",
    "            y_train_fold = y_train[train_indices]\n",
    "            x_val_fold = x_train[val_indices]\n",
    "            y_val_fold = y_train[val_indices]\n",
    "\n",
    "            clf.set_params(C=c, gamma=gamma)\n",
    "            clf.fit(x_train_fold, y_train_fold)\n",
    "            y_val_pred = clf.predict(x_val_fold)\n",
    "            score_sum += accuracy_score(y_val_fold, y_val_pred)\n",
    "\n",
    "        average_score = score_sum / k\n",
    "        Gridsearsh[c_range.index(c), gamma_range.index(gamma)] = average_score\n",
    "        if average_score > best_score:\n",
    "            best_score = average_score\n",
    "            best_c = c\n",
    "            best_gamma= gamma\n",
    "\n",
    "best_parameters=(best_c, best_gamma)"
   ]
  },
  {
   "cell_type": "code",
   "execution_count": 11,
   "metadata": {
    "id": "mGTyHMFgrAXd"
   },
   "outputs": [
    {
     "name": "stdout",
     "output_type": "stream",
     "text": [
      "(best_c, best_gamma) is  (1, 0.0001)\n"
     ]
    }
   ],
   "source": [
    "print(\"(best_c, best_gamma) is \", best_parameters)"
   ]
  },
  {
   "cell_type": "markdown",
   "metadata": {
    "id": "KbPoOy0lrDPJ"
   },
   "source": [
    "# Q3"
   ]
  },
  {
   "cell_type": "code",
   "execution_count": 12,
   "metadata": {
    "id": "ibuxQOEQrEgJ"
   },
   "outputs": [
    {
     "data": {
      "image/png": "[encoded data removed]",
      "text/plain": [
       "<Figure size 432x288 with 2 Axes>"
      ]
     },
     "metadata": {
      "needs_background": "light"
     },
     "output_type": "display_data"
    }
   ],
   "source": [
    "Gridsearsh = np.round(Gridsearsh,3)\n",
    "\n",
    "plt.imshow(Gridsearsh, interpolation='nearest', cmap=plt.cm.RdBu)\n",
    "plt.title('Hyperparameter Gridsearsh')\n",
    "plt.xlabel('Gamma Parameter')\n",
    "plt.ylabel('C Parameter')\n",
    "\n",
    "x = [i for i in range(len(gamma_range))]\n",
    "y = [i for i in range(len(c_range))]\n",
    "plt.xticks(x, gamma_range)\n",
    "plt.yticks(y, c_range)\n",
    "plt.colorbar()\n",
    "\n",
    "Grid_max=Gridsearsh.max()\n",
    "Grid_min=Gridsearsh.min()\n",
    "iter=np.reshape([[[i, j] for j in range(len(gamma_range))] for i in range(len(c_range))], (Gridsearsh.size, 2))\n",
    "for i, j in iter:\n",
    "    if Gridsearsh[i, j] < (Grid_max - Grid_min)/4 + Grid_min or Gridsearsh[i, j] > (Grid_max - Grid_min)/4 * 3 + Grid_min:\n",
    "        plt.text(j, i, format(Gridsearsh[i, j]), va='center', ha='center', color=\"white\")\n",
    "    else:\n",
    "        plt.text(j, i, format(Gridsearsh[i, j]), va='center', ha='center', color=\"black\")\n",
    "\n",
    "plt.show()"
   ]
  },
  {
   "cell_type": "markdown",
   "metadata": {
    "id": "QVA-It-4rM9Q"
   },
   "source": [
    "## Q4"
   ]
  },
  {
   "cell_type": "code",
   "execution_count": 13,
   "metadata": {
    "id": "Zl963HdLrMKg"
   },
   "outputs": [
    {
     "name": "stdout",
     "output_type": "stream",
     "text": [
      "Accuracy score:  0.995\n"
     ]
    }
   ],
   "source": [
    "# Do Not Modify Below\n",
    "\n",
    "best_model = SVC(C=best_parameters[0], gamma=best_parameters[1], kernel='rbf')\n",
    "best_model.fit(x_train, y_train)\n",
    "\n",
    "y_pred = best_model.predict(x_test)\n",
    "\n",
    "print(\"Accuracy score: \", accuracy_score(y_pred, y_test))\n",
    "\n",
    "# If your accuracy here > 0.9 then you will get full credit (20 points)."
   ]
  }
 ],
 "metadata": {
  "colab": {
   "provenance": []
  },
  "kernelspec": {
   "display_name": "Python 3",
   "language": "python",
   "name": "python3"
  },
  "language_info": {
   "codemirror_mode": {
    "name": "ipython",
    "version": 3
   },
   "file_extension": ".py",
   "mimetype": "text/x-python",
   "name": "python",
   "nbconvert_exporter": "python",
   "pygments_lexer": "ipython3",
   "version": "3.8.5"
  }
 },
 "nbformat": 4,
 "nbformat_minor": 1
}
