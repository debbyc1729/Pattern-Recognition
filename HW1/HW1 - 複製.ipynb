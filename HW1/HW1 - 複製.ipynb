{
 "cells": [
  {
   "cell_type": "code",
   "execution_count": 308,
   "metadata": {
    "id": "2UCHEgmFnm56"
   },
   "outputs": [],
   "source": [
    "import numpy as np\n",
    "import pandas as pd\n",
    "import matplotlib.pyplot as plt "
   ]
  },
  {
   "cell_type": "code",
   "execution_count": 484,
   "metadata": {
    "id": "TsewcLvXnm5_"
   },
   "outputs": [],
   "source": [
    "# TODO\n",
    "# Implement the linear regression using gradient descent by only numpy\n",
    "\n",
    "class LinearRegression:\n",
    "    \n",
    "    def __init__(self):\n",
    "        \n",
    "        print(\"Don't cheat.\")\n",
    "        self.epoch = []\n",
    "        self.train_loss = []\n",
    "        self.weights = None\n",
    "\n",
    "    def fit(self, X, y, lr=0.001, epochs=100, batch_size=1):\n",
    "        #if X.ndim == 1:\n",
    "        #    X = X.reshape(X.shape[0], 1)\n",
    "        #m, n = X.shape\n",
    "        #X = np.hstack((np.ones((m, 1)), X))\n",
    "        #y = y.reshape(y.shape[0], 1)\n",
    "        #self.weights = np.zeros((n+1, 1))\n",
    "        #self.weights = self.weights.reshape(X.shape[0], 1)\n",
    "        self.weights = np.zeros(X.shape[1] + 1)\n",
    "        print(\"self.weights\", self.weights)\n",
    "        \n",
    "        for epoch in range(epochs):\n",
    "            for batch in range(len(X)//batch_size):\n",
    "                \n",
    "                X_batch = X[batch * batch_size: (batch + 1) * batch_size]\n",
    "                y_batch = y[batch * batch_size: (batch + 1) * batch_size]\n",
    "                \n",
    "                #y_pred = np.dot(X_batch, self.weights)\n",
    "                y_pred = self.predict(X_batch)\n",
    "                error = y_pred - y_batch\n",
    "                #gradient = np.dot(X_batch.T, error) / len(X_batch)\n",
    "                #self.weights -= lr * gradient\n",
    "                D_weight = 2 * np.mean(X_batch * error)  # Derivative wrt m\n",
    "                D_Intercept = 2 * np.mean(error)  # Derivative wrt c\n",
    "                #print(\"D_m\", D_m)\n",
    "                #print(\"D_c\", D_c)\n",
    "                \n",
    "                self.weights[:-1] -= lr * D_weight  # Update m\n",
    "                self.weights[-1] -= lr * D_Intercept  # Update c\n",
    "                \n",
    "                \n",
    "            self.epoch.append(epoch)\n",
    "            self.train_loss.append(self.get_loss(X, y))\n",
    "        '''\n",
    "        plt.plot(self.weights[0],self.weights[1],'o-',color='red')\n",
    "        plt.xlabel('intercept',color='black')\n",
    "        plt.ylabel('weight',color='black')\n",
    "        plt.xticks(color='black')\n",
    "        plt.yticks(color='black')\n",
    "        plt.show()\n",
    "        '''\n",
    "\n",
    "    def get_loss(self, X, y):\n",
    "        #y_pred = np.dot(X, self.weights)\n",
    "        y_pred = self.predict(X)\n",
    "        error = y_pred - y\n",
    "        #print(\"error: \", error[0])\n",
    "        #return np.mean(np.square(error))\n",
    "        return np.mean(error ** 2)\n",
    "\n",
    "    def predict(self, X):\n",
    "        #if X.ndim == 1:\n",
    "        #    X = X.reshape(X.shape[0], 1)\n",
    "        #m, n = X.shape\n",
    "        #X = np.hstack((np.ones((m, 1)), X))\n",
    "        \n",
    "        #return np.dot(X, self.weights)\n",
    "        return self.weights[-1] + self.weights[:-1] * X\n",
    "                \n",
    "    def evaluate(self, X, y):\n",
    "        if X.ndim == 1:\n",
    "            X = X.reshape(X.shape[0], 1)\n",
    "        m, n = X.shape\n",
    "        X = np.hstack((np.ones((m, 1)), X))\n",
    "        y = y.reshape(y.shape[0], 1)\n",
    "        \n",
    "        #y_pred = np.dot(X, self.weights)\n",
    "        y_pred = self.predict(X)\n",
    "        error = y_pred - y\n",
    "        #return np.mean(np.square(error))\n",
    "        return np.mean(error ** 2)\n",
    "        \n",
    "    def plot_curve(self):\n",
    "        # self.epoch and self.train_loss may be helpful here. \n",
    "        plt.plot(self.epoch, self.train_loss, label='Training Loss')\n",
    "        plt.title('Training Curve')\n",
    "        plt.xlabel('Epoch')\n",
    "        plt.ylabel('Loss')\n",
    "        plt.legend()\n",
    "        plt.show()"
   ]
  },
  {
   "cell_type": "markdown",
   "metadata": {
    "id": "vE0LqmRdnm6B"
   },
   "source": [
    "# Load data & data pre-processing"
   ]
  },
  {
   "cell_type": "code",
   "execution_count": 377,
   "metadata": {
    "id": "nS5JuNtvnm6C"
   },
   "outputs": [],
   "source": [
    "df_train = pd.DataFrame(pd.read_csv(\"./regression_train.csv\"))\n",
    "df_val   = pd.DataFrame(pd.read_csv(\"./regression_val.csv\"))\n",
    "df_test  = pd.DataFrame(pd.read_csv(\"./regression_test.csv\"))"
   ]
  },
  {
   "cell_type": "code",
   "execution_count": 378,
   "metadata": {
    "id": "8ZxnlaLdnm6C"
   },
   "outputs": [
    {
     "data": {
      "text/html": [
       "<div>\n",
       "<style scoped>\n",
       "    .dataframe tbody tr th:only-of-type {\n",
       "        vertical-align: middle;\n",
       "    }\n",
       "\n",
       "    .dataframe tbody tr th {\n",
       "        vertical-align: top;\n",
       "    }\n",
       "\n",
       "    .dataframe thead th {\n",
       "        text-align: right;\n",
       "    }\n",
       "</style>\n",
       "<table border=\"1\" class=\"dataframe\">\n",
       "  <thead>\n",
       "    <tr style=\"text-align: right;\">\n",
       "      <th></th>\n",
       "      <th>age</th>\n",
       "      <th>sex</th>\n",
       "      <th>bmi</th>\n",
       "      <th>children</th>\n",
       "      <th>smoker</th>\n",
       "      <th>region</th>\n",
       "      <th>charges</th>\n",
       "    </tr>\n",
       "  </thead>\n",
       "  <tbody>\n",
       "    <tr>\n",
       "      <th>0</th>\n",
       "      <td>19</td>\n",
       "      <td>female</td>\n",
       "      <td>27.900</td>\n",
       "      <td>0</td>\n",
       "      <td>yes</td>\n",
       "      <td>southwest</td>\n",
       "      <td>16884.92400</td>\n",
       "    </tr>\n",
       "    <tr>\n",
       "      <th>1</th>\n",
       "      <td>18</td>\n",
       "      <td>male</td>\n",
       "      <td>33.770</td>\n",
       "      <td>1</td>\n",
       "      <td>no</td>\n",
       "      <td>southeast</td>\n",
       "      <td>1725.55230</td>\n",
       "    </tr>\n",
       "    <tr>\n",
       "      <th>2</th>\n",
       "      <td>28</td>\n",
       "      <td>male</td>\n",
       "      <td>33.000</td>\n",
       "      <td>3</td>\n",
       "      <td>no</td>\n",
       "      <td>southeast</td>\n",
       "      <td>4449.46200</td>\n",
       "    </tr>\n",
       "    <tr>\n",
       "      <th>3</th>\n",
       "      <td>33</td>\n",
       "      <td>male</td>\n",
       "      <td>22.705</td>\n",
       "      <td>0</td>\n",
       "      <td>no</td>\n",
       "      <td>northwest</td>\n",
       "      <td>21984.47061</td>\n",
       "    </tr>\n",
       "    <tr>\n",
       "      <th>4</th>\n",
       "      <td>32</td>\n",
       "      <td>male</td>\n",
       "      <td>28.880</td>\n",
       "      <td>0</td>\n",
       "      <td>no</td>\n",
       "      <td>northwest</td>\n",
       "      <td>3866.85520</td>\n",
       "    </tr>\n",
       "  </tbody>\n",
       "</table>\n",
       "</div>"
      ],
      "text/plain": [
       "   age     sex     bmi  children smoker     region      charges\n",
       "0   19  female  27.900         0    yes  southwest  16884.92400\n",
       "1   18    male  33.770         1     no  southeast   1725.55230\n",
       "2   28    male  33.000         3     no  southeast   4449.46200\n",
       "3   33    male  22.705         0     no  northwest  21984.47061\n",
       "4   32    male  28.880         0     no  northwest   3866.85520"
      ]
     },
     "execution_count": 378,
     "metadata": {},
     "output_type": "execute_result"
    }
   ],
   "source": [
    "df_train.head()"
   ]
  },
  {
   "cell_type": "code",
   "execution_count": 379,
   "metadata": {
    "id": "CKxM6OJSnm6D"
   },
   "outputs": [
    {
     "data": {
      "text/html": [
       "<div>\n",
       "<style scoped>\n",
       "    .dataframe tbody tr th:only-of-type {\n",
       "        vertical-align: middle;\n",
       "    }\n",
       "\n",
       "    .dataframe tbody tr th {\n",
       "        vertical-align: top;\n",
       "    }\n",
       "\n",
       "    .dataframe thead th {\n",
       "        text-align: right;\n",
       "    }\n",
       "</style>\n",
       "<table border=\"1\" class=\"dataframe\">\n",
       "  <thead>\n",
       "    <tr style=\"text-align: right;\">\n",
       "      <th></th>\n",
       "      <th>age</th>\n",
       "      <th>sex</th>\n",
       "      <th>bmi</th>\n",
       "      <th>children</th>\n",
       "      <th>smoker</th>\n",
       "      <th>region</th>\n",
       "      <th>charges</th>\n",
       "    </tr>\n",
       "  </thead>\n",
       "  <tbody>\n",
       "    <tr>\n",
       "      <th>0</th>\n",
       "      <td>33</td>\n",
       "      <td>male</td>\n",
       "      <td>30.25</td>\n",
       "      <td>0</td>\n",
       "      <td>no</td>\n",
       "      <td>southeast</td>\n",
       "      <td>NaN</td>\n",
       "    </tr>\n",
       "    <tr>\n",
       "      <th>1</th>\n",
       "      <td>19</td>\n",
       "      <td>female</td>\n",
       "      <td>32.49</td>\n",
       "      <td>0</td>\n",
       "      <td>yes</td>\n",
       "      <td>northwest</td>\n",
       "      <td>NaN</td>\n",
       "    </tr>\n",
       "    <tr>\n",
       "      <th>2</th>\n",
       "      <td>50</td>\n",
       "      <td>male</td>\n",
       "      <td>37.07</td>\n",
       "      <td>1</td>\n",
       "      <td>no</td>\n",
       "      <td>southeast</td>\n",
       "      <td>NaN</td>\n",
       "    </tr>\n",
       "    <tr>\n",
       "      <th>3</th>\n",
       "      <td>41</td>\n",
       "      <td>female</td>\n",
       "      <td>32.60</td>\n",
       "      <td>3</td>\n",
       "      <td>no</td>\n",
       "      <td>southwest</td>\n",
       "      <td>NaN</td>\n",
       "    </tr>\n",
       "    <tr>\n",
       "      <th>4</th>\n",
       "      <td>52</td>\n",
       "      <td>female</td>\n",
       "      <td>24.86</td>\n",
       "      <td>0</td>\n",
       "      <td>no</td>\n",
       "      <td>southeast</td>\n",
       "      <td>NaN</td>\n",
       "    </tr>\n",
       "  </tbody>\n",
       "</table>\n",
       "</div>"
      ],
      "text/plain": [
       "   age     sex    bmi  children smoker     region  charges\n",
       "0   33    male  30.25         0     no  southeast      NaN\n",
       "1   19  female  32.49         0    yes  northwest      NaN\n",
       "2   50    male  37.07         1     no  southeast      NaN\n",
       "3   41  female  32.60         3     no  southwest      NaN\n",
       "4   52  female  24.86         0     no  southeast      NaN"
      ]
     },
     "execution_count": 379,
     "metadata": {},
     "output_type": "execute_result"
    }
   ],
   "source": [
    "df_test.head()"
   ]
  },
  {
   "cell_type": "code",
   "execution_count": 380,
   "metadata": {
    "id": "C2VQYttZohkx"
   },
   "outputs": [
    {
     "name": "stdout",
     "output_type": "stream",
     "text": [
      "<class 'pandas.core.frame.DataFrame'>\n",
      "RangeIndex: 938 entries, 0 to 937\n",
      "Data columns (total 7 columns):\n",
      " #   Column    Non-Null Count  Dtype  \n",
      "---  ------    --------------  -----  \n",
      " 0   age       938 non-null    int64  \n",
      " 1   sex       938 non-null    object \n",
      " 2   bmi       938 non-null    float64\n",
      " 3   children  938 non-null    int64  \n",
      " 4   smoker    938 non-null    object \n",
      " 5   region    938 non-null    object \n",
      " 6   charges   938 non-null    float64\n",
      "dtypes: float64(2), int64(2), object(3)\n",
      "memory usage: 51.4+ KB\n"
     ]
    }
   ],
   "source": [
    "df_train.info()"
   ]
  },
  {
   "cell_type": "code",
   "execution_count": 381,
   "metadata": {
    "id": "9wO-wPLypbzB"
   },
   "outputs": [
    {
     "name": "stdout",
     "output_type": "stream",
     "text": [
      "     age  sex     bmi  children  smoker  region      charges\n",
      "0     19    0  27.900         0       1       3  16884.92400\n",
      "1     18    1  33.770         1       0       2   1725.55230\n",
      "2     28    1  33.000         3       0       2   4449.46200\n",
      "3     33    1  22.705         0       0       1  21984.47061\n",
      "4     32    1  28.880         0       0       1   3866.85520\n",
      "..   ...  ...     ...       ...     ...     ...          ...\n",
      "933   45    0  35.300         0       0       3   7348.14200\n",
      "934   32    1  37.180         2       0       2   4673.39220\n",
      "935   59    0  27.500         0       0       3  12233.82800\n",
      "936   44    1  29.735         2       0       0  32108.66282\n",
      "937   39    0  24.225         5       0       1   8965.79575\n",
      "\n",
      "[938 rows x 7 columns]\n"
     ]
    }
   ],
   "source": [
    "# TODO\n",
    "# You may do the labelEncoder here\n",
    "\n",
    "#### For multiple features, please use the following settings.####\n",
    "# sex.female -> 0\n",
    "# sex.male -> 1\n",
    "\n",
    "# smoker.no -> 0\n",
    "# smoker.yes -> 1\n",
    "\n",
    "# region.northeast -> 0\n",
    "# region.northwest -> 1\n",
    "# region.southeast -> 2\n",
    "# region.southwest -> 3\n",
    "##################################################################\n",
    "\n",
    "\n",
    "# You may try different label encoding for training your own model\n",
    "\n",
    "\n",
    "sex_map = {'female': 0, 'male': 1}\n",
    "smoker_map = {'no': 0, 'yes': 1}\n",
    "region_map = {'northeast': 0, 'northwest': 1, 'southeast': 2, 'southwest': 3}\n",
    "\n",
    "\n",
    "#df_train['sex_encoded'] = df_train['sex'].map(sex_map)\n",
    "#df_train['smoker_encoded'] = df_train['smoker'].map(smoker_map)\n",
    "\n",
    "df_train['sex'] = df_train['sex'].map(sex_map)\n",
    "df_train['smoker'] = df_train['smoker'].map(smoker_map)\n",
    "df_train['region'] = df_train['region'].map(region_map)\n",
    "\n",
    "df_val['sex'] = df_val['sex'].map(sex_map)\n",
    "df_val['smoker'] = df_val['smoker'].map(smoker_map)\n",
    "df_val['region'] = df_val['region'].map(region_map)\n",
    "\n",
    "df_test['sex'] = df_test['sex'].map(sex_map)\n",
    "df_test['smoker'] = df_test['smoker'].map(smoker_map)\n",
    "df_test['region'] = df_test['region'].map(region_map)\n",
    "\n",
    "# Print the DataFrame\n",
    "print(df_train)"
   ]
  },
  {
   "cell_type": "markdown",
   "metadata": {
    "id": "OJj42I-0nm6F"
   },
   "source": [
    "# Single feature (using bmi)"
   ]
  },
  {
   "cell_type": "code",
   "execution_count": 382,
   "metadata": {
    "id": "yedo6qY3nm6F"
   },
   "outputs": [],
   "source": [
    "# Do not modify here\n",
    "\n",
    "x_train = df_train.drop(['charges'], axis=1)\n",
    "y_train = df_train['charges']\n",
    "x_train = x_train[['bmi']]\n",
    "\n",
    "x_val = df_val.drop(['charges'], axis=1)\n",
    "y_val = df_val['charges']\n",
    "x_val = x_val[['bmi']]\n",
    "\n",
    "x_test = df_test.drop(['charges'], axis=1)\n",
    "x_test = x_test[['bmi']]"
   ]
  },
  {
   "cell_type": "code",
   "execution_count": 383,
   "metadata": {
    "id": "ObKo4RachwJ_"
   },
   "outputs": [],
   "source": [
    "# TODO\n",
    "# You may convert data to NumPy here \n",
    "\n",
    "#print('x_train:', x_train)\n",
    "#print('y_train:', y_train)\n",
    "\n",
    "x_train = np.array(x_train)\n",
    "y_train = np.array(y_train)\n",
    "\n",
    "x_val = np.array(x_val)\n",
    "y_val = np.array(y_val)\n",
    "\n",
    "x_test = np.array(x_test)\n",
    "#y_test_np = np.array(y_test)\n",
    "\n",
    "#print('x_train_np:', x_train)\n",
    "#print('y_train_np:', y_train)"
   ]
  },
  {
   "cell_type": "code",
   "execution_count": 792,
   "metadata": {
    "id": "0ir1zYhBnm6H"
   },
   "outputs": [
    {
     "name": "stdout",
     "output_type": "stream",
     "text": [
      "938\n",
      "Don't cheat.\n",
      "self.weights [0. 0.]\n"
     ]
    }
   ],
   "source": [
    "batch_size = x_train.shape[0]\n",
    "print(batch_size)\n",
    "\n",
    "# TODO\n",
    "# Tune the parameters\n",
    "# Refer to slide page 9\n",
    "lr = 0.01\n",
    "epochs = 10\n",
    "\n",
    "linear_reg = LinearRegression()\n",
    "linear_reg.fit(x_train, y_train, lr=lr, epochs=epochs, batch_size=batch_size)"
   ]
  },
  {
   "cell_type": "code",
   "execution_count": 793,
   "metadata": {
    "id": "513GqkCdnm6H"
   },
   "outputs": [
    {
     "name": "stdout",
     "output_type": "stream",
     "text": [
      "Intercepts:  -71879236176029.0\n",
      "Weights:  [-2.30522033e+15]\n"
     ]
    }
   ],
   "source": [
    "print(\"Intercepts: \", linear_reg.weights[-1])\n",
    "print(\"Weights: \", linear_reg.weights[:-1])\n",
    "#Intercepts:  1382.5371644361621\n",
    "#Weights:  [380.13464539]])\n",
    "#print(\"Weights: \", linear_reg.weights)"
   ]
  },
  {
   "cell_type": "code",
   "execution_count": 795,
   "metadata": {
    "id": "gMtpEVnlnm6I"
   },
   "outputs": [
    {
     "name": "stdout",
     "output_type": "stream",
     "text": [
      "training loss:  2.6412623866233586e+33\n"
     ]
    }
   ],
   "source": [
    "print('training loss: ', linear_reg.evaluate(x_train, y_train))"
   ]
  },
  {
   "cell_type": "code",
   "execution_count": 796,
   "metadata": {
    "id": "xQ42eFmxoujI"
   },
   "outputs": [
    {
     "name": "stdout",
     "output_type": "stream",
     "text": [
      "validation loss:  2.5180065648530892e+33\n"
     ]
    }
   ],
   "source": [
    "print('validation loss: ', linear_reg.evaluate(x_val, y_val))"
   ]
  },
  {
   "cell_type": "code",
   "execution_count": 797,
   "metadata": {},
   "outputs": [
    {
     "name": "stdout",
     "output_type": "stream",
     "text": [
      "target training loss:  206775485.27349687\n",
      "target validation loss:  217130316.64340568\n"
     ]
    }
   ],
   "source": [
    "linear_reg.weights = [380.13464539, 1382.5371644361621]\n",
    "print('target training loss: ', linear_reg.evaluate(x_train, y_train))\n",
    "print('target validation loss: ', linear_reg.evaluate(x_val, y_val))"
   ]
  },
  {
   "cell_type": "code",
   "execution_count": 798,
   "metadata": {
    "id": "2aNyL15ynm6I"
   },
   "outputs": [],
   "source": [
    "test_pred = linear_reg.predict(x_test)\n",
    "#print(\"test_pred\", test_pred)"
   ]
  },
  {
   "cell_type": "code",
   "execution_count": 799,
   "metadata": {
    "id": "wM2x8Tvmnm6J"
   },
   "outputs": [
    {
     "data": {
      "image/png": "[encoded data removed]",
      "text/plain": [
       "<Figure size 432x288 with 1 Axes>"
      ]
     },
     "metadata": {
      "needs_background": "light"
     },
     "output_type": "display_data"
    }
   ],
   "source": [
    "linear_reg.plot_curve()"
   ]
  },
  {
   "cell_type": "code",
   "execution_count": 800,
   "metadata": {
    "id": "SIusBE_dnm6J"
   },
   "outputs": [
    {
     "data": {
      "image/png": "[encoded data removed]",
      "text/plain": [
       "<Figure size 432x288 with 1 Axes>"
      ]
     },
     "metadata": {
      "needs_background": "light"
     },
     "output_type": "display_data"
    }
   ],
   "source": [
    "# Use matplotlib to plot the predicted line with the training and validation samples\n",
    "\n",
    "# TODO\n",
    "\n",
    "#print(x_train)\n",
    "plt.plot(x_train, y_train, 'o', label='training samples')\n",
    "plt.plot(x_val, y_val, 'o', label='validation samples', color='yellow')\n",
    "#plt.plot(linear_reg.weights[:-1], linear_reg.weights[-1], 'o-', label='Linear Model', color='red')\n",
    "plt.plot(x_test, test_pred, label='Linear Model', color='red')\n",
    "plt.title('Charges vs BMI')\n",
    "plt.xlabel('BMI')\n",
    "plt.ylabel('Charges')\n",
    "plt.legend()\n",
    "plt.show()\n",
    "\n",
    "# plt.show()"
   ]
  },
  {
   "cell_type": "markdown",
   "metadata": {
    "id": "el3_fUSVnm6K"
   },
   "source": [
    "# Multiple features"
   ]
  },
  {
   "cell_type": "code",
   "execution_count": 32,
   "metadata": {
    "id": "hzijeACjnm6L"
   },
   "outputs": [],
   "source": [
    "# Do not modify here\n",
    "\n",
    "x_train = df_train.drop(['charges'], axis=1)\n",
    "y_train = df_train['charges']\n",
    "\n",
    "x_val = df_val.drop(['charges'], axis=1)\n",
    "y_val = df_val['charges']\n",
    "\n",
    "x_test = df_test.drop(['charges'], axis=1)"
   ]
  },
  {
   "cell_type": "code",
   "execution_count": 33,
   "metadata": {
    "id": "vz4Qn8Umh9Gm"
   },
   "outputs": [],
   "source": [
    "# TODO\n",
    "# You may convert data to NumPy here \n",
    "\n",
    "x_train = np.array(x_train)\n",
    "y_train = np.array(y_train)\n",
    "\n",
    "x_val = np.array(x_val)\n",
    "y_val = np.array(y_val)\n",
    "\n",
    "x_test = np.array(x_test)\n",
    "#y_test_np = np.array(y_test)\n",
    "\n",
    "#print('x_train_np:', x_train_np)\n",
    "#print('y_train_np:', y_train_np)"
   ]
  },
  {
   "cell_type": "code",
   "execution_count": 34,
   "metadata": {
    "id": "Ek8YAFolnm6M"
   },
   "outputs": [
    {
     "name": "stdout",
     "output_type": "stream",
     "text": [
      "Don't cheat.\n"
     ]
    }
   ],
   "source": [
    "batch_size = x_train.shape[0]\n",
    "\n",
    "# TODO\n",
    "# Tune the parameters\n",
    "# Refer to slide page 10\n",
    "lr = 0.0001\n",
    "epochs = 1000\n",
    "\n",
    "linear_reg = LinearRegression()\n",
    "linear_reg.fit(x_train, y_train, lr=lr, epochs=epochs, batch_size=batch_size)"
   ]
  },
  {
   "cell_type": "code",
   "execution_count": 35,
   "metadata": {
    "id": "77bKB1JKnm6M"
   },
   "outputs": [
    {
     "name": "stdout",
     "output_type": "stream",
     "text": [
      "Intercepts:  [-68.69911052]\n",
      "Weights:  [[-16.75752734]\n",
      " [225.51918894]\n",
      " [ 14.5172344 ]\n",
      " [141.94339237]\n",
      " [ 33.68083174]\n",
      " [371.80361537]]\n"
     ]
    }
   ],
   "source": [
    "print(\"Intercepts: \", linear_reg.weights[-1])\n",
    "print(\"Weights: \", linear_reg.weights[:-1])\n",
    "#Intercepts:  -11857.057377634748\n",
    "#Weights:  [  259.8508643   -383.54524271   333.33251548   442.55747876\n",
    "# 24032.22099619  -416.0143858 ]"
   ]
  },
  {
   "cell_type": "code",
   "execution_count": 36,
   "metadata": {
    "id": "v3bZe5XVnm6N"
   },
   "outputs": [
    {
     "name": "stdout",
     "output_type": "stream",
     "text": [
      "training loss:  124604859.88902822\n"
     ]
    }
   ],
   "source": [
    "print('training loss: ', linear_reg.evaluate(x_train, y_train))"
   ]
  },
  {
   "cell_type": "code",
   "execution_count": 37,
   "metadata": {
    "id": "MgnD2yXVo-67"
   },
   "outputs": [
    {
     "name": "stdout",
     "output_type": "stream",
     "text": [
      "validation loss:  132477617.4239376\n"
     ]
    }
   ],
   "source": [
    "print('validation loss: ', linear_reg.evaluate(x_val, y_val))"
   ]
  },
  {
   "cell_type": "code",
   "execution_count": 38,
   "metadata": {
    "id": "L1dVgl2unm6N"
   },
   "outputs": [],
   "source": [
    "test_pred = linear_reg.predict(x_test)"
   ]
  },
  {
   "cell_type": "code",
   "execution_count": 39,
   "metadata": {
    "id": "Js0IK_Blnm6O"
   },
   "outputs": [
    {
     "data": {
      "image/png": "[encoded data removed]",
      "text/plain": [
       "<Figure size 432x288 with 1 Axes>"
      ]
     },
     "metadata": {
      "needs_background": "light"
     },
     "output_type": "display_data"
    }
   ],
   "source": [
    "linear_reg.plot_curve()"
   ]
  },
  {
   "cell_type": "markdown",
   "metadata": {
    "id": "mcyR-WJzxRsw"
   },
   "source": [
    "# Train your own model and predict for testing data."
   ]
  },
  {
   "cell_type": "code",
   "execution_count": 40,
   "metadata": {
    "id": "x-Q1nUG6xZfM",
    "scrolled": true
   },
   "outputs": [
    {
     "name": "stdout",
     "output_type": "stream",
     "text": [
      "test_pred shape:  (200, 1)\n"
     ]
    }
   ],
   "source": [
    "test_pred = linear_reg.predict(x_test)\n",
    "print(\"test_pred shape: \", test_pred.shape)\n",
    "assert test_pred.shape == (200, 1)"
   ]
  },
  {
   "cell_type": "markdown",
   "metadata": {
    "id": "QCeukZcenm6O"
   },
   "source": [
    "# Output the csv file"
   ]
  },
  {
   "cell_type": "code",
   "execution_count": 41,
   "metadata": {
    "id": "SEN7NUgmnm6O"
   },
   "outputs": [],
   "source": [
    "df_test = pd.DataFrame(pd.read_csv(\"./regression_test.csv\"))\n",
    "df_test[\"charges\"] = test_pred\n",
    "df_test.to_csv(\"sample_output.csv\")"
   ]
  },
  {
   "cell_type": "code",
   "execution_count": null,
   "metadata": {},
   "outputs": [],
   "source": []
  }
 ],
 "metadata": {
  "colab": {
   "provenance": []
  },
  "kernelspec": {
   "display_name": "Python 3",
   "language": "python",
   "name": "python3"
  },
  "language_info": {
   "codemirror_mode": {
    "name": "ipython",
    "version": 3
   },
   "file_extension": ".py",
   "mimetype": "text/x-python",
   "name": "python",
   "nbconvert_exporter": "python",
   "pygments_lexer": "ipython3",
   "version": "3.8.5"
  },
  "vscode": {
   "interpreter": {
    "hash": "31f2aee4e71d21fbe5cf8b01ff0e069b9275f58929596ceb00d14d90e3e16cd6"
   }
  }
 },
 "nbformat": 4,
 "nbformat_minor": 1
}
