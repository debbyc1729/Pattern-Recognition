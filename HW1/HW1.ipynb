{
 "cells": [
  {
   "cell_type": "code",
   "execution_count": 1,
   "metadata": {
    "id": "2UCHEgmFnm56"
   },
   "outputs": [],
   "source": [
    "import numpy as np\n",
    "import pandas as pd\n",
    "import matplotlib.pyplot as plt "
   ]
  },
  {
   "cell_type": "code",
   "execution_count": 2,
   "metadata": {
    "id": "TsewcLvXnm5_"
   },
   "outputs": [],
   "source": [
    "# TODO\n",
    "# Implement the linear regression using gradient descent by only numpy\n",
    "\n",
    "class LinearRegression:\n",
    "    \n",
    "    def __init__(self):\n",
    "        \n",
    "        print(\"Don't cheat.\")\n",
    "        self.epoch = []\n",
    "        self.train_loss = []\n",
    "        self.weights = None\n",
    "\n",
    "    def fit(self, X, y, lr=0.001, epochs=100, batch_size=1):\n",
    "        m, n = X.shape\n",
    "        one = np.ones((X.shape[0], 1))\n",
    "        X = np.hstack((X, one))\n",
    "        y = y.reshape(y.shape[0], 1)\n",
    "        self.weights = np.zeros((n + 1, 1))\n",
    "        \n",
    "        for epoch in range(epochs):\n",
    "            for batch in range(len(X)//batch_size):\n",
    "                \n",
    "                X_batch = X[batch * batch_size: (batch + 1) * batch_size]\n",
    "                y_batch = y[batch * batch_size: (batch + 1) * batch_size]\n",
    "                \n",
    "                y_pred = np.dot(X_batch, self.weights)\n",
    "                error = y_pred - y_batch\n",
    "                \n",
    "                t = np.dot(X_batch.T, error)\n",
    "                \n",
    "                self.weights -= lr * (1/batch_size) * t\n",
    "                \n",
    "            self.epoch.append(epoch)\n",
    "            self.train_loss.append(self.get_loss(X, y))\n",
    "\n",
    "    def get_loss(self, X, y):\n",
    "        m = y.size\n",
    "        y_pred = np.dot(X, self.weights)\n",
    "        error = y_pred - y\n",
    "        \n",
    "        return (1/2) * np.mean(error ** 2)\n",
    "\n",
    "    def predict(self, X):\n",
    "        m, n = X.shape\n",
    "        one = np.ones((X.shape[0], 1))\n",
    "        X = np.hstack((X, one))\n",
    "        \n",
    "        return np.dot(X, self.weights)\n",
    "                \n",
    "    def evaluate(self, X, y):\n",
    "        m, n = X.shape\n",
    "        one = np.ones((X.shape[0], 1))\n",
    "        X = np.hstack((X, one))\n",
    "        y = y.reshape(y.shape[0], 1)\n",
    "        \n",
    "        y_pred = np.dot(X, self.weights)\n",
    "        error = y_pred - y\n",
    "        \n",
    "        return (1/2) * np.mean(error ** 2)\n",
    "        \n",
    "    def plot_curve(self):\n",
    "        # self.epoch and self.train_loss may be helpful here. \n",
    "        plt.plot(self.epoch, self.train_loss, label='Training Loss')\n",
    "        plt.title('Training Loss')\n",
    "        plt.xlabel('Epoch')\n",
    "        plt.ylabel('Loss')\n",
    "        plt.legend()\n",
    "        plt.show()"
   ]
  },
  {
   "cell_type": "markdown",
   "metadata": {
    "id": "vE0LqmRdnm6B"
   },
   "source": [
    "# Load data & data pre-processing"
   ]
  },
  {
   "cell_type": "code",
   "execution_count": 3,
   "metadata": {
    "id": "nS5JuNtvnm6C"
   },
   "outputs": [],
   "source": [
    "df_train = pd.DataFrame(pd.read_csv(\"./regression_train.csv\"))\n",
    "df_val   = pd.DataFrame(pd.read_csv(\"./regression_val.csv\"))\n",
    "df_test  = pd.DataFrame(pd.read_csv(\"./regression_test.csv\"))"
   ]
  },
  {
   "cell_type": "code",
   "execution_count": 4,
   "metadata": {
    "id": "8ZxnlaLdnm6C"
   },
   "outputs": [
    {
     "data": {
      "text/html": [
       "<div>\n",
       "<style scoped>\n",
       "    .dataframe tbody tr th:only-of-type {\n",
       "        vertical-align: middle;\n",
       "    }\n",
       "\n",
       "    .dataframe tbody tr th {\n",
       "        vertical-align: top;\n",
       "    }\n",
       "\n",
       "    .dataframe thead th {\n",
       "        text-align: right;\n",
       "    }\n",
       "</style>\n",
       "<table border=\"1\" class=\"dataframe\">\n",
       "  <thead>\n",
       "    <tr style=\"text-align: right;\">\n",
       "      <th></th>\n",
       "      <th>age</th>\n",
       "      <th>sex</th>\n",
       "      <th>bmi</th>\n",
       "      <th>children</th>\n",
       "      <th>smoker</th>\n",
       "      <th>region</th>\n",
       "      <th>charges</th>\n",
       "    </tr>\n",
       "  </thead>\n",
       "  <tbody>\n",
       "    <tr>\n",
       "      <th>0</th>\n",
       "      <td>19</td>\n",
       "      <td>female</td>\n",
       "      <td>27.900</td>\n",
       "      <td>0</td>\n",
       "      <td>yes</td>\n",
       "      <td>southwest</td>\n",
       "      <td>16884.92400</td>\n",
       "    </tr>\n",
       "    <tr>\n",
       "      <th>1</th>\n",
       "      <td>18</td>\n",
       "      <td>male</td>\n",
       "      <td>33.770</td>\n",
       "      <td>1</td>\n",
       "      <td>no</td>\n",
       "      <td>southeast</td>\n",
       "      <td>1725.55230</td>\n",
       "    </tr>\n",
       "    <tr>\n",
       "      <th>2</th>\n",
       "      <td>28</td>\n",
       "      <td>male</td>\n",
       "      <td>33.000</td>\n",
       "      <td>3</td>\n",
       "      <td>no</td>\n",
       "      <td>southeast</td>\n",
       "      <td>4449.46200</td>\n",
       "    </tr>\n",
       "    <tr>\n",
       "      <th>3</th>\n",
       "      <td>33</td>\n",
       "      <td>male</td>\n",
       "      <td>22.705</td>\n",
       "      <td>0</td>\n",
       "      <td>no</td>\n",
       "      <td>northwest</td>\n",
       "      <td>21984.47061</td>\n",
       "    </tr>\n",
       "    <tr>\n",
       "      <th>4</th>\n",
       "      <td>32</td>\n",
       "      <td>male</td>\n",
       "      <td>28.880</td>\n",
       "      <td>0</td>\n",
       "      <td>no</td>\n",
       "      <td>northwest</td>\n",
       "      <td>3866.85520</td>\n",
       "    </tr>\n",
       "  </tbody>\n",
       "</table>\n",
       "</div>"
      ],
      "text/plain": [
       "   age     sex     bmi  children smoker     region      charges\n",
       "0   19  female  27.900         0    yes  southwest  16884.92400\n",
       "1   18    male  33.770         1     no  southeast   1725.55230\n",
       "2   28    male  33.000         3     no  southeast   4449.46200\n",
       "3   33    male  22.705         0     no  northwest  21984.47061\n",
       "4   32    male  28.880         0     no  northwest   3866.85520"
      ]
     },
     "execution_count": 4,
     "metadata": {},
     "output_type": "execute_result"
    }
   ],
   "source": [
    "df_train.head()"
   ]
  },
  {
   "cell_type": "code",
   "execution_count": 5,
   "metadata": {
    "id": "CKxM6OJSnm6D"
   },
   "outputs": [
    {
     "data": {
      "text/html": [
       "<div>\n",
       "<style scoped>\n",
       "    .dataframe tbody tr th:only-of-type {\n",
       "        vertical-align: middle;\n",
       "    }\n",
       "\n",
       "    .dataframe tbody tr th {\n",
       "        vertical-align: top;\n",
       "    }\n",
       "\n",
       "    .dataframe thead th {\n",
       "        text-align: right;\n",
       "    }\n",
       "</style>\n",
       "<table border=\"1\" class=\"dataframe\">\n",
       "  <thead>\n",
       "    <tr style=\"text-align: right;\">\n",
       "      <th></th>\n",
       "      <th>age</th>\n",
       "      <th>sex</th>\n",
       "      <th>bmi</th>\n",
       "      <th>children</th>\n",
       "      <th>smoker</th>\n",
       "      <th>region</th>\n",
       "      <th>charges</th>\n",
       "    </tr>\n",
       "  </thead>\n",
       "  <tbody>\n",
       "    <tr>\n",
       "      <th>0</th>\n",
       "      <td>33</td>\n",
       "      <td>male</td>\n",
       "      <td>30.25</td>\n",
       "      <td>0</td>\n",
       "      <td>no</td>\n",
       "      <td>southeast</td>\n",
       "      <td>NaN</td>\n",
       "    </tr>\n",
       "    <tr>\n",
       "      <th>1</th>\n",
       "      <td>19</td>\n",
       "      <td>female</td>\n",
       "      <td>32.49</td>\n",
       "      <td>0</td>\n",
       "      <td>yes</td>\n",
       "      <td>northwest</td>\n",
       "      <td>NaN</td>\n",
       "    </tr>\n",
       "    <tr>\n",
       "      <th>2</th>\n",
       "      <td>50</td>\n",
       "      <td>male</td>\n",
       "      <td>37.07</td>\n",
       "      <td>1</td>\n",
       "      <td>no</td>\n",
       "      <td>southeast</td>\n",
       "      <td>NaN</td>\n",
       "    </tr>\n",
       "    <tr>\n",
       "      <th>3</th>\n",
       "      <td>41</td>\n",
       "      <td>female</td>\n",
       "      <td>32.60</td>\n",
       "      <td>3</td>\n",
       "      <td>no</td>\n",
       "      <td>southwest</td>\n",
       "      <td>NaN</td>\n",
       "    </tr>\n",
       "    <tr>\n",
       "      <th>4</th>\n",
       "      <td>52</td>\n",
       "      <td>female</td>\n",
       "      <td>24.86</td>\n",
       "      <td>0</td>\n",
       "      <td>no</td>\n",
       "      <td>southeast</td>\n",
       "      <td>NaN</td>\n",
       "    </tr>\n",
       "  </tbody>\n",
       "</table>\n",
       "</div>"
      ],
      "text/plain": [
       "   age     sex    bmi  children smoker     region  charges\n",
       "0   33    male  30.25         0     no  southeast      NaN\n",
       "1   19  female  32.49         0    yes  northwest      NaN\n",
       "2   50    male  37.07         1     no  southeast      NaN\n",
       "3   41  female  32.60         3     no  southwest      NaN\n",
       "4   52  female  24.86         0     no  southeast      NaN"
      ]
     },
     "execution_count": 5,
     "metadata": {},
     "output_type": "execute_result"
    }
   ],
   "source": [
    "df_test.head()"
   ]
  },
  {
   "cell_type": "code",
   "execution_count": 6,
   "metadata": {
    "id": "C2VQYttZohkx"
   },
   "outputs": [
    {
     "name": "stdout",
     "output_type": "stream",
     "text": [
      "<class 'pandas.core.frame.DataFrame'>\n",
      "RangeIndex: 938 entries, 0 to 937\n",
      "Data columns (total 7 columns):\n",
      " #   Column    Non-Null Count  Dtype  \n",
      "---  ------    --------------  -----  \n",
      " 0   age       938 non-null    int64  \n",
      " 1   sex       938 non-null    object \n",
      " 2   bmi       938 non-null    float64\n",
      " 3   children  938 non-null    int64  \n",
      " 4   smoker    938 non-null    object \n",
      " 5   region    938 non-null    object \n",
      " 6   charges   938 non-null    float64\n",
      "dtypes: float64(2), int64(2), object(3)\n",
      "memory usage: 51.4+ KB\n"
     ]
    }
   ],
   "source": [
    "df_train.info()"
   ]
  },
  {
   "cell_type": "code",
   "execution_count": 7,
   "metadata": {
    "id": "9wO-wPLypbzB"
   },
   "outputs": [],
   "source": [
    "# TODO\n",
    "# You may do the labelEncoder here\n",
    "\n",
    "#### For multiple features, please use the following settings.####\n",
    "# sex.female -> 0\n",
    "# sex.male -> 1\n",
    "\n",
    "# smoker.no -> 0\n",
    "# smoker.yes -> 1\n",
    "\n",
    "# region.northeast -> 0\n",
    "# region.northwest -> 1\n",
    "# region.southeast -> 2\n",
    "# region.southwest -> 3\n",
    "##################################################################\n",
    "\n",
    "\n",
    "# You may try different label encoding for training your own model\n",
    "\n",
    "\n",
    "sex_map = {'female': 0, 'male': 1}\n",
    "smoker_map = {'no': 0, 'yes': 1}\n",
    "region_map = {'northeast': 0, 'northwest': 1, 'southeast': 2, 'southwest': 3}\n",
    "\n",
    "\n",
    "#df_train['sex_encoded'] = df_train['sex'].map(sex_map)\n",
    "#df_train['smoker_encoded'] = df_train['smoker'].map(smoker_map)\n",
    "\n",
    "df_train['sex'] = df_train['sex'].map(sex_map)\n",
    "df_train['smoker'] = df_train['smoker'].map(smoker_map)\n",
    "df_train['region'] = df_train['region'].map(region_map)\n",
    "\n",
    "df_val['sex'] = df_val['sex'].map(sex_map)\n",
    "df_val['smoker'] = df_val['smoker'].map(smoker_map)\n",
    "df_val['region'] = df_val['region'].map(region_map)\n",
    "\n",
    "df_test['sex'] = df_test['sex'].map(sex_map)\n",
    "df_test['smoker'] = df_test['smoker'].map(smoker_map)\n",
    "df_test['region'] = df_test['region'].map(region_map)\n",
    "\n",
    "#print(df_train)"
   ]
  },
  {
   "cell_type": "markdown",
   "metadata": {
    "id": "OJj42I-0nm6F"
   },
   "source": [
    "# Single feature (using bmi)"
   ]
  },
  {
   "cell_type": "code",
   "execution_count": 8,
   "metadata": {
    "id": "yedo6qY3nm6F"
   },
   "outputs": [],
   "source": [
    "# Do not modify here\n",
    "\n",
    "x_train = df_train.drop(['charges'], axis=1)\n",
    "y_train = df_train['charges']\n",
    "x_train = x_train[['bmi']]\n",
    "\n",
    "x_val = df_val.drop(['charges'], axis=1)\n",
    "y_val = df_val['charges']\n",
    "x_val = x_val[['bmi']]\n",
    "\n",
    "x_test = df_test.drop(['charges'], axis=1)\n",
    "x_test = x_test[['bmi']]"
   ]
  },
  {
   "cell_type": "code",
   "execution_count": 9,
   "metadata": {
    "id": "ObKo4RachwJ_"
   },
   "outputs": [],
   "source": [
    "# TODO\n",
    "# You may convert data to NumPy here \n",
    "\n",
    "x_train = np.array(x_train)\n",
    "y_train = np.array(y_train)\n",
    "\n",
    "x_val = np.array(x_val)\n",
    "y_val = np.array(y_val)\n",
    "\n",
    "x_test = np.array(x_test)"
   ]
  },
  {
   "cell_type": "code",
   "execution_count": 10,
   "metadata": {
    "id": "0ir1zYhBnm6H"
   },
   "outputs": [
    {
     "name": "stdout",
     "output_type": "stream",
     "text": [
      "Don't cheat.\n"
     ]
    }
   ],
   "source": [
    "batch_size = x_train.shape[0]\n",
    "\n",
    "# TODO\n",
    "# Tune the parameters\n",
    "# Refer to slide page 9\n",
    "lr = 0.001\n",
    "epochs = 250000\n",
    "\n",
    "linear_reg = LinearRegression()\n",
    "linear_reg.fit(x_train, y_train, lr=lr, epochs=epochs, batch_size=batch_size)"
   ]
  },
  {
   "cell_type": "code",
   "execution_count": 11,
   "metadata": {
    "id": "513GqkCdnm6H"
   },
   "outputs": [
    {
     "name": "stdout",
     "output_type": "stream",
     "text": [
      "Intercepts:  [1382.38621394]\n",
      "Weights:  [[380.13935218]]\n"
     ]
    }
   ],
   "source": [
    "print(\"Intercepts: \", linear_reg.weights[-1])\n",
    "print(\"Weights: \", linear_reg.weights[:-1])\n",
    "#Intercepts:  1382.5371644361621\n",
    "#Weights:  [380.13464539]])"
   ]
  },
  {
   "cell_type": "code",
   "execution_count": 12,
   "metadata": {
    "id": "gMtpEVnlnm6I"
   },
   "outputs": [
    {
     "name": "stdout",
     "output_type": "stream",
     "text": [
      "training loss:  69781032.74212956\n"
     ]
    }
   ],
   "source": [
    "print('training loss: ', linear_reg.evaluate(x_train, y_train))"
   ]
  },
  {
   "cell_type": "code",
   "execution_count": 13,
   "metadata": {
    "id": "xQ42eFmxoujI"
   },
   "outputs": [
    {
     "name": "stdout",
     "output_type": "stream",
     "text": [
      "validation loss:  68460131.75953527\n"
     ]
    }
   ],
   "source": [
    "print('validation loss: ', linear_reg.evaluate(x_val, y_val))"
   ]
  },
  {
   "cell_type": "code",
   "execution_count": 14,
   "metadata": {
    "id": "2aNyL15ynm6I"
   },
   "outputs": [],
   "source": [
    "test_pred = linear_reg.predict(x_test)\n",
    "#print(\"test_pred\", test_pred)"
   ]
  },
  {
   "cell_type": "code",
   "execution_count": 15,
   "metadata": {
    "id": "wM2x8Tvmnm6J"
   },
   "outputs": [
    {
     "data": {
      "image/png": "[encoded data removed]",
      "text/plain": [
       "<Figure size 432x288 with 1 Axes>"
      ]
     },
     "metadata": {
      "needs_background": "light"
     },
     "output_type": "display_data"
    }
   ],
   "source": [
    "linear_reg.plot_curve()"
   ]
  },
  {
   "cell_type": "code",
   "execution_count": 16,
   "metadata": {
    "id": "SIusBE_dnm6J"
   },
   "outputs": [
    {
     "data": {
      "image/png": "[encoded data removed]",
      "text/plain": [
       "<Figure size 432x288 with 1 Axes>"
      ]
     },
     "metadata": {
      "needs_background": "light"
     },
     "output_type": "display_data"
    }
   ],
   "source": [
    "# Use matplotlib to plot the predicted line with the training and validation samples\n",
    "\n",
    "# TODO\n",
    "\n",
    "plt.plot(x_train, y_train, 'o', label='training samples', color = 'blue')\n",
    "plt.plot(x_val, y_val, 'o', label='validation samples', color='orange')\n",
    "plt.plot(x_test, test_pred, label='Linear Model', color='red')\n",
    "plt.title('Charges vs BMI')\n",
    "plt.xlabel('BMI')\n",
    "plt.ylabel('Charges')\n",
    "plt.legend()\n",
    "plt.show()"
   ]
  },
  {
   "cell_type": "markdown",
   "metadata": {
    "id": "el3_fUSVnm6K"
   },
   "source": [
    "# Multiple features"
   ]
  },
  {
   "cell_type": "code",
   "execution_count": 17,
   "metadata": {
    "id": "hzijeACjnm6L"
   },
   "outputs": [],
   "source": [
    "# Do not modify here\n",
    "\n",
    "x_train = df_train.drop(['charges'], axis=1)\n",
    "y_train = df_train['charges']\n",
    "\n",
    "x_val = df_val.drop(['charges'], axis=1)\n",
    "y_val = df_val['charges']\n",
    "\n",
    "x_test = df_test.drop(['charges'], axis=1)"
   ]
  },
  {
   "cell_type": "code",
   "execution_count": 18,
   "metadata": {
    "id": "vz4Qn8Umh9Gm"
   },
   "outputs": [],
   "source": [
    "# TODO\n",
    "# You may convert data to NumPy here \n",
    "\n",
    "x_train = np.array(x_train)\n",
    "y_train = np.array(y_train)\n",
    "\n",
    "x_val = np.array(x_val)\n",
    "y_val = np.array(y_val)\n",
    "\n",
    "x_test = np.array(x_test)\n",
    "\n",
    "#print(\"X.ndim\", x_train.ndim)\n",
    "#print(\"X.shape[1]\", x_train.shape[1])"
   ]
  },
  {
   "cell_type": "code",
   "execution_count": 19,
   "metadata": {
    "id": "Ek8YAFolnm6M"
   },
   "outputs": [
    {
     "name": "stdout",
     "output_type": "stream",
     "text": [
      "Don't cheat.\n"
     ]
    }
   ],
   "source": [
    "batch_size = x_train.shape[0]\n",
    "\n",
    "# TODO\n",
    "# Tune the parameters\n",
    "# Refer to slide page 10\n",
    "lr = 0.0007\n",
    "epochs = 650000\n",
    "\n",
    "linear_reg = LinearRegression()\n",
    "linear_reg.fit(x_train, y_train, lr=lr, epochs=epochs, batch_size=batch_size)"
   ]
  },
  {
   "cell_type": "code",
   "execution_count": 20,
   "metadata": {
    "id": "77bKB1JKnm6M"
   },
   "outputs": [
    {
     "name": "stdout",
     "output_type": "stream",
     "text": [
      "Intercepts:  [-11857.0282986]\n",
      "Weights:  [[  259.85072835]\n",
      " [ -383.5471172 ]\n",
      " [  333.3318584 ]\n",
      " [  442.55699937]\n",
      " [24032.21979141]\n",
      " [ -416.01494403]]\n"
     ]
    }
   ],
   "source": [
    "print(\"Intercepts: \", linear_reg.weights[-1])\n",
    "print(\"Weights: \", linear_reg.weights[:-1])\n",
    "#Intercepts:  -11857.057377634748\n",
    "#Weights:  [  259.8508643   \n",
    "#-383.54524271   \n",
    "#333.33251548   \n",
    "#442.55747876\n",
    "# 24032.22099619  \n",
    "#-416.0143858 ]"
   ]
  },
  {
   "cell_type": "code",
   "execution_count": 21,
   "metadata": {
    "id": "v3bZe5XVnm6N"
   },
   "outputs": [
    {
     "name": "stdout",
     "output_type": "stream",
     "text": [
      "training loss:  17348585.126771744\n"
     ]
    }
   ],
   "source": [
    "print('training loss: ', linear_reg.evaluate(x_train, y_train))"
   ]
  },
  {
   "cell_type": "code",
   "execution_count": 22,
   "metadata": {
    "id": "MgnD2yXVo-67"
   },
   "outputs": [
    {
     "name": "stdout",
     "output_type": "stream",
     "text": [
      "validation loss:  20979281.826353323\n"
     ]
    }
   ],
   "source": [
    "print('validation loss: ', linear_reg.evaluate(x_val, y_val))"
   ]
  },
  {
   "cell_type": "code",
   "execution_count": 23,
   "metadata": {
    "id": "L1dVgl2unm6N"
   },
   "outputs": [],
   "source": [
    "test_pred = linear_reg.predict(x_test)"
   ]
  },
  {
   "cell_type": "code",
   "execution_count": 24,
   "metadata": {
    "id": "Js0IK_Blnm6O",
    "scrolled": true
   },
   "outputs": [
    {
     "data": {
      "image/png": "[encoded data removed]",
      "text/plain": [
       "<Figure size 432x288 with 1 Axes>"
      ]
     },
     "metadata": {
      "needs_background": "light"
     },
     "output_type": "display_data"
    }
   ],
   "source": [
    "linear_reg.plot_curve()"
   ]
  },
  {
   "cell_type": "markdown",
   "metadata": {
    "id": "mcyR-WJzxRsw"
   },
   "source": [
    "# Train your own model and predict for testing data."
   ]
  },
  {
   "cell_type": "code",
   "execution_count": 25,
   "metadata": {},
   "outputs": [],
   "source": [
    "##age sex bmi children smoker region charges\n",
    "\n",
    "x_train_my = df_train.drop(['charges'], axis=1)\n",
    "y_train_my = df_train['charges']\n",
    "#x_train_my = x_train_my[['region']]\n",
    "x_train_my = df_train.drop(['charges','sex'], axis=1)\n",
    "\n",
    "x_val_my = df_val.drop(['charges'], axis=1)\n",
    "y_val_my = df_val['charges']\n",
    "#x_val_my = x_val_my[['region']]\n",
    "x_val_my = df_val.drop(['charges','sex'], axis=1)\n",
    "\n",
    "x_test_my = df_test.drop(['charges'], axis=1)\n",
    "#x_test_my = x_test_my[['region']]\n",
    "x_test_my = df_test.drop(['charges','sex'], axis=1)\n",
    "\n",
    "\n",
    "x_train_my = np.array(x_train_my)\n",
    "y_train_my = np.array(y_train_my)\n",
    "\n",
    "x_val_my = np.array(x_val_my)\n",
    "y_val_my = np.array(y_val_my)\n",
    "\n",
    "x_test_my = np.array(x_test_my)\n",
    "\n",
    "#print('x_test_my:', x_test_my)\n",
    "#print(\"X.ndim\", x_train_my.ndim)\n",
    "#print(\"X.shape[1]\", x_train_my.shape[1])"
   ]
  },
  {
   "cell_type": "code",
   "execution_count": 26,
   "metadata": {},
   "outputs": [
    {
     "name": "stdout",
     "output_type": "stream",
     "text": [
      "Don't cheat.\n"
     ]
    }
   ],
   "source": [
    "batch_size_my = x_train_my.shape[0]\n",
    "#print(\"batch_size_my\", batch_size_my)\n",
    "\n",
    "lr_my = 0.0007\n",
    "epochs_my = 650000\n",
    "\n",
    "linear_reg = LinearRegression()\n",
    "linear_reg.fit(x_train_my, y_train_my, lr=lr_my, epochs=epochs_my, batch_size=batch_size_my)"
   ]
  },
  {
   "cell_type": "code",
   "execution_count": 27,
   "metadata": {},
   "outputs": [
    {
     "name": "stdout",
     "output_type": "stream",
     "text": [
      "Intercepts:  [-12048.36316374]\n",
      "Weights:  [[  260.60682788]\n",
      " [  332.64107964]\n",
      " [  438.35131252]\n",
      " [23998.9619874 ]\n",
      " [ -415.0599551 ]]\n",
      "training loss:  17366813.45282496\n",
      "validation loss:  20905056.738847155\n",
      "test MSE:  18387.87397378454\n"
     ]
    }
   ],
   "source": [
    "print(\"Intercepts: \", linear_reg.weights[-1])\n",
    "print(\"Weights: \", linear_reg.weights[:-1])\n",
    "\n",
    "print('training loss: ', linear_reg.evaluate(x_train_my, y_train_my))\n",
    "print('validation loss: ', linear_reg.evaluate(x_val_my, y_val_my))\n",
    "\n",
    "test_pred_my = linear_reg.predict(x_test_my)\n",
    "error = test_pred_my - test_pred\n",
    "print(\"test MSE: \", (1/2) * np.mean(error ** 2))"
   ]
  },
  {
   "cell_type": "code",
   "execution_count": 28,
   "metadata": {},
   "outputs": [
    {
     "data": {
      "image/png": "[encoded data removed]",
      "text/plain": [
       "<Figure size 432x288 with 1 Axes>"
      ]
     },
     "metadata": {
      "needs_background": "light"
     },
     "output_type": "display_data"
    }
   ],
   "source": [
    "linear_reg.plot_curve()"
   ]
  },
  {
   "cell_type": "code",
   "execution_count": 29,
   "metadata": {
    "id": "x-Q1nUG6xZfM",
    "scrolled": true
   },
   "outputs": [
    {
     "name": "stdout",
     "output_type": "stream",
     "text": [
      "test_pred shape:  (200, 1)\n"
     ]
    }
   ],
   "source": [
    "test_pred_my = linear_reg.predict(x_test_my)\n",
    "print(\"test_pred shape: \", test_pred_my.shape)\n",
    "assert test_pred_my.shape == (200, 1)"
   ]
  },
  {
   "cell_type": "markdown",
   "metadata": {
    "id": "QCeukZcenm6O"
   },
   "source": [
    "# Output the csv file"
   ]
  },
  {
   "cell_type": "code",
   "execution_count": 30,
   "metadata": {
    "id": "SEN7NUgmnm6O"
   },
   "outputs": [],
   "source": [
    "df_test = pd.DataFrame(pd.read_csv(\"./regression_test.csv\"))\n",
    "df_test[\"charges\"] = test_pred_my\n",
    "df_test.to_csv(\"sample_output.csv\")"
   ]
  },
  {
   "cell_type": "code",
   "execution_count": null,
   "metadata": {},
   "outputs": [],
   "source": []
  }
 ],
 "metadata": {
  "colab": {
   "provenance": []
  },
  "kernelspec": {
   "display_name": "Python 3",
   "language": "python",
   "name": "python3"
  },
  "language_info": {
   "codemirror_mode": {
    "name": "ipython",
    "version": 3
   },
   "file_extension": ".py",
   "mimetype": "text/x-python",
   "name": "python",
   "nbconvert_exporter": "python",
   "pygments_lexer": "ipython3",
   "version": "3.8.5"
  },
  "vscode": {
   "interpreter": {
    "hash": "31f2aee4e71d21fbe5cf8b01ff0e069b9275f58929596ceb00d14d90e3e16cd6"
   }
  }
 },
 "nbformat": 4,
 "nbformat_minor": 1
}
