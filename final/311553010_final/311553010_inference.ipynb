{
  "cells": [
    {
      "cell_type": "code",
      "execution_count": null,
      "metadata": {
        "execution": {
          "iopub.execute_input": "2023-06-05T17:14:51.344318Z",
          "iopub.status.busy": "2023-06-05T17:14:51.343590Z",
          "iopub.status.idle": "2023-06-05T17:14:51.351358Z",
          "shell.execute_reply": "2023-06-05T17:14:51.350447Z",
          "shell.execute_reply.started": "2023-06-05T17:14:51.344284Z"
        },
        "id": "_Hh8n-ObAcop"
      },
      "outputs": [],
      "source": [
        "\n",
        "from google.colab import drive\n",
        "drive.mount('/content/drive')\n",
        "import os\n",
        "os.chdir('/content/drive/MyDrive')\n",
        "os.listdir()\n",
        "\n",
        "!pip install opencv-python\n",
        "!pip install matplotlib\n"
      ]
    },
    {
      "cell_type": "code",
      "execution_count": 3,
      "metadata": {
        "execution": {
          "iopub.execute_input": "2023-06-05T17:42:15.869629Z",
          "iopub.status.busy": "2023-06-05T17:42:15.869264Z",
          "iopub.status.idle": "2023-06-05T17:42:15.875063Z",
          "shell.execute_reply": "2023-06-05T17:42:15.874052Z",
          "shell.execute_reply.started": "2023-06-05T17:42:15.869599Z"
        },
        "id": "hpYeWutOprnP"
      },
      "outputs": [],
      "source": [
        "TRAIN_PATH = \"kaggle/input/captcha-hacker-2023-spring/dataset/train\"\n",
        "TEST_PATH = \"kaggle/input/captcha-hacker-2023-spring/dataset/test\"\n",
        "OUTPUT_PATH = \"kaggle/output\"\n",
        "PRETRAINED_WEIGHT_PATH = \"Colab Notebooks/Pre-trained weight\"\n",
        "\n",
        "\n",
        "device = \"cuda\"\n",
        "Enable_Line_Graph = True"
      ]
    },
    {
      "cell_type": "code",
      "execution_count": 4,
      "metadata": {
        "colab": {
          "base_uri": "https://localhost:8080/"
        },
        "execution": {
          "iopub.execute_input": "2023-06-05T17:14:51.356381Z",
          "iopub.status.busy": "2023-06-05T17:14:51.353373Z",
          "iopub.status.idle": "2023-06-05T17:14:59.847755Z",
          "shell.execute_reply": "2023-06-05T17:14:59.846731Z",
          "shell.execute_reply.started": "2023-06-05T17:14:51.356338Z"
        },
        "id": "j11LOzZqprnJ",
        "outputId": "dc7e09f9-fe08-4a6a-c99a-c76a0f39155d"
      },
      "outputs": [
        {
          "output_type": "stream",
          "name": "stdout",
          "text": [
            "Done!\n"
          ]
        }
      ],
      "source": [
        "import numpy as np\n",
        "import csv\n",
        "import cv2\n",
        "import random\n",
        "import copy\n",
        "import os\n",
        "import matplotlib\n",
        "from matplotlib import pyplot as plt\n",
        "import gc\n",
        "\n",
        "import torch\n",
        "import torch.nn as nn\n",
        "from torch.utils.data import Dataset, DataLoader\n",
        "\n",
        "print(\"Done!\")"
      ]
    },
    {
      "cell_type": "code",
      "execution_count": 5,
      "metadata": {
        "id": "JTiMGedPH-7A",
        "outputId": "370caad7-737d-4068-8374-38b9a979f43b",
        "colab": {
          "base_uri": "https://localhost:8080/"
        }
      },
      "outputs": [
        {
          "output_type": "stream",
          "name": "stdout",
          "text": [
            "cv2 version=  4.7.0\n",
            "matplotlib version=  3.7.1\n",
            "torch version=  2.0.1+cu118\n"
          ]
        }
      ],
      "source": [
        "#Check version\n",
        "print(\"cv2 version= \", cv2.__version__)\n",
        "print(\"matplotlib version= \", matplotlib.__version__)\n",
        "print(\"torch version= \", torch.__version__)"
      ]
    },
    {
      "cell_type": "code",
      "execution_count": 6,
      "metadata": {
        "execution": {
          "iopub.execute_input": "2023-06-05T17:14:59.883019Z",
          "iopub.status.busy": "2023-06-05T17:14:59.882295Z",
          "iopub.status.idle": "2023-06-05T17:14:59.888818Z",
          "shell.execute_reply": "2023-06-05T17:14:59.887910Z",
          "shell.execute_reply.started": "2023-06-05T17:14:59.882989Z"
        },
        "id": "mQqHphkOprnQ"
      },
      "outputs": [],
      "source": [
        "alphabets = \"_abcdefghijklmnopqrstuvwxyzABCDEFGHIJKLMNOPQRSTUVWXYZ0123456789\"\n",
        "alphabets2index = {alphabet:i for i, alphabet in enumerate(alphabets)}\n",
        "\n",
        "\n",
        "resize_Task1 = 96\n",
        "resize_Task2 = 96\n",
        "resize_Task3 = 96\n",
        "channel = 1"
      ]
    },
    {
      "cell_type": "code",
      "execution_count": 7,
      "metadata": {
        "execution": {
          "iopub.execute_input": "2023-06-05T17:14:59.891155Z",
          "iopub.status.busy": "2023-06-05T17:14:59.890355Z",
          "iopub.status.idle": "2023-06-05T17:14:59.901158Z",
          "shell.execute_reply": "2023-06-05T17:14:59.900314Z",
          "shell.execute_reply.started": "2023-06-05T17:14:59.891119Z"
        },
        "id": "JS1H-SKArhaQ"
      },
      "outputs": [],
      "source": [
        "def random_rotation(image, degrees):\n",
        "    angle = np.random.uniform(-degrees, degrees)\n",
        "    height, width = image.shape[:2]\n",
        "    center = (width / 2, height / 2)\n",
        "    rotation_matrix = cv2.getRotationMatrix2D(center, angle, 1.0)\n",
        "    rotated_image = cv2.warpAffine(image, rotation_matrix, (width, height))\n",
        "    return rotated_image"
      ]
    },
    {
      "cell_type": "code",
      "execution_count": 8,
      "metadata": {
        "execution": {
          "iopub.execute_input": "2023-06-05T17:14:59.903142Z",
          "iopub.status.busy": "2023-06-05T17:14:59.902645Z",
          "iopub.status.idle": "2023-06-05T17:14:59.917246Z",
          "shell.execute_reply": "2023-06-05T17:14:59.916311Z",
          "shell.execute_reply.started": "2023-06-05T17:14:59.903111Z"
        },
        "id": "EOgAjAOYprnQ"
      },
      "outputs": [],
      "source": [
        "class Task_Dataset(Dataset):\n",
        "    def __init__(self, data, root, class_name, resize, return_filename=False, augmentations=False):\n",
        "        self.data = None\n",
        "        if class_name is None:\n",
        "            self.data = [sample for sample in data]\n",
        "        else:\n",
        "            self.data = [sample for sample in data if sample[0].startswith(class_name)]\n",
        "        self.return_filename = return_filename\n",
        "        self.root = root\n",
        "        self.resize = resize\n",
        "        self.class_name = class_name\n",
        "        self.augmentations = augmentations\n",
        "    \n",
        "    def __getitem__(self, index):\n",
        "        filename, label = self.data[index]\n",
        "        img = cv2.imread(f\"{self.root}/{filename}\")\n",
        "        \n",
        "        if self.class_name == 'task1':\n",
        "            img = cv2.resize(img, (self.resize, self.resize))\n",
        "        elif self.class_name == 'task2':\n",
        "            img = cv2.resize(img, (self.resize, self.resize))\n",
        "        elif self.class_name == 'task3':\n",
        "            img = cv2.resize(img, (self.resize, self.resize))\n",
        "        \n",
        "        if self.augmentations:\n",
        "            img = random_rotation(img, degrees=30)\n",
        "        \n",
        "        if channel == 1:\n",
        "            img = np.mean(img, axis=2)\n",
        "            img = np.expand_dims(img, axis=-1)\n",
        "        if channel == 3:\n",
        "            img = cv2.cvtColor(img, cv2.COLOR_BGR2RGB)\n",
        "        \n",
        "        if self.return_filename:\n",
        "            return torch.FloatTensor((img - 128) / 128), filename\n",
        "        else:\n",
        "            if len(label) == 1:\n",
        "                return torch.FloatTensor((img - 128) / 128), alphabets2index[label]\n",
        "            else:\n",
        "                label_list = [alphabets2index[c] for c in label]\n",
        "                label_list = torch.IntTensor(label_list)\n",
        "                return torch.FloatTensor((img - 128) / 128), label_list\n",
        "\n",
        "    def __len__(self):\n",
        "        return len(self.data)\n"
      ]
    },
    {
      "cell_type": "code",
      "execution_count": 9,
      "metadata": {
        "id": "THquhqAOH-7D"
      },
      "outputs": [],
      "source": [
        "class EarlyStopper:\n",
        "    def __init__(self, patience=1, min_delta=0, train_threshold=1):\n",
        "        self.patience = patience\n",
        "        self.min_delta = min_delta\n",
        "        self.counter_1 = 0\n",
        "        self.counter_2 = 0\n",
        "        self.min_validation_loss = np.inf\n",
        "        self.max_validation_loss = 0\n",
        "        self.last_validation_loss = 0\n",
        "        self.last_training_loss = 0\n",
        "        self.train_threshold = train_threshold\n",
        "\n",
        "    def early_stop(self, validation_loss, training_loss):\n",
        "        if validation_loss <= 0 or training_loss > self.train_threshold:\n",
        "            return False\n",
        "        \n",
        "        if validation_loss > self.max_validation_loss:\n",
        "            self.max_validation_loss = validation_loss\n",
        "            self.counter_2 = 0\n",
        "        elif (self.max_validation_loss - self.min_validation_loss) > 1:\n",
        "            self.counter_2 += 1\n",
        "            if self.counter_2 >= self.patience:\n",
        "                return True\n",
        "            \n",
        "        if validation_loss < self.min_validation_loss:\n",
        "            self.min_validation_loss = validation_loss\n",
        "            self.counter_1 = 0\n",
        "        elif validation_loss > (self.min_validation_loss + self.min_delta):\n",
        "            self.counter_1 += 1\n",
        "            if self.counter_1 >= self.patience:\n",
        "                return True\n",
        "            \n",
        "        return False"
      ]
    },
    {
      "cell_type": "code",
      "execution_count": 10,
      "metadata": {
        "execution": {
          "iopub.execute_input": "2023-06-05T17:14:59.919482Z",
          "iopub.status.busy": "2023-06-05T17:14:59.918771Z",
          "iopub.status.idle": "2023-06-05T17:14:59.930847Z",
          "shell.execute_reply": "2023-06-05T17:14:59.929900Z",
          "shell.execute_reply.started": "2023-06-05T17:14:59.919451Z"
        },
        "id": "5DMLrpg_rhaQ"
      },
      "outputs": [],
      "source": [
        "def plot_loss_acc(train_losses, val_losses, train_accuracies, val_accuracies):\n",
        "    plt.plot(range(1, len(train_losses) + 1), train_losses, label=\"train_losses\")\n",
        "    plt.plot(range(1, len(val_losses) + 1), val_losses, label=\"val_losses\")\n",
        "    plt.xlabel('Epoch')\n",
        "    plt.ylabel('Training Loss')\n",
        "    plt.title('Training Loss over Epochs')\n",
        "    plt.legend()\n",
        "\n",
        "    plt.subplots_adjust(wspace=0.3)\n",
        "    plt.show()\n",
        "\n",
        "    if train_accuracies is not None and val_accuracies is not None:\n",
        "        plt.plot(train_accuracies, label=\"train_acc\")\n",
        "        plt.plot(val_accuracies, label=\"val_acc\")\n",
        "        plt.ylim([0, 1.1])\n",
        "        plt.xlabel('Epoch')\n",
        "        plt.ylabel('Training Accuracy')\n",
        "        plt.title('Training Accuracy over Epochs')\n",
        "        plt.legend()\n",
        "\n",
        "        plt.subplots_adjust(wspace=0.3)\n",
        "        plt.show()"
      ]
    },
    {
      "cell_type": "markdown",
      "metadata": {
        "id": "e-4hGcVFprnT"
      },
      "source": [
        "# **Task 1 model (CNN)**"
      ]
    },
    {
      "cell_type": "code",
      "execution_count": 11,
      "metadata": {
        "execution": {
          "iopub.execute_input": "2023-06-05T17:14:59.932911Z",
          "iopub.status.busy": "2023-06-05T17:14:59.932479Z",
          "iopub.status.idle": "2023-06-05T17:14:59.946908Z",
          "shell.execute_reply": "2023-06-05T17:14:59.945993Z",
          "shell.execute_reply.started": "2023-06-05T17:14:59.932810Z"
        },
        "id": "JjTQoF_rprnT"
      },
      "outputs": [],
      "source": [
        "class Model_CNN(nn.Module):\n",
        "    def __init__(self):\n",
        "        super().__init__()\n",
        "        self.conv_layers = nn.Sequential(\n",
        "            nn.Conv2d(channel, 32, kernel_size=3, padding=1),\n",
        "            nn.ReLU(),\n",
        "            nn.Conv2d(32, 32, kernel_size=3),\n",
        "            nn.ReLU(),\n",
        "            nn.BatchNorm2d(32),\n",
        "            nn.MaxPool2d(kernel_size=2, stride=2),\n",
        "            nn.Dropout(0.3),\n",
        "            \n",
        "            nn.Conv2d(32, 64, kernel_size=3, padding=1),\n",
        "            nn.ReLU(),\n",
        "            nn.Conv2d(64, 64, kernel_size=3),\n",
        "            nn.ReLU(),\n",
        "            nn.BatchNorm2d(64),\n",
        "            nn.MaxPool2d(kernel_size=2, stride=2),\n",
        "            nn.Dropout(0.3),\n",
        "            \n",
        "            nn.Conv2d(64, 128, kernel_size=3, padding=1),\n",
        "            nn.ReLU(),\n",
        "            nn.Conv2d(128, 128, kernel_size=3),\n",
        "            nn.ReLU(),\n",
        "            nn.BatchNorm2d(128),\n",
        "            nn.MaxPool2d(kernel_size=2, stride=2),\n",
        "            nn.Dropout(0.3),\n",
        "            \n",
        "            nn.Conv2d(128, 256, kernel_size=3, padding=1),\n",
        "            nn.ReLU(),\n",
        "            nn.Conv2d(256, 256, kernel_size=3),\n",
        "            nn.ReLU(),\n",
        "            nn.BatchNorm2d(256),\n",
        "            nn.MaxPool2d(kernel_size=2, stride=2),\n",
        "            nn.Dropout(0.3),\n",
        "            \n",
        "            nn.Conv2d(256, 512, kernel_size=3),\n",
        "            nn.ReLU(),\n",
        "            nn.BatchNorm2d(512),\n",
        "            nn.MaxPool2d(kernel_size=2, stride=2)\n",
        "        )\n",
        "        self.fl_layers = nn.Sequential(nn.Flatten())\n",
        "        self.fc_layers = nn.Sequential(\n",
        "            nn.Dropout(0.3),\n",
        "            nn.Linear((512), 256),\n",
        "            nn.Dropout(0.3),\n",
        "            nn.Linear(256, len(alphabets))\n",
        "        )\n",
        "        \n",
        "    def forward(self, x):\n",
        "        batch_size, height, width, channels = x.shape\n",
        "        x = x.view(batch_size, channels, height, width)\n",
        "        x = self.conv_layers(x)\n",
        "        x = self.fl_layers(x)\n",
        "        x = self.fc_layers(x)\n",
        "        return x"
      ]
    },
    {
      "cell_type": "markdown",
      "metadata": {
        "id": "z785ZxCVprnU"
      },
      "source": [
        "# **Task 2 & Task 3 model (CRNN)**"
      ]
    },
    {
      "cell_type": "code",
      "execution_count": 12,
      "metadata": {
        "execution": {
          "iopub.execute_input": "2023-06-05T17:14:59.951904Z",
          "iopub.status.busy": "2023-06-05T17:14:59.951563Z",
          "iopub.status.idle": "2023-06-05T17:14:59.964580Z",
          "shell.execute_reply": "2023-06-05T17:14:59.963699Z",
          "shell.execute_reply.started": "2023-06-05T17:14:59.951879Z"
        },
        "id": "FJVHONSqprnV"
      },
      "outputs": [],
      "source": [
        "class Model_CRNN(nn.Module):\n",
        "    def __init__(self):\n",
        "        super().__init__()\n",
        "        self.conv_layers = nn.Sequential(\n",
        "            nn.Conv2d(channel, 256, 9, stride=1, padding=1),\n",
        "            nn.ReLU(),\n",
        "            nn.BatchNorm2d(256),\n",
        "            nn.MaxPool2d(3, 3),\n",
        "            nn.Conv2d(256, 256, (4, 3), stride=1, padding=1),\n",
        "            nn.ReLU(),\n",
        "            nn.BatchNorm2d(256)\n",
        "        )\n",
        "        # RNN\n",
        "        self.rnn1 = nn.GRU(input_size=256, \n",
        "                            hidden_size=1024,\n",
        "                            bidirectional=True\n",
        "                          )\n",
        "        self.linear1 = nn.Linear(7424, 256)\n",
        "        self.linear2 = nn.Linear(1024 * 2, len(alphabets) + 1)\n",
        "        \n",
        "    def forward(self, x):\n",
        "        batch_size, height, width, channels = x.shape\n",
        "        x = x.view(batch_size, channels, height, width)\n",
        "        x = self.conv_layers(x)\n",
        "        \n",
        "        batch_size, channels, width, height = x.shape\n",
        "        x = x.view(batch_size, -1, height)\n",
        "        x = x.permute(0, 2, 1)\n",
        "        x = self.linear1(x)\n",
        "        x = x.permute(1, 0, 2)\n",
        "        \n",
        "        x, _ = self.rnn1(x)\n",
        "        output = self.linear2(x)\n",
        "        return output"
      ]
    },
    {
      "cell_type": "markdown",
      "metadata": {
        "id": "hIgPtcrqprnX"
      },
      "source": [
        "# **Data Pre-processing**"
      ]
    },
    {
      "cell_type": "code",
      "execution_count": 13,
      "metadata": {
        "colab": {
          "base_uri": "https://localhost:8080/",
          "height": 1000
        },
        "execution": {
          "iopub.execute_input": "2023-06-05T17:42:29.557496Z",
          "iopub.status.busy": "2023-06-05T17:42:29.557091Z",
          "iopub.status.idle": "2023-06-05T17:42:30.228097Z",
          "shell.execute_reply": "2023-06-05T17:42:30.226983Z",
          "shell.execute_reply.started": "2023-06-05T17:42:29.557463Z"
        },
        "id": "i7kc-HzaprnY",
        "outputId": "e26ba74f-a5a6-403d-fd49-dbd5524ac941"
      },
      "outputs": [
        {
          "output_type": "stream",
          "name": "stdout",
          "text": [
            "train_data[0]: ['filename', 'label']\n",
            "train_ds_Task1[0].shape:  torch.Size([96, 96, 1]) 33\n"
          ]
        },
        {
          "output_type": "display_data",
          "data": {
            "text/plain": [
              "<Figure size 640x480 with 1 Axes>"
            ],
            "image/png": "[encoded data removed]"
          },
          "metadata": {}
        },
        {
          "output_type": "stream",
          "name": "stdout",
          "text": [
            "train_ds_Task2[0].shape:  torch.Size([96, 96, 1]) tensor([47, 49], dtype=torch.int32)\n"
          ]
        },
        {
          "output_type": "display_data",
          "data": {
            "text/plain": [
              "<Figure size 640x480 with 1 Axes>"
            ],
            "image/png": "[encoded data removed]"
          },
          "metadata": {}
        },
        {
          "output_type": "stream",
          "name": "stdout",
          "text": [
            "train_ds_Task3[0].shape:  torch.Size([96, 96, 1]) tensor([ 9,  6,  5, 11], dtype=torch.int32)\n"
          ]
        },
        {
          "output_type": "display_data",
          "data": {
            "text/plain": [
              "<Figure size 640x480 with 1 Axes>"
            ],
            "image/png": "[encoded data removed]"
          },
          "metadata": {}
        }
      ],
      "source": [
        "train_data = []\n",
        "val_data = []\n",
        "\n",
        "with open(f'{TRAIN_PATH}/annotations.csv', newline='') as csvfile:\n",
        "    for row in csv.reader(csvfile, delimiter=','):\n",
        "        if random.random() < 0.8:\n",
        "            train_data.append(row)\n",
        "        else:\n",
        "            val_data.append(row)\n",
        "\n",
        "print(\"train_data[0]:\", train_data[0])\n",
        "\n",
        "\n",
        "#Task 1\n",
        "train_ds_Task1 = Task_Dataset(train_data, root=TRAIN_PATH, class_name = \"task1\", resize = resize_Task1\n",
        "                              , augmentations=True)\n",
        "train_dl_Task1 = DataLoader(train_ds_Task1, batch_size=100, num_workers=0, drop_last=True, shuffle=True)\n",
        "\n",
        "img , l = train_ds_Task1[0]\n",
        "print(\"train_ds_Task1[0].shape: \",img.shape, l)\n",
        "plt.imshow(img)\n",
        "plt.show()\n",
        "\n",
        "val_ds_Task1 = Task_Dataset(val_data, root=TRAIN_PATH, class_name = \"task1\", resize = resize_Task1)\n",
        "val_dl_Task1 = DataLoader(val_ds_Task1, batch_size=100, num_workers=0, drop_last=False, shuffle=False)\n",
        "\n",
        "#Task 2\n",
        "train_ds_Task2 = Task_Dataset(train_data, root=TRAIN_PATH, class_name = \"task2\", resize = resize_Task2\n",
        "                              , augmentations=False)\n",
        "train_dl_Task2 = DataLoader(train_ds_Task2, batch_size=100, num_workers=0, drop_last=True, shuffle=True)\n",
        "\n",
        "img , l = train_ds_Task2[0]\n",
        "print(\"train_ds_Task2[0].shape: \",img.shape, l)\n",
        "plt.imshow(img)\n",
        "plt.show()\n",
        "\n",
        "val_ds_Task2 = Task_Dataset(val_data, root=TRAIN_PATH, class_name = \"task2\", resize = resize_Task2)\n",
        "val_dl_Task2 = DataLoader(val_ds_Task2, batch_size=100, num_workers=0, drop_last=False, shuffle=False)\n",
        "\n",
        "#Task 3\n",
        "train_ds_Task3 = Task_Dataset(train_data, root=TRAIN_PATH, class_name = \"task3\", resize = resize_Task3\n",
        "                              , augmentations=False)\n",
        "train_dl_Task3 = DataLoader(train_ds_Task3, batch_size=100, num_workers=0, drop_last=True, shuffle=True)\n",
        "\n",
        "img , l = train_ds_Task3[0]\n",
        "print(\"train_ds_Task3[0].shape: \",img.shape, l)\n",
        "plt.imshow(img)\n",
        "plt.show()\n",
        "\n",
        "val_ds_Task3 = Task_Dataset(val_data, root=TRAIN_PATH, class_name = \"task3\", resize = resize_Task3)\n",
        "val_dl_Task3= DataLoader(val_ds_Task3, batch_size=100, num_workers=0, drop_last=False, shuffle=False)"
      ]
    },
    {
      "cell_type": "markdown",
      "metadata": {
        "id": "rmA5WQxbprnY"
      },
      "source": [
        "# **Task 1**"
      ]
    },
    {
      "cell_type": "code",
      "execution_count": 14,
      "metadata": {
        "execution": {
          "iopub.execute_input": "2023-06-05T17:15:00.631063Z",
          "iopub.status.busy": "2023-06-05T17:15:00.630710Z",
          "iopub.status.idle": "2023-06-05T17:18:15.916551Z",
          "shell.execute_reply": "2023-06-05T17:18:15.915373Z",
          "shell.execute_reply.started": "2023-06-05T17:15:00.631031Z"
        },
        "id": "209Qqv_AprnZ",
        "scrolled": true,
        "outputId": "acad3858-c8d9-4824-ecb8-f6dd975cb477",
        "colab": {
          "base_uri": "https://localhost:8080/"
        }
      },
      "outputs": [
        {
          "output_type": "stream",
          "name": "stdout",
          "text": [
            "Epoch [0]\n",
            "Epoch_loss: 4.344271242618561\n",
            "Task 1 accuracy (training): 0.026249999180436134\n",
            "Epoch_loss: 5.479454055428505\n",
            "Task 1 accuracy (validation): 0.014999999664723873\n",
            "Epoch [1]\n",
            "Epoch_loss: 3.994927391409874\n",
            "Task 1 accuracy (training): 0.03812500089406967\n",
            "Epoch_loss: 6.943603273481131\n",
            "Task 1 accuracy (validation): 0.014999999664723873\n",
            "Epoch [2]\n",
            "Epoch_loss: 3.681649789214134\n",
            "Task 1 accuracy (training): 0.08124999701976776\n",
            "Epoch_loss: 5.245966341346502\n",
            "Task 1 accuracy (validation): 0.054999999701976776\n",
            "Epoch [3]\n",
            "Epoch_loss: 3.314339354634285\n",
            "Task 1 accuracy (training): 0.13750000298023224\n",
            "Epoch_loss: 4.560354221612215\n",
            "Task 1 accuracy (validation): 0.08749999850988388\n",
            "Epoch [4]\n",
            "Epoch_loss: 2.9183429926633835\n",
            "Task 1 accuracy (training): 0.20624999701976776\n",
            "Epoch_loss: 3.9058824591338634\n",
            "Task 1 accuracy (validation): 0.13750000298023224\n",
            "Epoch [5]\n",
            "Epoch_loss: 2.4582179486751556\n",
            "Task 1 accuracy (training): 0.3018749952316284\n",
            "Epoch_loss: 3.2668888196349144\n",
            "Task 1 accuracy (validation): 0.24500000476837158\n",
            "Epoch [6]\n",
            "Epoch_loss: 2.039316289126873\n",
            "Task 1 accuracy (training): 0.3956249952316284\n",
            "Epoch_loss: 3.235278395935893\n",
            "Task 1 accuracy (validation): 0.2199999988079071\n",
            "Epoch [7]\n",
            "Epoch_loss: 1.5860283002257347\n",
            "Task 1 accuracy (training): 0.5006250143051147\n",
            "Epoch_loss: 2.4923477675765753\n",
            "Task 1 accuracy (validation): 0.3449999988079071\n",
            "Epoch [8]\n",
            "Epoch_loss: 1.2759778499603271\n",
            "Task 1 accuracy (training): 0.5818750262260437\n",
            "Epoch_loss: 1.2179978787899017\n",
            "Task 1 accuracy (validation): 0.7099999785423279\n",
            "Epoch [9]\n",
            "Epoch_loss: 0.9915184937417507\n",
            "Task 1 accuracy (training): 0.6681249737739563\n",
            "Epoch_loss: 1.6998477866873145\n",
            "Task 1 accuracy (validation): 0.512499988079071\n",
            "Epoch [10]\n",
            "Epoch_loss: 0.8558472245931625\n",
            "Task 1 accuracy (training): 0.7056249976158142\n",
            "Epoch_loss: 0.9486528299748898\n",
            "Task 1 accuracy (validation): 0.7524999976158142\n",
            "Epoch [11]\n",
            "Epoch_loss: 0.6885941419750452\n",
            "Task 1 accuracy (training): 0.768750011920929\n",
            "Epoch_loss: 0.772640282753855\n",
            "Task 1 accuracy (validation): 0.7975000143051147\n",
            "Epoch [12]\n",
            "Epoch_loss: 0.5940351262688637\n",
            "Task 1 accuracy (training): 0.8056250214576721\n",
            "Epoch_loss: 0.849464351311326\n",
            "Task 1 accuracy (validation): 0.7674999833106995\n",
            "Epoch [13]\n",
            "Epoch_loss: 0.48365010507404804\n",
            "Task 1 accuracy (training): 0.8362500071525574\n",
            "Epoch_loss: 0.4317861315794289\n",
            "Task 1 accuracy (validation): 0.8700000047683716\n",
            "Epoch [14]\n",
            "Epoch_loss: 0.43162386305630207\n",
            "Task 1 accuracy (training): 0.8537499904632568\n",
            "Epoch_loss: 0.6104248282499611\n",
            "Task 1 accuracy (validation): 0.7975000143051147\n",
            "Epoch [15]\n",
            "Epoch_loss: 0.3804287947714329\n",
            "Task 1 accuracy (training): 0.8793749809265137\n",
            "Epoch_loss: 1.315273524262011\n",
            "Task 1 accuracy (validation): 0.5849999785423279\n",
            "Epoch [16]\n",
            "Epoch_loss: 0.35809830389916897\n",
            "Task 1 accuracy (training): 0.8799999952316284\n",
            "Epoch_loss: 0.8391011296771467\n",
            "Task 1 accuracy (validation): 0.7250000238418579\n",
            "Epoch [17]\n",
            "Epoch_loss: 0.32961142994463444\n",
            "Task 1 accuracy (training): 0.8918750286102295\n",
            "Epoch_loss: 0.5071889855898917\n",
            "Task 1 accuracy (validation): 0.8525000214576721\n",
            "Epoch [18]\n",
            "Epoch_loss: 0.3172063585370779\n",
            "Task 1 accuracy (training): 0.8949999809265137\n",
            "Epoch_loss: 0.32167295133695006\n",
            "Task 1 accuracy (validation): 0.9150000214576721\n",
            "Epoch [19]\n",
            "Epoch_loss: 0.26862909458577633\n",
            "Task 1 accuracy (training): 0.903124988079071\n",
            "Epoch_loss: 0.3292957036755979\n",
            "Task 1 accuracy (validation): 0.8949999809265137\n",
            "Epoch [20]\n",
            "Epoch_loss: 0.25404146034270525\n",
            "Task 1 accuracy (training): 0.9131249785423279\n",
            "Epoch_loss: 0.8359778292942792\n",
            "Task 1 accuracy (validation): 0.7225000262260437\n",
            "Epoch [21]\n",
            "Epoch_loss: 0.2367382412776351\n",
            "Task 1 accuracy (training): 0.9237499833106995\n",
            "Epoch_loss: 0.388721572002396\n",
            "Task 1 accuracy (validation): 0.8799999952316284\n",
            "Epoch [22]\n",
            "Epoch_loss: 0.2635257737711072\n",
            "Task 1 accuracy (training): 0.9150000214576721\n",
            "Epoch_loss: 0.4123492364306003\n",
            "Task 1 accuracy (validation): 0.875\n",
            "Epoch [23]\n",
            "Epoch_loss: 0.2408177382312715\n",
            "Task 1 accuracy (training): 0.9200000166893005\n",
            "Epoch_loss: 0.2817084373673424\n",
            "Task 1 accuracy (validation): 0.9150000214576721\n",
            "Epoch [24]\n",
            "Epoch_loss: 0.22794558107852936\n",
            "Task 1 accuracy (training): 0.9212499856948853\n",
            "Epoch_loss: 0.2669602297246456\n",
            "Task 1 accuracy (validation): 0.9075000286102295\n",
            "Epoch [25]\n",
            "Epoch_loss: 0.21391878370195627\n",
            "Task 1 accuracy (training): 0.9293749928474426\n",
            "Epoch_loss: 0.23281809338368475\n",
            "Task 1 accuracy (validation): 0.9275000095367432\n",
            "Epoch [26]\n",
            "Epoch_loss: 0.19241240248084068\n",
            "Task 1 accuracy (training): 0.9337499737739563\n",
            "Epoch_loss: 0.33855711575597525\n",
            "Task 1 accuracy (validation): 0.8924999833106995\n",
            "Epoch [27]\n",
            "Epoch_loss: 0.17489977134391665\n",
            "Task 1 accuracy (training): 0.9356250166893005\n",
            "Epoch_loss: 0.3407185598043725\n",
            "Task 1 accuracy (validation): 0.887499988079071\n",
            "Epoch [28]\n",
            "Epoch_loss: 0.16247203946113586\n",
            "Task 1 accuracy (training): 0.9443749785423279\n",
            "Epoch_loss: 0.21538491174578667\n",
            "Task 1 accuracy (validation): 0.9175000190734863\n",
            "Epoch [29]\n",
            "Epoch_loss: 0.16877674078568816\n",
            "Task 1 accuracy (training): 0.9412500262260437\n",
            "Epoch_loss: 0.19883289316203445\n",
            "Task 1 accuracy (validation): 0.9375\n",
            "Epoch [30]\n",
            "Epoch_loss: 0.16533609107136726\n",
            "Task 1 accuracy (training): 0.9449999928474426\n",
            "Epoch_loss: 0.24144422728568316\n",
            "Task 1 accuracy (validation): 0.9175000190734863\n",
            "Epoch [31]\n",
            "Epoch_loss: 0.13868092698976398\n",
            "Task 1 accuracy (training): 0.9506250023841858\n",
            "Epoch_loss: 0.28175732668023556\n",
            "Task 1 accuracy (validation): 0.9100000262260437\n",
            "Epoch [32]\n",
            "Epoch_loss: 0.13874117098748684\n",
            "Task 1 accuracy (training): 0.953125\n",
            "Epoch_loss: 0.23925491934642196\n",
            "Task 1 accuracy (validation): 0.9225000143051147\n",
            "Epoch [33]\n",
            "Epoch_loss: 0.1459724078886211\n",
            "Task 1 accuracy (training): 0.9481250047683716\n",
            "Epoch_loss: 0.18031335237901658\n",
            "Task 1 accuracy (validation): 0.9474999904632568\n",
            "Epoch [34]\n",
            "Epoch_loss: 0.11987285129725933\n",
            "Task 1 accuracy (training): 0.9581249952316284\n",
            "Epoch_loss: 0.1491410150192678\n",
            "Task 1 accuracy (validation): 0.949999988079071\n",
            "Epoch [35]\n",
            "Epoch_loss: 0.10321538522839546\n",
            "Task 1 accuracy (training): 0.9599999785423279\n",
            "Epoch_loss: 0.12816095165908337\n",
            "Task 1 accuracy (validation): 0.9549999833106995\n",
            "Epoch [36]\n",
            "Epoch_loss: 0.10165820643305779\n",
            "Task 1 accuracy (training): 0.9668750166893005\n",
            "Epoch_loss: 0.13796997349709272\n",
            "Task 1 accuracy (validation): 0.9549999833106995\n",
            "Epoch [37]\n",
            "Epoch_loss: 0.1139092636294663\n",
            "Task 1 accuracy (training): 0.9631249904632568\n",
            "Epoch_loss: 0.19713611633051187\n",
            "Task 1 accuracy (validation): 0.9275000095367432\n",
            "Epoch [38]\n",
            "Epoch_loss: 0.13295176532119513\n",
            "Task 1 accuracy (training): 0.9581249952316284\n",
            "Epoch_loss: 0.16942933178506792\n",
            "Task 1 accuracy (validation): 0.9325000047683716\n",
            "Epoch [39]\n",
            "Epoch_loss: 0.10986183909699321\n",
            "Task 1 accuracy (training): 0.9618750214576721\n",
            "Epoch_loss: 0.127672033268027\n",
            "Task 1 accuracy (validation): 0.9474999904632568\n",
            "Epoch [40]\n",
            "Epoch_loss: 0.1129809773992747\n",
            "Task 1 accuracy (training): 0.9574999809265137\n",
            "Epoch_loss: 0.2517886238056235\n",
            "Task 1 accuracy (validation): 0.9175000190734863\n",
            "Epoch [41]\n",
            "Epoch_loss: 0.09798151114955544\n",
            "Task 1 accuracy (training): 0.9643750190734863\n",
            "Epoch_loss: 0.21514853613916785\n",
            "Task 1 accuracy (validation): 0.9225000143051147\n",
            "Epoch [42]\n",
            "Epoch_loss: 0.11804284481331706\n",
            "Task 1 accuracy (training): 0.9568750262260437\n",
            "Epoch_loss: 0.21976804069709033\n",
            "Task 1 accuracy (validation): 0.925000011920929\n",
            "Epoch [43]\n",
            "Epoch_loss: 0.11924189864657819\n",
            "Task 1 accuracy (training): 0.9618750214576721\n",
            "Epoch_loss: 0.3724502971745096\n",
            "Task 1 accuracy (validation): 0.8824999928474426\n",
            "Epoch [44]\n",
            "Epoch_loss: 0.10859293839894235\n",
            "Task 1 accuracy (training): 0.9618750214576721\n",
            "Epoch_loss: 0.18302165617933497\n",
            "Task 1 accuracy (validation): 0.9300000071525574\n",
            "Epoch [45]\n",
            "Epoch_loss: 0.08900298783555627\n",
            "Task 1 accuracy (training): 0.9706249833106995\n",
            "Epoch_loss: 0.22298963519278914\n",
            "Task 1 accuracy (validation): 0.9300000071525574\n",
            "Epoch [46]\n",
            "Epoch_loss: 0.139698596438393\n",
            "Task 1 accuracy (training): 0.9612500071525574\n",
            "Epoch_loss: 0.2795091573498212\n",
            "Task 1 accuracy (validation): 0.9049999713897705\n",
            "Epoch [47]\n",
            "Epoch_loss: 0.14669795101508498\n",
            "Task 1 accuracy (training): 0.949999988079071\n",
            "Epoch_loss: 0.1756351807853207\n",
            "Task 1 accuracy (validation): 0.9350000023841858\n",
            "Epoch [48]\n",
            "Epoch_loss: 0.14027223736047745\n",
            "Task 1 accuracy (training): 0.9512500166893005\n",
            "Epoch_loss: 0.18580029532313347\n",
            "Task 1 accuracy (validation): 0.9375\n",
            "Epoch [49]\n",
            "Epoch_loss: 0.12324898247607052\n",
            "Task 1 accuracy (training): 0.9543750286102295\n",
            "Epoch_loss: 0.2564181767520495\n",
            "Task 1 accuracy (validation): 0.9125000238418579\n",
            "Done!\n"
          ]
        }
      ],
      "source": [
        "model_Task1 = Model_CNN().to(device)\n",
        "optimizer = torch.optim.Adam(model_Task1.parameters(), lr=1e-3)\n",
        "early_stopper = EarlyStopper(patience=5, min_delta=0.5)\n",
        "loss_fn = nn.CrossEntropyLoss()\n",
        "epochs = 50\n",
        "\n",
        "train_losses = []\n",
        "val_losses = []\n",
        "train_accuracies = []\n",
        "val_accuracies = []\n",
        "\n",
        "train_label = []\n",
        "val_label = []\n",
        "train_pred = []\n",
        "val_pred = []\n",
        "\n",
        "best_model_wts_Task1 = copy.deepcopy(model_Task1.state_dict())\n",
        "best_acc_Task1 = 0.0\n",
        "\n",
        "train_epoch_loss = 0.0\n",
        "\n",
        "for epoch in range(epochs):\n",
        "    print(f\"Epoch [{epoch}]\")\n",
        "    model_Task1.train()\n",
        "    epoch_loss = 0.0 \n",
        "    \n",
        "    #training\n",
        "    sample_count_t = 0\n",
        "    correct_count_t = 0\n",
        "    for image, label in train_dl_Task1:\n",
        "        image = image.to(device)\n",
        "        label = label.to(device)\n",
        "        \n",
        "        pred = model_Task1(image)\n",
        "        pred = pred.to('cpu')\n",
        "        label = label.to('cpu')\n",
        "        loss = loss_fn(pred, label)\n",
        "        optimizer.zero_grad()\n",
        "        loss.backward()\n",
        "        optimizer.step()\n",
        "        \n",
        "        epoch_loss += loss.item()\n",
        "        \n",
        "        pred = torch.argmax(pred, dim=1)\n",
        "        sample_count_t += len(image)\n",
        "        correct_count_t += (label == pred).sum()\n",
        "        \n",
        "        if epoch == epochs - 1:\n",
        "            label = label.tolist()\n",
        "            pred = pred.tolist()\n",
        "            train_label.extend(np.transpose(label))\n",
        "            train_pred.extend(np.transpose(pred))\n",
        "    \n",
        "    epoch_loss /= len(train_dl_Task1)\n",
        "    train_losses.append(epoch_loss)\n",
        "    train_accuracy = correct_count_t / sample_count_t\n",
        "    train_accuracies.append(train_accuracy)\n",
        "    train_epoch_loss = epoch_loss\n",
        "    print(\"Epoch_loss:\", epoch_loss)\n",
        "    print(\"Task 1 accuracy (training):\", train_accuracy.item())\n",
        "    \n",
        "    #validation\n",
        "    sample_count = 0\n",
        "    correct_count = 0\n",
        "    model_Task1.eval()\n",
        "    with torch.no_grad():\n",
        "        for image, label in val_dl_Task1:\n",
        "            image = image.to(device)\n",
        "            label = label.to(device)\n",
        "\n",
        "            image_size = image.size(0)\n",
        "\n",
        "            if image_size < val_dl_Task1.batch_size:\n",
        "                tensor = torch.ones((val_dl_Task1.batch_size - image_size), resize_Task1, resize_Task1, channel)\n",
        "                tensor = tensor.to(device)\n",
        "                image = torch.cat((image, tensor),0)\n",
        "\n",
        "            pred = model_Task1(image)\n",
        "            pred = pred[0:image_size]\n",
        "            pred = pred.to('cpu')\n",
        "            label = label.to('cpu')\n",
        "            loss = loss_fn(pred, label)\n",
        "            epoch_loss += loss.item()\n",
        "\n",
        "            pred = torch.argmax(pred, dim=1)\n",
        "\n",
        "            sample_count += len(image)\n",
        "            correct_count += (label == pred).sum()\n",
        "\n",
        "            if epoch == epochs - 1:\n",
        "                label = label.tolist()\n",
        "                pred = pred.tolist()\n",
        "                val_label.extend(np.transpose(label))\n",
        "                val_pred.extend(np.transpose(pred))\n",
        "    \n",
        "    epoch_loss /= len(val_dl_Task1)\n",
        "    val_losses.append(epoch_loss)\n",
        "    \n",
        "    val_accuracy = correct_count / sample_count\n",
        "    val_accuracies.append(val_accuracy)\n",
        "    print(\"Epoch_loss:\", epoch_loss)\n",
        "    print(\"Task 1 accuracy (validation):\", val_accuracy.item())\n",
        "    \n",
        "    #Best model\n",
        "    #if val_accuracy > best_acc_Task1:\n",
        "    #    best_acc_Task1 = val_accuracy\n",
        "    #    best_model_wts_Task1 = copy.deepcopy(model_Task1.state_dict())\n",
        "    \n",
        "    #Early stopping\n",
        "    #if early_stopper.early_stop(epoch_loss, train_epoch_loss): \n",
        "    #    print(\"Early stopping!\")\n",
        "    #    break\n",
        "        \n",
        "print(\"Done!\")"
      ]
    },
    {
      "cell_type": "code",
      "execution_count": 15,
      "metadata": {
        "execution": {
          "iopub.execute_input": "2023-06-05T17:18:15.918977Z",
          "iopub.status.busy": "2023-06-05T17:18:15.918232Z",
          "iopub.status.idle": "2023-06-05T17:18:16.736177Z",
          "shell.execute_reply": "2023-06-05T17:18:16.734610Z",
          "shell.execute_reply.started": "2023-06-05T17:18:15.918937Z"
        },
        "id": "AHTQS_3VprnZ",
        "scrolled": false,
        "outputId": "d0f8dc43-86cf-428c-e376-dd767a304b6d",
        "colab": {
          "base_uri": "https://localhost:8080/",
          "height": 927
        }
      },
      "outputs": [
        {
          "output_type": "display_data",
          "data": {
            "text/plain": [
              "<Figure size 640x480 with 1 Axes>"
            ],
            "image/png": "[encoded data removed]"
          },
          "metadata": {}
        },
        {
          "output_type": "display_data",
          "data": {
            "text/plain": [
              "<Figure size 640x480 with 1 Axes>"
            ],
            "image/png": "[encoded data removed]"
          },
          "metadata": {}
        }
      ],
      "source": [
        "if Enable_Line_Graph:\n",
        "    train_accuracies = torch.tensor(train_accuracies, device='cpu')\n",
        "    val_accuracies = torch.tensor(val_accuracies, device='cpu')\n",
        "    plot_loss_acc(train_losses, val_losses, train_accuracies, val_accuracies)"
      ]
    },
    {
      "cell_type": "code",
      "execution_count": 16,
      "metadata": {
        "execution": {
          "iopub.execute_input": "2023-06-05T17:18:16.749820Z",
          "iopub.status.busy": "2023-06-05T17:18:16.749271Z",
          "iopub.status.idle": "2023-06-05T17:18:16.760796Z",
          "shell.execute_reply": "2023-06-05T17:18:16.759877Z",
          "shell.execute_reply.started": "2023-06-05T17:18:16.749788Z"
        },
        "id": "c5uP3MlnrhaX"
      },
      "outputs": [],
      "source": [
        "def calculat_acc(output, target, num_char):\n",
        "    output = output.to('cpu')\n",
        "    target = target.to('cpu')\n",
        "    answer = []\n",
        "    for case in target:\n",
        "        target_text = ''\n",
        "        for t in case:\n",
        "            target_text += alphabets[t]\n",
        "        answer.append(target_text)\n",
        "    \n",
        "    output = output.permute(1, 0, 2)\n",
        "    output = output.log_softmax(2)\n",
        "    output = output.argmax(2)\n",
        "    output = output.cpu().detach().numpy()\n",
        "    \n",
        "    correct_list = []\n",
        "    pred_text = []\n",
        "    for batch in output:\n",
        "        pred = ''\n",
        "        then = 0\n",
        "        for x in batch:\n",
        "            if then != x:\n",
        "                if x > 0 and x < len(alphabets):\n",
        "                    pred += alphabets[x]\n",
        "            then = x\n",
        "        pred_text.append(pred)\n",
        "        \n",
        "    for i, j in zip(answer, pred_text):\n",
        "        if i == j:\n",
        "            correct_list.append(1)\n",
        "        else:\n",
        "            correct_list.append(0)\n",
        "    \n",
        "    if len(correct_list) == 0:\n",
        "        return 0\n",
        "    else:\n",
        "        acc = sum(correct_list) / len(correct_list)\n",
        "    return acc"
      ]
    },
    {
      "cell_type": "code",
      "execution_count": 17,
      "metadata": {
        "execution": {
          "iopub.execute_input": "2023-06-05T17:18:16.762514Z",
          "iopub.status.busy": "2023-06-05T17:18:16.762172Z",
          "iopub.status.idle": "2023-06-05T17:18:16.773571Z",
          "shell.execute_reply": "2023-06-05T17:18:16.772588Z",
          "shell.execute_reply.started": "2023-06-05T17:18:16.762482Z"
        },
        "id": "UxYE3EPjrhaY"
      },
      "outputs": [],
      "source": [
        "loss_fn = nn.CTCLoss()\n",
        "def compute_loss(output, target, num_char):\n",
        "    output = output.to('cpu')\n",
        "    target = target.to('cpu')\n",
        "    \n",
        "    T = output.size(0)\n",
        "    N = output.size(1)\n",
        "    \n",
        "    output_lengths = torch.full(size=(N,), fill_value=T, dtype=torch.int32)\n",
        "    target_lengths = torch.full(size=(N,), fill_value=num_char, dtype=torch.int32)\n",
        "    \n",
        "    loss = loss_fn(output, target, output_lengths, target_lengths)\n",
        "    return loss"
      ]
    },
    {
      "cell_type": "code",
      "execution_count": 18,
      "metadata": {
        "execution": {
          "iopub.execute_input": "2023-06-05T17:18:16.775468Z",
          "iopub.status.busy": "2023-06-05T17:18:16.775097Z",
          "iopub.status.idle": "2023-06-05T17:18:16.793588Z",
          "shell.execute_reply": "2023-06-05T17:18:16.792659Z",
          "shell.execute_reply.started": "2023-06-05T17:18:16.775437Z"
        },
        "id": "3wLcIGfJrhaY"
      },
      "outputs": [],
      "source": [
        "def model_fit(Task, model, epochs, optimizer, lr_scheduler, early_stopper\n",
        "             ,train_losses, val_losses, train_accuracies, val_accuracies\n",
        "             , best_model_wts, best_acc):\n",
        "    train_dl = None\n",
        "    val_dl = None\n",
        "    resize = None\n",
        "    num_captcha = 0\n",
        "    epcho_threshold = 0\n",
        "    train_epoch_loss = 0\n",
        "    \n",
        "    if Task == \"task1\":\n",
        "        train_dl = train_dl_Task1\n",
        "        val_dl = val_dl_Task1\n",
        "        resize = resize_Task1\n",
        "        num_captcha = 1\n",
        "        epcho_threshold = 40\n",
        "    \n",
        "    if Task == \"task2\":\n",
        "        train_dl = train_dl_Task2\n",
        "        val_dl = val_dl_Task2\n",
        "        resize = resize_Task2\n",
        "        num_captcha = 2\n",
        "        epcho_threshold = 40\n",
        "        \n",
        "    if Task == \"task3\":\n",
        "        train_dl = train_dl_Task3\n",
        "        val_dl = val_dl_Task3\n",
        "        resize = resize_Task3\n",
        "        num_captcha = 4\n",
        "        epcho_threshold = 25\n",
        "\n",
        "    train_label = torch.IntTensor([]).to('cpu')\n",
        "    val_label = torch.IntTensor([]).to('cpu')\n",
        "    train_pred = torch.IntTensor([]).to('cpu')\n",
        "    val_pred = torch.IntTensor([]).to('cpu')\n",
        "\n",
        "    for epoch in range(epochs):\n",
        "        print(f\"Epoch [{epoch}]\")\n",
        "        model.train()\n",
        "        epoch_loss = 0.0\n",
        "\n",
        "        #training\n",
        "        for image, label in train_dl:\n",
        "            image = image.to(device)\n",
        "            label = label.to(device)\n",
        "\n",
        "            pred = model(image)\n",
        "            loss =  compute_loss(pred, label, num_captcha)\n",
        "            optimizer.zero_grad()\n",
        "            loss.backward()\n",
        "            optimizer.step()\n",
        "            epoch_loss += loss.item()\n",
        "\n",
        "            train_pred = torch.cat((train_pred, pred.to('cpu')), dim=1)\n",
        "            train_label = torch.cat((train_label, label.to('cpu')), dim=0)\n",
        "\n",
        "        epoch_loss /= len(train_dl)\n",
        "        train_losses.append(epoch_loss)\n",
        "        train_accuracy = calculat_acc(train_pred, train_label, num_captcha)\n",
        "        train_accuracies.append(train_accuracy)\n",
        "        train_epoch_loss = epoch_loss\n",
        "        print(\"Epoch_loss:\", epoch_loss)\n",
        "        print(\"Accuracy (training):\", train_accuracy)\n",
        "\n",
        "        #validation\n",
        "        model.eval()\n",
        "        with torch.no_grad():\n",
        "            for image, label in val_dl:\n",
        "                image = image.to(device)\n",
        "                label = label.to(device)\n",
        "\n",
        "                image_size = image.size(0)\n",
        "                if image_size < val_dl.batch_size:\n",
        "                    tensor = torch.ones((val_dl.batch_size - image_size), resize, resize, channel)\n",
        "                    tensor = tensor.to(device)\n",
        "                    image = torch.cat((image, tensor),0)\n",
        "\n",
        "                pred= model(image)\n",
        "                pred = pred[: , :image_size, :]\n",
        "                loss = compute_loss(pred, label, num_captcha)\n",
        "\n",
        "                epoch_loss += loss.item()\n",
        "\n",
        "                val_pred = torch.cat((val_pred, pred.to('cpu')), dim=1)\n",
        "                val_label = torch.cat((val_label, label.to('cpu')), dim=0)\n",
        "\n",
        "        epoch_loss /= len(val_dl)\n",
        "        val_losses.append(epoch_loss)\n",
        "        val_accuracy = calculat_acc(val_pred, val_label, num_captcha)\n",
        "        val_accuracies.append(val_accuracy)\n",
        "        print(\"Epoch_loss:\", epoch_loss)\n",
        "        print(\"Accuracy (validation):\", val_accuracy)\n",
        "        \n",
        "\n",
        "        # Best model\n",
        "        #if val_accuracy > best_acc:\n",
        "        #    best_acc = val_accuracy\n",
        "        #    best_model_wts = copy.deepcopy(model.state_dict())\n",
        "        \n",
        "        if lr_scheduler is not None:\n",
        "            lr_scheduler.step(epoch_loss)\n",
        "        if epoch > epcho_threshold:\n",
        "            #Early stopping\n",
        "            if early_stopper.early_stop(epoch_loss, train_epoch_loss): \n",
        "                print(\"Early stopping!\")\n",
        "                break\n",
        "\n",
        "    print(\"Done!\")\n",
        "    '''\n",
        "    if Task == \"task1\":\n",
        "        torch.save(model.state_dict(), 'model_Task1.pt')\n",
        "    \n",
        "    if Task == \"task2\":\n",
        "        torch.save(model.state_dict(), 'model_Task2.pt')\n",
        "        \n",
        "    if Task == \"task3\":\n",
        "        torch.save(model.state_dict(), 'model_Task3.pt')\n",
        "    '''"
      ]
    },
    {
      "cell_type": "markdown",
      "metadata": {
        "id": "Zmb6_ADWprnb"
      },
      "source": [
        "# **Task 2**"
      ]
    },
    {
      "cell_type": "code",
      "execution_count": 19,
      "metadata": {
        "execution": {
          "iopub.execute_input": "2023-06-05T17:43:56.269805Z",
          "iopub.status.busy": "2023-06-05T17:43:56.269406Z",
          "iopub.status.idle": "2023-06-05T17:48:01.465204Z",
          "shell.execute_reply": "2023-06-05T17:48:01.462947Z",
          "shell.execute_reply.started": "2023-06-05T17:43:56.269772Z"
        },
        "id": "SOGRU9oUrhaZ",
        "scrolled": true,
        "outputId": "5c94d086-1d44-4afc-f9b0-4540a8d841f7",
        "colab": {
          "base_uri": "https://localhost:8080/"
        }
      },
      "outputs": [
        {
          "output_type": "stream",
          "name": "stdout",
          "text": [
            "Epoch [0]\n",
            "Epoch_loss: 1.2531588488724084\n",
            "Accuracy (training): 0.4785\n",
            "Epoch_loss: 1.5848165355902164\n",
            "Accuracy (validation): 0.6285714285714286\n",
            "Epoch [1]\n",
            "Epoch_loss: 0.6567390859127045\n",
            "Accuracy (training): 0.60175\n",
            "Epoch_loss: 0.7373483359813691\n",
            "Accuracy (validation): 0.676530612244898\n",
            "Epoch [2]\n",
            "Epoch_loss: 0.4910241737961769\n",
            "Accuracy (training): 0.6711666666666667\n",
            "Epoch_loss: 0.699503107368946\n",
            "Accuracy (validation): 0.7081632653061225\n",
            "Epoch [3]\n",
            "Epoch_loss: 0.3790815733373165\n",
            "Accuracy (training): 0.718\n",
            "Epoch_loss: 0.6372287981212139\n",
            "Accuracy (validation): 0.725\n",
            "Epoch [4]\n",
            "Epoch_loss: 0.3198602467775345\n",
            "Accuracy (training): 0.7549\n",
            "Epoch_loss: 0.6401428872346878\n",
            "Accuracy (validation): 0.7448979591836735\n",
            "Epoch [5]\n",
            "Epoch_loss: 0.27475754991173745\n",
            "Accuracy (training): 0.7844166666666667\n",
            "Epoch_loss: 0.6292364926636219\n",
            "Accuracy (validation): 0.758843537414966\n",
            "Epoch [6]\n",
            "Epoch_loss: 0.21793295592069625\n",
            "Accuracy (training): 0.8083571428571429\n",
            "Epoch_loss: 0.7340759548544884\n",
            "Accuracy (validation): 0.7653061224489796\n",
            "Epoch [7]\n",
            "Epoch_loss: 0.21329283025115728\n",
            "Accuracy (training): 0.828125\n",
            "Epoch_loss: 0.517689053826034\n",
            "Accuracy (validation): 0.7744897959183673\n",
            "Epoch [8]\n",
            "Epoch_loss: 0.16727288477122784\n",
            "Accuracy (training): 0.8447777777777777\n",
            "Epoch_loss: 0.6599984207004309\n",
            "Accuracy (validation): 0.7807256235827664\n",
            "Epoch [9]\n",
            "Epoch_loss: 0.14697428378276528\n",
            "Accuracy (training): 0.8588\n",
            "Epoch_loss: 0.6641679084952921\n",
            "Accuracy (validation): 0.7830612244897959\n",
            "Epoch [10]\n",
            "Epoch_loss: 0.14160057455301284\n",
            "Accuracy (training): 0.8705454545454545\n",
            "Epoch_loss: 0.5583558014035225\n",
            "Accuracy (validation): 0.7883116883116883\n",
            "Epoch [11]\n",
            "Epoch_loss: 0.11462949770502746\n",
            "Accuracy (training): 0.880625\n",
            "Epoch_loss: 0.658522520577535\n",
            "Accuracy (validation): 0.7931972789115647\n",
            "Epoch [12]\n",
            "Epoch_loss: 0.11309815216809511\n",
            "Accuracy (training): 0.8892307692307693\n",
            "Epoch_loss: 0.6141113892570138\n",
            "Accuracy (validation): 0.7973312401883831\n",
            "Epoch [13]\n",
            "Epoch_loss: 0.09801294095814228\n",
            "Accuracy (training): 0.8966785714285714\n",
            "Epoch_loss: 0.6459039244800806\n",
            "Accuracy (validation): 0.8014577259475218\n",
            "Epoch [14]\n",
            "Epoch_loss: 0.08793016634881497\n",
            "Accuracy (training): 0.9032666666666667\n",
            "Epoch_loss: 0.6219670283049344\n",
            "Accuracy (validation): 0.8043537414965987\n",
            "Epoch [15]\n",
            "Epoch_loss: 0.07558757709339262\n",
            "Accuracy (training): 0.90921875\n",
            "Epoch_loss: 0.7338784230686725\n",
            "Accuracy (validation): 0.8059948979591837\n",
            "Epoch [16]\n",
            "Epoch_loss: 0.08085950184613466\n",
            "Accuracy (training): 0.9145294117647059\n",
            "Epoch_loss: 0.6874437728896737\n",
            "Accuracy (validation): 0.8078031212484994\n",
            "Epoch [17]\n",
            "Epoch_loss: 0.07176513774320484\n",
            "Accuracy (training): 0.91925\n",
            "Epoch_loss: 0.6169312383793295\n",
            "Accuracy (validation): 0.8094104308390022\n",
            "Epoch [18]\n",
            "Epoch_loss: 0.06097026322968304\n",
            "Accuracy (training): 0.9234736842105263\n",
            "Epoch_loss: 0.7542229685280473\n",
            "Accuracy (validation): 0.8123523093447905\n",
            "Epoch [19]\n",
            "Epoch_loss: 0.06148129375651479\n",
            "Accuracy (training): 0.927275\n",
            "Epoch_loss: 0.6781779401935637\n",
            "Accuracy (validation): 0.8144897959183673\n",
            "Done!\n"
          ]
        }
      ],
      "source": [
        "model_Task2 = Model_CRNN().to(device)\n",
        "model_Task2.load_state_dict(torch.load(f'{PRETRAINED_WEIGHT_PATH}/model_Task3.pt'))\n",
        "optimizer = torch.optim.Adam(model_Task2.parameters(), lr=1e-4)\n",
        "lr_scheduler = None #torch.optim.lr_scheduler.ReduceLROnPlateau(optimizer, factor=0.75, verbose=True, patience=5)\n",
        "early_stopper = EarlyStopper(patience=8, min_delta=0.7, train_threshold=1)\n",
        "\n",
        "train_losses = []\n",
        "val_losses = []\n",
        "train_accuracies = []\n",
        "val_accuracies = []\n",
        "\n",
        "# Best model\n",
        "best_model_wts_Task2 = copy.deepcopy(model_Task2.state_dict())\n",
        "best_acc_Task2 = 0.0\n",
        "\n",
        "model_fit(\"task2\", model_Task2, 20, optimizer, lr_scheduler, early_stopper\n",
        "         ,train_losses, val_losses, train_accuracies, val_accuracies\n",
        "         , best_model_wts_Task2, best_acc_Task2)"
      ]
    },
    {
      "cell_type": "code",
      "execution_count": 20,
      "metadata": {
        "execution": {
          "iopub.status.busy": "2023-06-05T17:18:17.673401Z",
          "iopub.status.idle": "2023-06-05T17:18:17.674496Z",
          "shell.execute_reply": "2023-06-05T17:18:17.674273Z",
          "shell.execute_reply.started": "2023-06-05T17:18:17.674248Z"
        },
        "id": "V8335Wmwprnd",
        "outputId": "12e9c4f5-62c0-4cf6-ed3c-66c5deeb9936",
        "colab": {
          "base_uri": "https://localhost:8080/",
          "height": 927
        }
      },
      "outputs": [
        {
          "output_type": "display_data",
          "data": {
            "text/plain": [
              "<Figure size 640x480 with 1 Axes>"
            ],
            "image/png": "[encoded data removed]"
          },
          "metadata": {}
        },
        {
          "output_type": "display_data",
          "data": {
            "text/plain": [
              "<Figure size 640x480 with 1 Axes>"
            ],
            "image/png": "[encoded data removed]"
          },
          "metadata": {}
        }
      ],
      "source": [
        "if Enable_Line_Graph:\n",
        "    train_accuracies = torch.tensor(train_accuracies, device='cpu')\n",
        "    val_accuracies = torch.tensor(val_accuracies, device='cpu')\n",
        "    plot_loss_acc(train_losses, val_losses, train_accuracies, val_accuracies)"
      ]
    },
    {
      "cell_type": "markdown",
      "metadata": {
        "id": "QKRGUGSRprne"
      },
      "source": [
        "# **Task 3**"
      ]
    },
    {
      "cell_type": "code",
      "execution_count": 21,
      "metadata": {
        "execution": {
          "iopub.status.busy": "2023-06-05T17:18:17.675714Z",
          "iopub.status.idle": "2023-06-05T17:18:17.676524Z",
          "shell.execute_reply": "2023-06-05T17:18:17.676304Z",
          "shell.execute_reply.started": "2023-06-05T17:18:17.676280Z"
        },
        "id": "bRWKH69brhaa",
        "scrolled": true,
        "outputId": "2a4998ed-f03b-454f-b550-602ed5d1b54f",
        "colab": {
          "base_uri": "https://localhost:8080/"
        }
      },
      "outputs": [
        {
          "output_type": "stream",
          "name": "stdout",
          "text": [
            "Epoch [0]\n",
            "Epoch_loss: 1.5014996100217104\n",
            "Accuracy (training): 0.225625\n",
            "Epoch_loss: 1.1554550400469452\n",
            "Accuracy (validation): 0.3667953667953668\n",
            "Epoch [1]\n",
            "Epoch_loss: 0.8529488127678633\n",
            "Accuracy (training): 0.32765625\n",
            "Epoch_loss: 0.9020251443143934\n",
            "Accuracy (validation): 0.4137709137709138\n",
            "Epoch [2]\n",
            "Epoch_loss: 0.7051838599145412\n",
            "Accuracy (training): 0.3934375\n",
            "Epoch_loss: 0.811743266414851\n",
            "Accuracy (validation): 0.4598884598884599\n",
            "Epoch [3]\n",
            "Epoch_loss: 0.6006188178434968\n",
            "Accuracy (training): 0.44859375\n",
            "Epoch_loss: 0.6959919343935326\n",
            "Accuracy (validation): 0.49388674388674386\n",
            "Epoch [4]\n",
            "Epoch_loss: 0.5293657667934895\n",
            "Accuracy (training): 0.4930625\n",
            "Epoch_loss: 0.6309907981194556\n",
            "Accuracy (validation): 0.5163449163449163\n",
            "Epoch [5]\n",
            "Epoch_loss: 0.465544443577528\n",
            "Accuracy (training): 0.53109375\n",
            "Epoch_loss: 0.6182064539752901\n",
            "Accuracy (validation): 0.5362505362505362\n",
            "Epoch [6]\n",
            "Epoch_loss: 0.4153968822211027\n",
            "Accuracy (training): 0.5647767857142857\n",
            "Epoch_loss: 0.6713515461888164\n",
            "Accuracy (validation): 0.5558006986578415\n",
            "Epoch [7]\n",
            "Epoch_loss: 0.3665310014039278\n",
            "Accuracy (training): 0.594921875\n",
            "Epoch_loss: 0.6209026521537453\n",
            "Accuracy (validation): 0.5725546975546976\n",
            "Epoch [8]\n",
            "Epoch_loss: 0.3291665716096759\n",
            "Accuracy (training): 0.6228819444444444\n",
            "Epoch_loss: 0.6068012317409739\n",
            "Accuracy (validation): 0.5848705848705849\n",
            "Epoch [9]\n",
            "Epoch_loss: 0.2915738425217569\n",
            "Accuracy (training): 0.64734375\n",
            "Epoch_loss: 0.5443123157019727\n",
            "Accuracy (validation): 0.5978120978120978\n",
            "Epoch [10]\n",
            "Epoch_loss: 0.26532671274617314\n",
            "Accuracy (training): 0.6691761363636364\n",
            "Epoch_loss: 0.5535925073199905\n",
            "Accuracy (validation): 0.6127296127296127\n",
            "Epoch [11]\n",
            "Epoch_loss: 0.24206368206068873\n",
            "Accuracy (training): 0.6892447916666666\n",
            "Epoch_loss: 0.4246151050901972\n",
            "Accuracy (validation): 0.6245173745173745\n",
            "Epoch [12]\n",
            "Epoch_loss: 0.20847551664337516\n",
            "Accuracy (training): 0.7079086538461539\n",
            "Epoch_loss: 0.5262438526260667\n",
            "Accuracy (validation): 0.6336996336996337\n",
            "Epoch [13]\n",
            "Epoch_loss: 0.18967770598828793\n",
            "Accuracy (training): 0.7246875\n",
            "Epoch_loss: 0.42537803831510246\n",
            "Accuracy (validation): 0.6423055708769995\n",
            "Epoch [14]\n",
            "Epoch_loss: 0.16917780367657542\n",
            "Accuracy (training): 0.7402291666666667\n",
            "Epoch_loss: 0.44567787687992677\n",
            "Accuracy (validation): 0.6508794508794509\n",
            "Epoch [15]\n",
            "Epoch_loss: 0.1529554771259427\n",
            "Accuracy (training): 0.75421875\n",
            "Epoch_loss: 0.476048824028112\n",
            "Accuracy (validation): 0.658542471042471\n",
            "Epoch [16]\n",
            "Epoch_loss: 0.13830626278650016\n",
            "Accuracy (training): 0.7672426470588235\n",
            "Epoch_loss: 0.5941249917814275\n",
            "Accuracy (validation): 0.6625028389734272\n",
            "Epoch [17]\n",
            "Epoch_loss: 0.1256668414644082\n",
            "Accuracy (training): 0.7789583333333333\n",
            "Epoch_loss: 0.51221560868089\n",
            "Accuracy (validation): 0.6688116688116688\n",
            "Epoch [18]\n",
            "Epoch_loss: 0.11258585297036916\n",
            "Accuracy (training): 0.7897203947368421\n",
            "Epoch_loss: 0.4974771676497767\n",
            "Accuracy (validation): 0.6754724649461492\n",
            "Epoch [19]\n",
            "Epoch_loss: 0.10023105298751034\n",
            "Accuracy (training): 0.799640625\n",
            "Epoch_loss: 0.5079638103088655\n",
            "Accuracy (validation): 0.6822393822393822\n",
            "Epoch [20]\n",
            "Epoch_loss: 0.09212415682850406\n",
            "Accuracy (training): 0.8087202380952381\n",
            "Epoch_loss: 0.49736843167193\n",
            "Accuracy (validation): 0.6875651161365447\n",
            "Epoch [21]\n",
            "Epoch_loss: 0.08728430763585493\n",
            "Accuracy (training): 0.81703125\n",
            "Epoch_loss: 0.46045278893871\n",
            "Accuracy (validation): 0.6921141921141921\n",
            "Epoch [22]\n",
            "Epoch_loss: 0.07760715078984504\n",
            "Accuracy (training): 0.8246603260869565\n",
            "Epoch_loss: 0.4249582099314466\n",
            "Accuracy (validation): 0.6957081304907392\n",
            "Epoch [23]\n",
            "Epoch_loss: 0.07244729115700466\n",
            "Accuracy (training): 0.8317317708333334\n",
            "Epoch_loss: 0.5360630069103536\n",
            "Accuracy (validation): 0.7005577005577005\n",
            "Epoch [24]\n",
            "Epoch_loss: 0.06276405158860143\n",
            "Accuracy (training): 0.838275\n",
            "Epoch_loss: 0.5755906183312618\n",
            "Accuracy (validation): 0.7051737451737452\n",
            "Epoch [25]\n",
            "Epoch_loss: 0.05995895813975949\n",
            "Accuracy (training): 0.8443509615384616\n",
            "Epoch_loss: 0.518449681936545\n",
            "Accuracy (validation): 0.7088902088902089\n",
            "Epoch [26]\n",
            "Epoch_loss: 0.05549764996248996\n",
            "Accuracy (training): 0.8500115740740741\n",
            "Epoch_loss: 0.602197554416307\n",
            "Accuracy (validation): 0.7124743791410458\n",
            "Epoch [27]\n",
            "Epoch_loss: 0.053141239113756455\n",
            "Accuracy (training): 0.8553013392857143\n",
            "Epoch_loss: 0.5966452475422557\n",
            "Accuracy (validation): 0.7159404302261445\n",
            "Epoch [28]\n",
            "Epoch_loss: 0.04885936705977656\n",
            "Accuracy (training): 0.8602047413793104\n",
            "Epoch_loss: 0.6239123132436362\n",
            "Accuracy (validation): 0.7181910975014423\n",
            "Epoch [29]\n",
            "Epoch_loss: 0.048136728268218576\n",
            "Accuracy (training): 0.8648020833333333\n",
            "Epoch_loss: 0.6199563241577835\n",
            "Accuracy (validation): 0.7208923208923209\n",
            "Epoch [30]\n",
            "Epoch_loss: 0.042691088290894186\n",
            "Accuracy (training): 0.8691129032258065\n",
            "Epoch_loss: 0.6272037670726434\n",
            "Accuracy (validation): 0.7236268526591108\n",
            "Epoch [31]\n",
            "Epoch_loss: 0.042806706405826844\n",
            "Accuracy (training): 0.873173828125\n",
            "Epoch_loss: 0.5434018623800512\n",
            "Accuracy (validation): 0.725667631917632\n",
            "Epoch [32]\n",
            "Epoch_loss: 0.03776083052071044\n",
            "Accuracy (training): 0.876998106060606\n",
            "Epoch_loss: 0.6107880593090158\n",
            "Accuracy (validation): 0.7270777270777271\n",
            "Epoch [33]\n",
            "Epoch_loss: 0.04122531803295715\n",
            "Accuracy (training): 0.8805882352941177\n",
            "Epoch_loss: 0.5865316619374425\n",
            "Accuracy (validation): 0.7290862290862291\n",
            "Epoch [34]\n",
            "Epoch_loss: 0.0363663392199669\n",
            "Accuracy (training): 0.8839821428571428\n",
            "Epoch_loss: 0.6098215947167773\n",
            "Accuracy (validation): 0.731347674204817\n",
            "Epoch [35]\n",
            "Epoch_loss: 0.038866298158609425\n",
            "Accuracy (training): 0.8871875\n",
            "Epoch_loss: 0.6107066145489171\n",
            "Accuracy (validation): 0.7334834834834835\n",
            "Epoch [36]\n",
            "Epoch_loss: 0.033905426527780946\n",
            "Accuracy (training): 0.8902195945945945\n",
            "Epoch_loss: 0.6037266415687554\n",
            "Accuracy (validation): 0.7351907892448433\n",
            "Epoch [37]\n",
            "Epoch_loss: 0.031058265434694476\n",
            "Accuracy (training): 0.8931003289473685\n",
            "Epoch_loss: 0.7128358351274073\n",
            "Accuracy (validation): 0.7372146582672898\n",
            "Epoch [38]\n",
            "Epoch_loss: 0.03413913731492357\n",
            "Accuracy (training): 0.8958333333333334\n",
            "Epoch_loss: 0.6583423516212861\n",
            "Accuracy (validation): 0.7382107382107382\n",
            "Epoch [39]\n",
            "Epoch_loss: 0.031845982147387986\n",
            "Accuracy (training): 0.8984296875\n",
            "Epoch_loss: 0.6074651101322388\n",
            "Accuracy (validation): 0.7393822393822393\n",
            "Epoch [40]\n",
            "Epoch_loss: 0.029916369709098944\n",
            "Accuracy (training): 0.9008993902439024\n",
            "Epoch_loss: 0.6067576959471808\n",
            "Accuracy (validation): 0.7412499607621559\n",
            "Epoch [41]\n",
            "Epoch_loss: 0.028680160015937872\n",
            "Accuracy (training): 0.9032514880952381\n",
            "Epoch_loss: 0.623934263285264\n",
            "Accuracy (validation): 0.7426303854875284\n",
            "Epoch [42]\n",
            "Epoch_loss: 0.03027940682704866\n",
            "Accuracy (training): 0.9054941860465117\n",
            "Epoch_loss: 0.6330839332095479\n",
            "Accuracy (validation): 0.7440363951991859\n",
            "Epoch [43]\n",
            "Epoch_loss: 0.02485494151369494\n",
            "Accuracy (training): 0.9076349431818181\n",
            "Epoch_loss: 0.7050903418842154\n",
            "Accuracy (validation): 0.7449104949104949\n",
            "Epoch [44]\n",
            "Epoch_loss: 0.030374533642316237\n",
            "Accuracy (training): 0.9096805555555556\n",
            "Epoch_loss: 0.6671117254481942\n",
            "Accuracy (validation): 0.7459173459173459\n",
            "Epoch [45]\n",
            "Epoch_loss: 0.028001519985991763\n",
            "Accuracy (training): 0.9116372282608696\n",
            "Epoch_loss: 0.557386294373373\n",
            "Accuracy (validation): 0.7473000951261821\n",
            "Epoch [46]\n",
            "Epoch_loss: 0.023733470210572705\n",
            "Accuracy (training): 0.9135106382978724\n",
            "Epoch_loss: 0.7435301956247713\n",
            "Accuracy (validation): 0.7482406418576631\n",
            "Epoch [47]\n",
            "Epoch_loss: 0.031190756883006543\n",
            "Accuracy (training): 0.9153059895833333\n",
            "Epoch_loss: 0.6601961036431021\n",
            "Accuracy (validation): 0.7493564993564994\n",
            "Epoch [48]\n",
            "Epoch_loss: 0.02967630470811855\n",
            "Accuracy (training): 0.9170280612244898\n",
            "Epoch_loss: 0.6641326529843354\n",
            "Accuracy (validation): 0.7505844036456282\n",
            "Epoch [49]\n",
            "Epoch_loss: 0.02406988385337172\n",
            "Accuracy (training): 0.91868125\n",
            "Epoch_loss: 0.7071044120229999\n",
            "Accuracy (validation): 0.7516087516087516\n",
            "Done!\n"
          ]
        }
      ],
      "source": [
        "model_Task3 = Model_CRNN().to(device)\n",
        "model_Task3.load_state_dict(torch.load(f'{PRETRAINED_WEIGHT_PATH}/model_Task2.pt'))\n",
        "optimizer = torch.optim.Adam(model_Task3.parameters(), lr=1e-4)\n",
        "lr_scheduler = None #torch.optim.lr_scheduler.ReduceLROnPlateau(optimizer, factor=0.75, verbose=True, patience=5)\n",
        "early_stopper = EarlyStopper(patience=8, min_delta=0.7, train_threshold=1)\n",
        "\n",
        "train_losses = []\n",
        "val_losses = []\n",
        "train_accuracies = []\n",
        "val_accuracies = []\n",
        "\n",
        "# Best model\n",
        "best_model_wts_Task3 = copy.deepcopy(model_Task3.state_dict())\n",
        "best_acc_Task3 = 0.0\n",
        "\n",
        "model_fit(\"task3\", model_Task3, 50, optimizer, lr_scheduler, early_stopper\n",
        "         ,train_losses, val_losses, train_accuracies, val_accuracies\n",
        "         , best_model_wts_Task3, best_acc_Task3)"
      ]
    },
    {
      "cell_type": "code",
      "execution_count": 22,
      "metadata": {
        "execution": {
          "iopub.status.busy": "2023-06-05T17:18:17.677899Z",
          "iopub.status.idle": "2023-06-05T17:18:17.678489Z",
          "shell.execute_reply": "2023-06-05T17:18:17.678273Z",
          "shell.execute_reply.started": "2023-06-05T17:18:17.678251Z"
        },
        "id": "JryVw_fdprng",
        "outputId": "7a6f5407-d73d-4290-e614-9b7a51b85fe4",
        "colab": {
          "base_uri": "https://localhost:8080/",
          "height": 927
        }
      },
      "outputs": [
        {
          "output_type": "display_data",
          "data": {
            "text/plain": [
              "<Figure size 640x480 with 1 Axes>"
            ],
            "image/png": "[encoded data removed]"
          },
          "metadata": {}
        },
        {
          "output_type": "display_data",
          "data": {
            "text/plain": [
              "<Figure size 640x480 with 1 Axes>"
            ],
            "image/png": "[encoded data removed]"
          },
          "metadata": {}
        }
      ],
      "source": [
        "if Enable_Line_Graph:\n",
        "    train_accuracies = torch.tensor(train_accuracies, device='cpu')\n",
        "    val_accuracies = torch.tensor(val_accuracies, device='cpu')\n",
        "    plot_loss_acc(train_losses, val_losses, train_accuracies, val_accuracies)"
      ]
    },
    {
      "cell_type": "markdown",
      "metadata": {
        "id": "u6n_0OREprnh"
      },
      "source": [
        "# **Pred**"
      ]
    },
    {
      "cell_type": "code",
      "execution_count": 23,
      "metadata": {
        "execution": {
          "iopub.execute_input": "2023-06-05T17:42:50.151289Z",
          "iopub.status.busy": "2023-06-05T17:42:50.150539Z",
          "iopub.status.idle": "2023-06-05T17:42:50.189924Z",
          "shell.execute_reply": "2023-06-05T17:42:50.188841Z",
          "shell.execute_reply.started": "2023-06-05T17:42:50.151254Z"
        },
        "id": "0BVGsBzHprni",
        "outputId": "af254215-d9d6-48d4-ea5f-f2d4a4156acb",
        "colab": {
          "base_uri": "https://localhost:8080/"
        }
      },
      "outputs": [
        {
          "output_type": "stream",
          "name": "stdout",
          "text": [
            "test_data.shape:  (10001, 2)\n"
          ]
        }
      ],
      "source": [
        "test_data = []\n",
        "with open(f'{TEST_PATH}/../sample_submission.csv', newline='') as csvfile:\n",
        "    for row in csv.reader(csvfile, delimiter=','):\n",
        "        test_data.append(row)\n",
        "\n",
        "print(\"test_data.shape: \", np.array(test_data).shape)"
      ]
    },
    {
      "cell_type": "code",
      "execution_count": 24,
      "metadata": {
        "execution": {
          "iopub.execute_input": "2023-06-05T17:42:51.967362Z",
          "iopub.status.busy": "2023-06-05T17:42:51.966712Z",
          "iopub.status.idle": "2023-06-05T17:42:51.982623Z",
          "shell.execute_reply": "2023-06-05T17:42:51.981683Z",
          "shell.execute_reply.started": "2023-06-05T17:42:51.967328Z"
        },
        "id": "I2sYykHhprnj"
      },
      "outputs": [],
      "source": [
        "test_ds_Task1 = Task_Dataset(test_data, root=TEST_PATH, class_name = \"task1\", resize = resize_Task1, return_filename=True)\n",
        "test_dl_Task1 = DataLoader(test_ds_Task1, batch_size=100, num_workers=0, drop_last=False, shuffle=False)\n",
        "\n",
        "test_ds_Task2 = Task_Dataset(test_data, root=TEST_PATH, class_name = \"task2\", resize = resize_Task2, return_filename=True)\n",
        "test_dl_Task2 = DataLoader(test_ds_Task2, batch_size=100, num_workers=0, drop_last=False, shuffle=False)\n",
        "\n",
        "test_ds_Task3 = Task_Dataset(test_data, root=TEST_PATH, class_name = \"task3\", resize = resize_Task3, return_filename=True)\n",
        "test_dl_Task3 = DataLoader(test_ds_Task3, batch_size=100, num_workers=0, drop_last=False, shuffle=False)"
      ]
    },
    {
      "cell_type": "code",
      "execution_count": 25,
      "metadata": {
        "execution": {
          "iopub.execute_input": "2023-06-05T17:42:54.616248Z",
          "iopub.status.busy": "2023-06-05T17:42:54.615645Z",
          "iopub.status.idle": "2023-06-05T17:42:54.623564Z",
          "shell.execute_reply": "2023-06-05T17:42:54.622622Z",
          "shell.execute_reply.started": "2023-06-05T17:42:54.616213Z"
        },
        "id": "UsDu7XPUprnj",
        "outputId": "667e4fec-764f-41c5-83da-f8ae2466c5bb",
        "colab": {
          "base_uri": "https://localhost:8080/"
        }
      },
      "outputs": [
        {
          "output_type": "execute_result",
          "data": {
            "text/plain": [
              "16"
            ]
          },
          "metadata": {},
          "execution_count": 25
        }
      ],
      "source": [
        "output_filename = f'{OUTPUT_PATH}/submission.csv'\n",
        "if os.path.exists(output_filename):\n",
        "    os.remove(output_filename)\n",
        "csv_writer_submit = csv.writer(open(output_filename, 'w', newline=''))\n",
        "csv_writer_submit.writerow([\"filename\", \"label\"])"
      ]
    },
    {
      "cell_type": "markdown",
      "metadata": {
        "id": "jFBw74fJprnk"
      },
      "source": [
        "## **Task 1 pred**"
      ]
    },
    {
      "cell_type": "code",
      "execution_count": 26,
      "metadata": {
        "execution": {
          "iopub.execute_input": "2023-06-05T17:42:56.409599Z",
          "iopub.status.busy": "2023-06-05T17:42:56.406270Z",
          "iopub.status.idle": "2023-06-05T17:42:58.409447Z",
          "shell.execute_reply": "2023-06-05T17:42:58.406426Z",
          "shell.execute_reply.started": "2023-06-05T17:42:56.409557Z"
        },
        "id": "_FfVrjuZprnk",
        "outputId": "4d9fa9d9-c853-4106-83e4-c82da52eea2d",
        "colab": {
          "base_uri": "https://localhost:8080/"
        }
      },
      "outputs": [
        {
          "output_type": "stream",
          "name": "stdout",
          "text": [
            "Done!\n"
          ]
        }
      ],
      "source": [
        "counter_1 = 0\n",
        "\n",
        "model_Task1.eval()\n",
        "for image, filenames in test_dl_Task1:\n",
        "    image = image.to(device)\n",
        "    \n",
        "    image_size = image.size(0)\n",
        "    if image_size < test_dl_Task1.batch_size:\n",
        "        tensor = torch.ones((test_dl_Task1.batch_size - image_size), resize_Task1, resize_Task1, channel)\n",
        "        tensor = tensor.to(device)\n",
        "        image = torch.cat((image, tensor),0)\n",
        "    \n",
        "    pred = model_Task1(image)\n",
        "    pred = pred[0:image_size].to('cpu')\n",
        "    pred = torch.argmax(pred, dim=1)\n",
        "    \n",
        "    for i in range(len(filenames)):\n",
        "        csv_writer_submit.writerow([filenames[i], alphabets[pred[i].item()]])\n",
        "        counter_1 += 1\n",
        "\n",
        "print(\"Done!\")"
      ]
    },
    {
      "cell_type": "markdown",
      "metadata": {
        "id": "N1cQOdbiprnl"
      },
      "source": [
        "## **Task 2 pred**"
      ]
    },
    {
      "cell_type": "code",
      "execution_count": 27,
      "metadata": {
        "execution": {
          "iopub.status.busy": "2023-06-05T17:18:17.692173Z",
          "iopub.status.idle": "2023-06-05T17:18:17.692633Z",
          "shell.execute_reply": "2023-06-05T17:18:17.692413Z",
          "shell.execute_reply.started": "2023-06-05T17:18:17.692392Z"
        },
        "id": "0HAiNDckprnl",
        "outputId": "11fb454f-17eb-4036-dda7-05871625ecd7",
        "colab": {
          "base_uri": "https://localhost:8080/"
        }
      },
      "outputs": [
        {
          "output_type": "stream",
          "name": "stdout",
          "text": [
            "Done!\n"
          ]
        }
      ],
      "source": [
        "test_pred_Task2 = []\n",
        "counter_2 = 0\n",
        "\n",
        "model_Task2.eval()\n",
        "for image, filenames in test_dl_Task2:\n",
        "    image = image.to(device)\n",
        "    \n",
        "    image_size = image.size(0)\n",
        "    if image_size < test_dl_Task2.batch_size:\n",
        "        tensor = torch.ones((test_dl_Task2.batch_size - image_size), resize_Task2, resize_Task2, channel)\n",
        "        tensor = tensor.to(device)\n",
        "        image = torch.cat((image, tensor),0)\n",
        "\n",
        "    pred= model_Task2(image)\n",
        "    pred = pred[: , :image_size, :].to('cpu')\n",
        "    \n",
        "    \n",
        "    pred = pred.permute(1, 0, 2)\n",
        "    pred = pred.log_softmax(2)\n",
        "    pred = pred.argmax(2)\n",
        "    pred = pred.cpu().detach().numpy()\n",
        "    \n",
        "    correct_list = []\n",
        "    pred_text = []\n",
        "    then = 0\n",
        "    test_pred_Task2 = []\n",
        "    #print(\"output= \", output)\n",
        "    for batch in pred:\n",
        "        text = ''\n",
        "        for x in batch:\n",
        "            if then != x:\n",
        "                if x > 0 and x < len(alphabets):\n",
        "                    text += alphabets[x]\n",
        "            then = x\n",
        "        pred_text.append(text)\n",
        "        #print(\"pred= \", pred)\n",
        "        \n",
        "        \n",
        "    test_pred_Task2.extend(pred_text)\n",
        "    #print(\"test_pred_Task2= \", test_pred_Task2)\n",
        "    \n",
        "    \n",
        "    for i in range(len(filenames)):\n",
        "        #ans = \"\"\n",
        "        #for j in range(2):\n",
        "        #    ans += alphabets[test_pred_Task2[i][j]]\n",
        "        csv_writer_submit.writerow([filenames[i], test_pred_Task2[i]])\n",
        "        counter_2 += 1\n",
        "\n",
        "print(\"Done!\")"
      ]
    },
    {
      "cell_type": "markdown",
      "metadata": {
        "id": "3I12zUDFprnm"
      },
      "source": [
        "## **Task 3 pred**"
      ]
    },
    {
      "cell_type": "code",
      "execution_count": 28,
      "metadata": {
        "execution": {
          "iopub.status.busy": "2023-06-05T17:18:17.694221Z",
          "iopub.status.idle": "2023-06-05T17:18:17.694708Z",
          "shell.execute_reply": "2023-06-05T17:18:17.694466Z",
          "shell.execute_reply.started": "2023-06-05T17:18:17.694444Z"
        },
        "id": "UG-A-39dprnm",
        "outputId": "5396c896-ccc3-4892-f707-42429350a061",
        "colab": {
          "base_uri": "https://localhost:8080/"
        }
      },
      "outputs": [
        {
          "output_type": "stream",
          "name": "stdout",
          "text": [
            "Done!\n"
          ]
        }
      ],
      "source": [
        "test_pred_Task3 = []\n",
        "counter_3 = 0\n",
        "\n",
        "model_Task3.eval()\n",
        "for image, filenames in test_dl_Task3:\n",
        "    image = image.to(device)\n",
        "    \n",
        "    image_size = image.size(0)\n",
        "    if image_size < test_dl_Task3.batch_size:\n",
        "        tensor = torch.ones((test_dl_Task3.batch_size - image_size), resize_Task3, resize_Task3, channel)\n",
        "        tensor = tensor.to(device)\n",
        "        image = torch.cat((image, tensor),0)\n",
        "\n",
        "    \n",
        "    pred= model_Task3(image)\n",
        "    pred = pred[: , :image_size, :].to('cpu')\n",
        "    \n",
        "    \n",
        "    pred = pred.permute(1, 0, 2)\n",
        "    pred = pred.log_softmax(2)\n",
        "    pred = pred.argmax(2)\n",
        "    pred = pred.cpu().detach().numpy()\n",
        "    \n",
        "    correct_list = []\n",
        "    pred_text = []\n",
        "    then = 0\n",
        "    test_pred_Task3 = []\n",
        "    #print(\"output= \", output)\n",
        "    for batch in pred:\n",
        "        text = ''\n",
        "        for x in batch:\n",
        "            if then != x:\n",
        "                if x > 0 and x < len(alphabets):\n",
        "                    text += alphabets[x]\n",
        "            then = x\n",
        "        pred_text.append(text)\n",
        "        #print(\"pred= \", pred)\n",
        "        \n",
        "    test_pred_Task3.extend(pred_text)\n",
        "    #print(\"test_pred_Task3= \", test_pred_Task3)\n",
        "    \n",
        "    for i in range(len(filenames)):\n",
        "        csv_writer_submit.writerow([filenames[i], test_pred_Task3[i]])\n",
        "        counter_3 += 1\n",
        "print(\"Done!\")"
      ]
    },
    {
      "cell_type": "code",
      "execution_count": 29,
      "metadata": {
        "execution": {
          "iopub.status.busy": "2023-06-05T17:18:17.696305Z",
          "iopub.status.idle": "2023-06-05T17:18:17.696781Z",
          "shell.execute_reply": "2023-06-05T17:18:17.696545Z",
          "shell.execute_reply.started": "2023-06-05T17:18:17.696525Z"
        },
        "id": "XmjJDy6hprnv",
        "outputId": "18b39383-93ee-4035-e0d3-c759b82be800",
        "colab": {
          "base_uri": "https://localhost:8080/"
        }
      },
      "outputs": [
        {
          "output_type": "stream",
          "name": "stdout",
          "text": [
            "counter_1:  6500\n",
            "counter_2:  2500\n",
            "counter_3:  1000\n"
          ]
        }
      ],
      "source": [
        "csv_writer_submit = csv.writer(open(output_filename, 'a', newline=''))\n",
        "csv_writer_submit.writerow([])\n",
        "\n",
        "print(\"counter_1: \", counter_1)\n",
        "print(\"counter_2: \", counter_2)\n",
        "print(\"counter_3: \", counter_3)"
      ]
    },
    {
      "cell_type": "code",
      "execution_count": 29,
      "metadata": {
        "id": "pC1TweVTH-7Q"
      },
      "outputs": [],
      "source": []
    }
  ],
  "metadata": {
    "accelerator": "GPU",
    "colab": {
      "provenance": [],
      "gpuType": "T4"
    },
    "kernelspec": {
      "display_name": "Python 3",
      "name": "python3"
    },
    "language_info": {
      "codemirror_mode": {
        "name": "ipython",
        "version": 3
      },
      "file_extension": ".py",
      "mimetype": "text/x-python",
      "name": "python",
      "nbconvert_exporter": "python",
      "pygments_lexer": "ipython3",
      "version": "3.7.2"
    }
  },
  "nbformat": 4,
  "nbformat_minor": 0
}