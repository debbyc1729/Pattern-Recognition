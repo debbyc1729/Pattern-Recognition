{
 "cells": [
  {
   "cell_type": "code",
   "execution_count": 1,
   "metadata": {
    "id": "ZQD8NqPhKyBP"
   },
   "outputs": [],
   "source": [
    "import copy\n",
    "import pandas as pd\n",
    "import numpy as np\n",
    "import matplotlib.pyplot as plt\n",
    "from sklearn.metrics import accuracy_score # Please note that this is the only sklearn function that can be utilized."
   ]
  },
  {
   "cell_type": "markdown",
   "metadata": {
    "id": "YV1MHt_VTg9f"
   },
   "source": [
    "# Load data"
   ]
  },
  {
   "cell_type": "code",
   "execution_count": 2,
   "metadata": {
    "id": "a1vkTOD6K5Nj"
   },
   "outputs": [],
   "source": [
    "# Load the train/val/test dataset\n",
    "\n",
    "df_train = pd.DataFrame(pd.read_csv(\"./PR_HW3_Train.csv\"))\n",
    "df_val   = pd.DataFrame(pd.read_csv(\"./PR_HW3_Val.csv\"))\n",
    "df_test  = pd.DataFrame(pd.read_csv(\"./PR_HW3_Test.csv\"))\n",
    "#df_test  = pd.DataFrame(pd.read_csv(\"./PR_HW3_Test_Keep.csv\"))\n",
    "\n",
    "X_train = df_train[['Feature1', 'Feature2', 'Feature3', 'Feature4', 'Feature5', 'Feature6', 'Feature7']].to_numpy()\n",
    "y_train = df_train[\"Target\"].to_numpy()\n",
    "\n",
    "X_val = df_val[['Feature1', 'Feature2', 'Feature3', 'Feature4', 'Feature5', 'Feature6', 'Feature7']].to_numpy()\n",
    "y_val = df_val[\"Target\"].to_numpy()\n",
    "\n",
    "X_test = df_test[['Feature1', 'Feature2', 'Feature3', 'Feature4', 'Feature5', 'Feature6', 'Feature7']].to_numpy()\n",
    "y_test = df_test[\"Target\"].to_numpy()"
   ]
  },
  {
   "cell_type": "code",
   "execution_count": 3,
   "metadata": {
    "id": "MJcktFIuK78Y"
   },
   "outputs": [
    {
     "name": "stdout",
     "output_type": "stream",
     "text": [
      "(800, 7)\n",
      "(800,)\n",
      "(800, 7)\n",
      "(800,)\n",
      "(800, 7)\n",
      "(800,)\n"
     ]
    }
   ],
   "source": [
    "print(X_train.shape)\n",
    "print(y_train.shape)\n",
    "print(X_val.shape)\n",
    "print(y_val.shape)\n",
    "print(X_test.shape)\n",
    "print(y_test.shape)"
   ]
  },
  {
   "cell_type": "markdown",
   "metadata": {
    "id": "wa3hnJ9sTkvh"
   },
   "source": [
    "# Model Implementation"
   ]
  },
  {
   "cell_type": "code",
   "execution_count": 4,
   "metadata": {
    "id": "5e_nviB8LAK8"
   },
   "outputs": [],
   "source": [
    "def gini(sequence):\n",
    "    classes, counts = np.unique(sequence, return_counts=True)\n",
    "    impurity = 1.0\n",
    "    for count in counts:\n",
    "        prob = count / len(sequence)\n",
    "        impurity -= prob ** 2\n",
    "    return impurity\n",
    "    #probs = counts / len(sequence)\n",
    "    #impurity = np.sum(probs ** 2)\n",
    "    #return 1 - impurity\n",
    "\n",
    "\n",
    "def entropy(sequence):\n",
    "    classes, counts = np.unique(sequence, return_counts=True)\n",
    "    impurity = 0.0\n",
    "    for count in counts:\n",
    "        prob = count / len(sequence)\n",
    "        impurity += prob * np.log2(prob)\n",
    "    return -impurity\n",
    "    \n",
    "    #probs = counts / len(sequence)\n",
    "    #impurity = np.sum(probs * np.log2(probs))\n",
    "    #return 0 - impurity"
   ]
  },
  {
   "cell_type": "code",
   "execution_count": 5,
   "metadata": {
    "id": "_HJA_108LF_G"
   },
   "outputs": [],
   "source": [
    "class Tree():\n",
    "    \"\"\"\n",
    "        You can add/change any variables/methods to meet your need.\n",
    "    \"\"\"\n",
    "    def __init__(self):       \n",
    "        self.left = None\n",
    "        self.right = None\n",
    "        self.output = None\n",
    "        \n",
    "        self.samples = None\n",
    "        self.feature = None\n",
    "        self.threshold = None\n",
    "        self.gain = None\n"
   ]
  },
  {
   "cell_type": "code",
   "execution_count": 6,
   "metadata": {
    "id": "O_vgKCIwLdS0"
   },
   "outputs": [],
   "source": [
    "class DecisionTree():\n",
    "    def __init__(self, criterion='gini', max_depth=None, max_features=None):\n",
    "        \n",
    "        \"\"\"\n",
    "            You can add/change any variables/methods to meet your need.\n",
    "        \"\"\"\n",
    "\n",
    "        if criterion == 'gini':\n",
    "            self.criterion = gini\n",
    "        elif criterion == 'entropy':\n",
    "            self.criterion = entropy\n",
    "        \n",
    "        if max_depth is None:\n",
    "            self.max_depth = 1e9\n",
    "        else:\n",
    "            self.max_depth = max_depth\n",
    "\n",
    "        if max_features is None:\n",
    "            self.max_features = None\n",
    "        else:\n",
    "            self.max_features = int(max_features)\n",
    "        \n",
    "        self.importance = {}\n",
    "        self.root = None\n",
    "        self.n_features = None\n",
    "\n",
    "    def fit(self, X, y):\n",
    "        def build_tree(X, y, depth):\n",
    "            tree = Tree()\n",
    "            tree.samples = len(y)\n",
    "            if len(np.unique(y)) == 1:\n",
    "                tree.output = y[0]\n",
    "                return tree\n",
    "            \n",
    "            if depth >= self.max_depth:\n",
    "                tree.output = np.bincount(y).argmax()\n",
    "                return tree\n",
    "            \n",
    "            best_feature, best_threshold, best_gain = self.find_best_split(X, y)\n",
    "\n",
    "            \n",
    "            if best_feature is None or best_threshold is None:\n",
    "                tree.output = np.bincount(y).argmax()\n",
    "                return tree\n",
    "\n",
    "            tree.feature = best_feature\n",
    "            tree.threshold = best_threshold\n",
    "            tree.gain = best_gain\n",
    "\n",
    "            left_mask = []\n",
    "            right_mask = []\n",
    "            for i in range(len(X)):\n",
    "                if X[i, best_feature] <= best_threshold:\n",
    "                    left_mask.append(True)\n",
    "                    right_mask.append(False)\n",
    "                else:\n",
    "                    left_mask.append(False)\n",
    "                    right_mask.append(True)\n",
    "\n",
    "            tree.left = build_tree(X[left_mask], y[left_mask], depth + 1)\n",
    "            tree.right = build_tree(X[right_mask], y[right_mask], depth + 1)\n",
    "            \n",
    "            return tree\n",
    "        \n",
    "        self.n_features = X.shape[1]\n",
    "        y = y.astype(int)\n",
    "        self.root = build_tree(X, y, 0)\n",
    "\n",
    "    def find_best_split(self, X, y):\n",
    "        best_gain = -1\n",
    "        best_feature = None\n",
    "        best_threshold = None\n",
    "\n",
    "        if self.max_features is None:\n",
    "            feature_indices = range(self.n_features)\n",
    "        else:\n",
    "            feature_indices = np.random.choice(self.n_features, self.max_features, replace=False)\n",
    "\n",
    "        for feature in feature_indices:\n",
    "            column = X[:, feature]\n",
    "            thresholds = np.unique(column)\n",
    "            for threshold in thresholds:\n",
    "                y_left = y[column <= threshold]\n",
    "                y_right = y[column > threshold]\n",
    "\n",
    "                if len(y_left) == 0 or len(y_right) == 0:\n",
    "                    continue\n",
    "\n",
    "                gain = self.criterion(y) - len(y_left) / len(y) * self.criterion(y_left) - len(y_right) / len(y) * self.criterion(y_right)\n",
    "                \n",
    "                if gain > best_gain:\n",
    "                    best_gain = gain\n",
    "                    best_feature = feature\n",
    "                    best_threshold = threshold\n",
    "\n",
    "        return best_feature, best_threshold, best_gain\n",
    "    \n",
    "    \n",
    "    def predict(self, X):\n",
    "        predictions = np.empty(X.shape[0], dtype=int)\n",
    "        \n",
    "        for i, x in enumerate(X):\n",
    "            tree = self.root\n",
    "            while tree.threshold is not None:\n",
    "                if x[tree.feature] <= tree.threshold:\n",
    "                    tree = tree.left\n",
    "                else:\n",
    "                    tree = tree.right\n",
    "            \n",
    "            predictions[i] = tree.output\n",
    "            \n",
    "        return predictions\n",
    "\n",
    "    def countImportance(self):\n",
    "        if self.root is None:\n",
    "            raise Exception(\"Decision tree has not been fit yet.\")\n",
    "\n",
    "        def traverse_tree(tree, importance):\n",
    "            if tree is None:\n",
    "                return\n",
    "\n",
    "            if tree.feature is not None:\n",
    "                importance[tree.feature] += tree.samples / self.root.samples * tree.gain\n",
    "\n",
    "            traverse_tree(tree.left, importance)\n",
    "            traverse_tree(tree.right, importance)\n",
    "\n",
    "        self.importance = {i: 0 for i in range(self.n_features)}\n",
    "        traverse_tree(self.root, self.importance)"
   ]
  },
  {
   "cell_type": "code",
   "execution_count": 7,
   "metadata": {
    "id": "BE8wu0MGN_H-"
   },
   "outputs": [],
   "source": [
    "class RandomForest():\n",
    "    \"\"\"\n",
    "        You can add/change any variables/methods to meet your need.\n",
    "    \"\"\"\n",
    "    def __init__(self, n_estimators=10, max_features=None, boostrap=True, criterion='gini', max_depth=None):\n",
    "        \n",
    "        self.n_estimators = n_estimators\n",
    "        self.max_features = max_features\n",
    "        self.boostrap = boostrap\n",
    "        self.criterion = criterion\n",
    "        self.max_depth = max_depth\n",
    "        self.trees = []\n",
    "        \n",
    "    def fit(self, X, y):\n",
    "        for i in range(self.n_estimators):\n",
    "            tree = DecisionTree(criterion = self.criterion, max_features = self.max_features, max_depth = self.max_depth)\n",
    "            \n",
    "            if self.boostrap:\n",
    "                samples_idx = np.random.choice(X.shape[0], X.shape[0], replace=True)\n",
    "                X_subset = X[samples_idx]\n",
    "                y_subset = y[samples_idx]\n",
    "            else:\n",
    "                y_subset = y\n",
    "            \n",
    "            tree.fit(X_subset, y_subset)\n",
    "            self.trees.append(tree)\n",
    "\n",
    "    def predict(self, X):\n",
    "        predictions = np.zeros((X.shape[0], len(self.trees)))\n",
    "        for i, tree in enumerate(self.trees):\n",
    "            predictions[:, i] = tree.predict(X)\n",
    "            \n",
    "        # majority vote\n",
    "        def majority_vote(x):\n",
    "            counts = np.bincount(x.astype(int))\n",
    "            return np.argmax(counts)\n",
    "        \n",
    "        return np.apply_along_axis(majority_vote, axis=1, arr=predictions)"
   ]
  },
  {
   "cell_type": "markdown",
   "metadata": {
    "id": "RPUsaCh2T9Fs"
   },
   "source": [
    "# Questions for Decision Tree"
   ]
  },
  {
   "cell_type": "code",
   "execution_count": 8,
   "metadata": {
    "id": "zSB-Uqp4OaaX"
   },
   "outputs": [
    {
     "name": "stdout",
     "output_type": "stream",
     "text": [
      "['+' '+' '+' '+' '+' '-']: entropy = 0.6500224216483541\n",
      "['+' '+' '+' '-' '-' '-']: entropy = 1.0\n",
      "['+' '-' '-' '-' '-' '-']: entropy = 0.6500224216483541\n",
      "\n",
      "['+' '+' '+' '+' '+' '-']: gini index = 0.2777777777777777\n",
      "['+' '+' '+' '-' '-' '-']: gini index = 0.5\n",
      "['+' '-' '-' '-' '-' '-']: gini index = 0.2777777777777777\n",
      "\n"
     ]
    }
   ],
   "source": [
    "# For Q1\n",
    "ex1 = np.array([\"+\", \"+\", \"+\", \"+\", \"+\", \"-\"])\n",
    "ex2 = np.array([\"+\", \"+\", \"+\", \"-\", \"-\", \"-\"])\n",
    "ex3 = np.array([\"+\" ,\"-\", \"-\", \"-\", \"-\", \"-\"])\n",
    "\n",
    "print(f\"{ex1}: entropy = {entropy(ex1)}\\n{ex2}: entropy = {entropy(ex2)}\\n{ex3}: entropy = {entropy(ex3)}\\n\")\n",
    "print(f\"{ex1}: gini index = {gini(ex1)}\\n{ex2}: gini index = {gini(ex2)}\\n{ex3}: gini index = {gini(ex3)}\\n\")"
   ]
  },
  {
   "cell_type": "code",
   "execution_count": 9,
   "metadata": {
    "id": "G_t9N9fnOdon"
   },
   "outputs": [
    {
     "name": "stdout",
     "output_type": "stream",
     "text": [
      "Q2-1 max_depth=3:  0.73125\n"
     ]
    }
   ],
   "source": [
    "# For Q2-1, validation accuracy should be higher than or equal to 0.73\n",
    "\n",
    "np.random.seed(0) # You may adjust the seed number in all the cells\n",
    "\n",
    "dt_depth3 = DecisionTree(criterion='gini', max_features=None, max_depth=3)\n",
    "dt_depth3.fit(X_train, y_train)\n",
    "\n",
    "acc = accuracy_score(y_val, dt_depth3.predict(X_val))\n",
    "\n",
    "print(\"Q2-1 max_depth=3: \", acc)"
   ]
  },
  {
   "cell_type": "code",
   "execution_count": 10,
   "metadata": {
    "id": "T0HcgzMdjHRP"
   },
   "outputs": [],
   "source": [
    "\"\"\" Do Not Modify Below \"\"\"\n",
    "\n",
    "from sklearn.tree import DecisionTreeClassifier as SK_DecisionTreeClassifier\n",
    "\n",
    "sk_dt = SK_DecisionTreeClassifier(criterion='gini', max_depth=3)\n",
    "sk_dt.fit(X_train, y_train)\n",
    "sk_acc = accuracy_score(y_val, sk_dt.predict(X_val))\n",
    "\n",
    "assert round(acc, 3) == round(sk_acc, 3), \"Because the Decision Tree without any trick has a fixed answer, your accuracy should be the same as sklearn, otherwise your implementation might have some problems\""
   ]
  },
  {
   "cell_type": "code",
   "execution_count": 11,
   "metadata": {
    "id": "SjCPMr-eQ7jn"
   },
   "outputs": [
    {
     "name": "stdout",
     "output_type": "stream",
     "text": [
      "Q2-2 max_depth=10:  0.86375\n"
     ]
    }
   ],
   "source": [
    "# For Q2-2, validation accuracy should be higher than or equal to 0.85\n",
    "\n",
    "np.random.seed(0)\n",
    "\n",
    "dt_depth10 = DecisionTree(criterion='gini', max_features=None, max_depth=10)\n",
    "dt_depth10.fit(X_train, y_train)\n",
    "\n",
    "print(\"Q2-2 max_depth=10: \", accuracy_score(y_val,  dt_depth10.predict(X_val)))"
   ]
  },
  {
   "cell_type": "code",
   "execution_count": 12,
   "metadata": {
    "id": "iTbxGPrbO2jT"
   },
   "outputs": [
    {
     "name": "stdout",
     "output_type": "stream",
     "text": [
      "Q3-1 criterion='gini':  0.73125\n"
     ]
    }
   ],
   "source": [
    "# For Q3-1, validation accuracy should be higher than or equal to 0.73\n",
    "\n",
    "np.random.seed(0)\n",
    "\n",
    "dt_gini = DecisionTree(criterion='gini', max_features=None, max_depth=3)\n",
    "dt_gini.fit(X_train, y_train)\n",
    "\n",
    "print(\"Q3-1 criterion='gini': \", accuracy_score(y_val, dt_gini.predict(X_val)))\n"
   ]
  },
  {
   "cell_type": "code",
   "execution_count": 13,
   "metadata": {
    "id": "1XG7eAKUQ-YU"
   },
   "outputs": [
    {
     "name": "stdout",
     "output_type": "stream",
     "text": [
      "Q3-2 criterion='entropy':  0.76875\n"
     ]
    }
   ],
   "source": [
    "# For Q3-2, validation accuracy should be higher than or equal to 0.77\n",
    "\n",
    "np.random.seed(0)\n",
    "\n",
    "dt_entropy = DecisionTree(criterion='entropy', max_features=None, max_depth=3)\n",
    "dt_entropy.fit(X_train, y_train)\n",
    "\n",
    "print(\"Q3-2 criterion='entropy': \", accuracy_score(y_val, dt_entropy.predict(X_val)))"
   ]
  },
  {
   "cell_type": "code",
   "execution_count": 14,
   "metadata": {
    "id": "joE89xabPsXg"
   },
   "outputs": [
    {
     "data": {
      "image/png": "[encoded data removed]",
      "text/plain": [
       "<Figure size 432x288 with 1 Axes>"
      ]
     },
     "metadata": {
      "needs_background": "light"
     },
     "output_type": "display_data"
    }
   ],
   "source": [
    "# For Q4\n",
    "\n",
    "# Use simply counting to get the feature importance: dt_depth10.importance\n",
    "\n",
    "dt_depth10.countImportance()\n",
    "#print(\"dt_depth10.importance\", dt_depth10.importance)\n",
    "\n",
    "importance_sorted = sorted(zip(dt_depth10.importance.values(), dt_depth10.importance.keys()))\n",
    "importance_values = [val[0] for val in importance_sorted]\n",
    "\n",
    "\n",
    "labelList=['Feature1', 'Feature2', 'Feature3', 'Feature4', 'Feature5', 'Feature6', 'Feature7']\n",
    "\n",
    "plt.title('Feature Importance')\n",
    "\n",
    "plt.barh(range(len(importance_values)), importance_values)\n",
    "plt.yticks(range(len(labelList)), labelList)\n",
    "\n",
    "plt.show()"
   ]
  },
  {
   "cell_type": "markdown",
   "metadata": {
    "id": "Wg97qz_xUGfP"
   },
   "source": [
    "# Questions for Random Rorest"
   ]
  },
  {
   "cell_type": "code",
   "execution_count": 15,
   "metadata": {
    "id": "SlrdIW1ERJ8F"
   },
   "outputs": [
    {
     "name": "stdout",
     "output_type": "stream",
     "text": [
      "Q5-1 n_estimators=10:  0.89\n"
     ]
    }
   ],
   "source": [
    "# For Q5-1, validation accuracy should be higher than or equal to 0.88\n",
    "\n",
    "np.random.seed(0)\n",
    "\n",
    "rf_estimators10 = RandomForest(n_estimators=10, max_features=np.sqrt(X_train.shape[1]), boostrap=True, criterion='gini', max_depth=None)\n",
    "rf_estimators10.fit(X_train, y_train)\n",
    "\n",
    "print(\"Q5-1 n_estimators=10: \", accuracy_score(y_val, rf_estimators10.predict(X_val)))"
   ]
  },
  {
   "cell_type": "code",
   "execution_count": 16,
   "metadata": {
    "id": "4qcLuIkbRUfM"
   },
   "outputs": [
    {
     "name": "stdout",
     "output_type": "stream",
     "text": [
      "Q5-2 n_estimators=50:  0.89875\n"
     ]
    }
   ],
   "source": [
    "# For Q5-2, validation accuracy should be higher than or equal to 0.89\n",
    "\n",
    "np.random.seed(0)\n",
    "\n",
    "rf_estimators50 = RandomForest(n_estimators=50, max_features=np.sqrt(X_train.shape[1]), boostrap=True, criterion='gini', max_depth=None)\n",
    "rf_estimators50.fit(X_train, y_train)\n",
    "\n",
    "print(\"Q5-2 n_estimators=50: \", accuracy_score(y_val, rf_estimators50.predict(X_val)))"
   ]
  },
  {
   "cell_type": "code",
   "execution_count": 17,
   "metadata": {
    "id": "n-DbniYhRYmM"
   },
   "outputs": [
    {
     "name": "stdout",
     "output_type": "stream",
     "text": [
      "Q6-1 max_features='sqrt':  0.89\n"
     ]
    }
   ],
   "source": [
    "# For Q6-1, validation accuracy should be higher than or equal to 0.88\n",
    "\n",
    "np.random.seed(0)\n",
    "\n",
    "rf_maxfeature_sqrt = RandomForest(n_estimators=10, max_features=np.sqrt(X_train.shape[1]), boostrap=True, criterion='gini', max_depth=None)\n",
    "rf_maxfeature_sqrt.fit(X_train, y_train)\n",
    "\n",
    "print(\"Q6-1 max_features='sqrt': \", accuracy_score(y_val,  rf_maxfeature_sqrt.predict(X_val)))"
   ]
  },
  {
   "cell_type": "code",
   "execution_count": 18,
   "metadata": {
    "id": "PF9yufSaRffn"
   },
   "outputs": [
    {
     "name": "stdout",
     "output_type": "stream",
     "text": [
      "Q6-2 max_features='All':  0.875\n"
     ]
    }
   ],
   "source": [
    "# For Q6-2, validation accuracy should be higher than or equal to 0.86\n",
    "\n",
    "np.random.seed(0)\n",
    "\n",
    "rf_maxfeature_none = RandomForest(n_estimators=10, max_features=None, boostrap=True, criterion='gini', max_depth=None)\n",
    "rf_maxfeature_none.fit(X_train, y_train)\n",
    "\n",
    "print(\"Q6-2 max_features='All': \", accuracy_score(y_val, rf_maxfeature_none.predict(X_val)))"
   ]
  },
  {
   "cell_type": "markdown",
   "metadata": {
    "id": "UjopdAZqUKbF"
   },
   "source": [
    "# Train your own model"
   ]
  },
  {
   "cell_type": "code",
   "execution_count": 19,
   "metadata": {},
   "outputs": [
    {
     "name": "stdout",
     "output_type": "stream",
     "text": [
      "your_model_RF:  0.91\n"
     ]
    }
   ],
   "source": [
    "# Build and train your model\n",
    "\n",
    "np.random.seed(220)\n",
    "\n",
    "your_model_RF = RandomForest(n_estimators=50, max_features=np.sqrt(X_train.shape[1]), boostrap=True, criterion='entropy', max_depth=None)\n",
    "your_model_RF.fit(X_train, y_train)\n",
    "\n",
    "print(\"your_model_RF: \", accuracy_score(y_val, your_model_RF.predict(X_val)))"
   ]
  },
  {
   "cell_type": "code",
   "execution_count": 20,
   "metadata": {
    "id": "5cmxQjK3Rja9"
   },
   "outputs": [
    {
     "name": "stdout",
     "output_type": "stream",
     "text": [
      "test_pred shape:  (800,)\n"
     ]
    }
   ],
   "source": [
    "test_pred = your_model_RF.predict(X_test)\n",
    "\n",
    "print(\"test_pred shape: \", test_pred.shape)"
   ]
  },
  {
   "cell_type": "code",
   "execution_count": 21,
   "metadata": {
    "id": "XCaZ4yFuR34B"
   },
   "outputs": [],
   "source": [
    "# output csv\n",
    "df_test = pd.DataFrame(pd.read_csv(\"./PR_HW3_Test.csv\"))\n",
    "df_test[\"Target\"] = test_pred\n",
    "df_test.to_csv(\"sample_output.csv\")"
   ]
  },
  {
   "cell_type": "code",
   "execution_count": null,
   "metadata": {},
   "outputs": [],
   "source": []
  }
 ],
 "metadata": {
  "colab": {
   "collapsed_sections": [
    "YV1MHt_VTg9f"
   ],
   "provenance": []
  },
  "kernelspec": {
   "display_name": "Python 3",
   "language": "python",
   "name": "python3"
  },
  "language_info": {
   "codemirror_mode": {
    "name": "ipython",
    "version": 3
   },
   "file_extension": ".py",
   "mimetype": "text/x-python",
   "name": "python",
   "nbconvert_exporter": "python",
   "pygments_lexer": "ipython3",
   "version": "3.8.5"
  }
 },
 "nbformat": 4,
 "nbformat_minor": 1
}
